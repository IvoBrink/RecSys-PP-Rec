{
 "cells": [
  {
   "cell_type": "code",
   "execution_count": 1,
   "metadata": {
    "ExecuteTime": {
     "end_time": "2024-06-11T07:58:56.802485Z",
     "start_time": "2024-06-11T07:58:50.812875Z"
    }
   },
   "outputs": [],
   "source": [
    "%load_ext autoreload\n",
    "%autoreload 2\n",
    "\n",
    "from NewsContent import *\n",
    "from UserContent import *\n",
    "from preprocessing import *\n",
    "from PEGenerator import *\n",
    "import PEGenerator\n",
    "from models import *\n",
    "from utils import *\n",
    "from Encoders import *\n",
    "\n",
    "import os\n",
    "import numpy as np\n",
    "import json\n",
    "import random"
   ]
  },
  {
   "cell_type": "code",
   "outputs": [
    {
     "name": "stdout",
     "output_type": "stream",
     "text": [
      "1\tU13740\t11/11/2019 9:05:58 AM\tN55189 N42782 N34694 N45794 N18445 N63302 N10414 N19347 N31801\tN55689-1 N35729-0\n",
      "\n",
      "2\tU91836\t11/12/2019 6:11:30 PM\tN31739 N6072 N63045 N23979 N35656 N43353 N8129 N1569 N17686 N13008 N21623 N6233 N14340 N48031 N62285 N44383 N23061 N16290 N6244 N45099 N58715 N59049 N7023 N50528 N42704 N46082 N8275 N15710 N59026 N8429 N30867 N56514 N19709 N31402 N31741 N54889 N9798 N62612 N2663 N16617 N6087 N13231 N63317 N61388 N59359 N51163 N30698 N34567 N54225 N32852 N55833 N64467 N3142 N13912 N29802 N44462 N29948 N4486 N5398 N14761 N47020 N65112 N31699 N37159 N61101 N14761 N3433 N10438 N61355 N21164 N22976 N2511 N48390 N58224 N48742 N35458 N24611 N37509 N21773 N41011 N19041 N25785\tN20678-0 N39317-0 N58114-0 N20495-0 N42977-0 N22407-0 N14592-0 N17059-1 N33677-0 N7821-0 N6890-0\n"
     ]
    }
   ],
   "source": [
    "path = '../data/MIND/train/behaviors.tsv'\n",
    "with open(path,'r', encoding=\"utf8\") as f:\n",
    "    lines = f.readlines()\n",
    "    for idx, line in enumerate(lines):\n",
    "        print(line)\n",
    "        if idx == 1:\n",
    "            break"
   ],
   "metadata": {
    "collapsed": false,
    "ExecuteTime": {
     "end_time": "2024-06-11T08:13:11.396037Z",
     "start_time": "2024-06-11T08:13:10.849043Z"
    }
   },
   "execution_count": 9
  },
  {
   "cell_type": "code",
   "outputs": [
    {
     "name": "stdout",
     "output_type": "stream",
     "text": [
      "N55528\tlifestyle\tlifestyleroyals\tThe Brands Queen Elizabeth, Prince Charles, and Prince Philip Swear By\tShop the notebooks, jackets, and more that the royals can't live without.\thttps://assets.msn.com/labs/mind/AAGH0ET.html\t[{\"Label\": \"Prince Philip, Duke of Edinburgh\", \"Type\": \"P\", \"WikidataId\": \"Q80976\", \"Confidence\": 1.0, \"OccurrenceOffsets\": [48], \"SurfaceForms\": [\"Prince Philip\"]}, {\"Label\": \"Charles, Prince of Wales\", \"Type\": \"P\", \"WikidataId\": \"Q43274\", \"Confidence\": 1.0, \"OccurrenceOffsets\": [28], \"SurfaceForms\": [\"Prince Charles\"]}, {\"Label\": \"Elizabeth II\", \"Type\": \"P\", \"WikidataId\": \"Q9682\", \"Confidence\": 0.97, \"OccurrenceOffsets\": [11], \"SurfaceForms\": [\"Queen Elizabeth\"]}]\t[]\n",
      "\n",
      "N19639\thealth\tweightloss\t50 Worst Habits For Belly Fat\tThese seemingly harmless habits are holding you back and keeping you from shedding that unwanted belly fat for good.\thttps://assets.msn.com/labs/mind/AAB19MK.html\t[{\"Label\": \"Adipose tissue\", \"Type\": \"C\", \"WikidataId\": \"Q193583\", \"Confidence\": 1.0, \"OccurrenceOffsets\": [20], \"SurfaceForms\": [\"Belly Fat\"]}]\t[{\"Label\": \"Adipose tissue\", \"Type\": \"C\", \"WikidataId\": \"Q193583\", \"Confidence\": 1.0, \"OccurrenceOffsets\": [97], \"SurfaceForms\": [\"belly fat\"]}]\n"
     ]
    }
   ],
   "source": [
    "path = '../data/MIND/train/news.tsv'\n",
    "with open(path,'r', encoding=\"utf8\") as f:\n",
    "    lines = f.readlines()\n",
    "    for idx, line in enumerate(lines):\n",
    "        print(line)\n",
    "        if idx == 1:\n",
    "            break"
   ],
   "metadata": {
    "collapsed": false,
    "ExecuteTime": {
     "end_time": "2024-06-11T08:03:32.935053Z",
     "start_time": "2024-06-11T08:03:32.544052Z"
    }
   },
   "execution_count": 8
  },
  {
   "cell_type": "code",
   "outputs": [
    {
     "name": "stdout",
     "output_type": "stream",
     "text": [
      "P31\t-0.073467\t-0.132227\t0.034173\t-0.032769\t0.008289\t-0.107088\t-0.031712\t-0.039581\t0.101882\t-0.106961\t-0.053441\t0.068202\t-0.045584\t-0.140448\t-0.079402\t0.001022\t0.059921\t-0.062510\t0.102848\t0.077947\t-0.063644\t0.050070\t-0.019180\t0.064456\t-0.052222\t0.071078\t-0.036413\t-0.039235\t0.137947\t0.067378\t-0.137468\t0.103482\t0.121755\t-0.006587\t0.063077\t-0.024954\t-0.031300\t-0.056833\t-0.139115\t-0.053570\t0.165815\t-0.022143\t0.006561\t-0.108691\t-0.149139\t0.080943\t0.054542\t-0.034564\t0.082343\t-0.095843\t-0.068758\t0.013850\t-0.025589\t-0.012451\t0.116367\t-0.066981\t-0.006472\t0.136078\t-0.057084\t-0.066427\t-0.035916\t-0.028447\t-0.070395\t-0.052364\t-0.040038\t0.037342\t-0.073347\t0.112529\t0.106537\t0.107426\t0.086297\t0.085833\t0.054393\t0.053187\t0.066242\t0.058507\t-0.047180\t-0.086089\t0.050148\t0.053491\t-0.042370\t-0.110435\t-0.058929\t0.063987\t-0.037393\t-0.057942\t-0.032128\t0.141226\t-0.106979\t0.072183\t-0.045641\t-0.050068\t-0.053686\t-0.045389\t-0.037017\t0.117190\t-0.063597\t-0.056910\t0.058387\t-0.114056\t\n"
     ]
    }
   ],
   "source": [
    "path = '../data/MIND/train/relation_embedding.vec'\n",
    "with open(path,'r', encoding=\"utf8\") as f:\n",
    "    lines = f.readlines()\n",
    "    for line in lines:\n",
    "        print(line)\n",
    "        break"
   ],
   "metadata": {
    "collapsed": false,
    "ExecuteTime": {
     "end_time": "2024-06-11T07:58:58.056586Z",
     "start_time": "2024-06-11T07:58:57.851588Z"
    }
   },
   "execution_count": 4
  },
  {
   "cell_type": "code",
   "execution_count": 5,
   "metadata": {
    "ExecuteTime": {
     "end_time": "2024-06-11T07:58:58.257584Z",
     "start_time": "2024-06-11T07:58:58.059586Z"
    }
   },
   "outputs": [],
   "source": [
    "data_root_path = \"../data/MIND/train\"\n",
    "embedding_path = None\n",
    "KG_root_path = None\n",
    "popularity_path = '../popularity/'\n",
    "config = {'title_length':30,\n",
    "              'body_length':100,\n",
    "              'max_clicked_news':50,\n",
    "              'npratio':1,\n",
    "              'news_encoder_name':\"CNN\",\n",
    "              'user_encoder_name':\"Att\",\n",
    "             'attrs':['title','vert','entity'],\n",
    "             'word_filter':0,\n",
    "             'data_root_path':data_root_path,\n",
    "             'embedding_path':embedding_path,\n",
    "             'KG_root_path':KG_root_path,\n",
    "            'popularity_path':popularity_path,\n",
    "             'max_entity_num':5}"
   ]
  },
  {
   "cell_type": "code",
   "execution_count": 10,
   "metadata": {
    "scrolled": true,
    "ExecuteTime": {
     "end_time": "2024-06-11T08:35:17.505202Z",
     "start_time": "2024-06-11T08:35:16.705203Z"
    }
   },
   "outputs": [
    {
     "ename": "NameError",
     "evalue": "name 'News' is not defined",
     "output_type": "error",
     "traceback": [
      "\u001B[1;31m---------------------------------------------------------------------------\u001B[0m",
      "\u001B[1;31mNameError\u001B[0m                                 Traceback (most recent call last)",
      "Cell \u001B[1;32mIn[10], line 2\u001B[0m\n\u001B[0;32m      1\u001B[0m \u001B[38;5;66;03m# News = NewsContent(config)\u001B[39;00m\n\u001B[1;32m----> 2\u001B[0m TrainUsers \u001B[38;5;241m=\u001B[39m UserContent(\u001B[43mNews\u001B[49m\u001B[38;5;241m.\u001B[39mnews_index,config,\u001B[38;5;124m'\u001B[39m\u001B[38;5;124mbehaviors.tsv\u001B[39m\u001B[38;5;124m'\u001B[39m,\u001B[38;5;241m2\u001B[39m)\n\u001B[0;32m      3\u001B[0m \u001B[38;5;66;03m# ValidUsers = UserContent(News.news_index,config,'val.tsv',1)\u001B[39;00m\n\u001B[0;32m      4\u001B[0m \u001B[38;5;66;03m# TestUsers = UserContent(News.news_index,config,'test.tsv',2)\u001B[39;00m\n",
      "\u001B[1;31mNameError\u001B[0m: name 'News' is not defined"
     ]
    }
   ],
   "source": [
    "News = NewsContent(config)\n",
    "TrainUsers = UserContent(News.news_index,config,'behaviors.tsv',2)\n",
    "# ValidUsers = UserContent(News.news_index,config,'val.tsv',1)\n",
    "# TestUsers = UserContent(News.news_index,config,'test.tsv',2)"
   ]
  },
  {
   "cell_type": "code",
   "execution_count": null,
   "metadata": {},
   "outputs": [],
   "source": [
    "# train_sess,train_buckets, train_user_id, train_label = get_train_input(TrainUsers.session,News.news_index,config)\n",
    "# test_impressions, test_userids = get_test_input(TestUsers.session,News.news_index)\n",
    "# val_impressions, val_userids = get_test_input(ValidUsers.session,News.news_index)"
   ]
  },
  {
   "cell_type": "code",
   "execution_count": null,
   "metadata": {},
   "outputs": [],
   "source": [
    "# title_word_embedding_matrix, have_word = load_matrix(embedding_path,News.word_dict)"
   ]
  },
  {
   "cell_type": "code",
   "execution_count": null,
   "metadata": {
    "ExecuteTime": {
     "start_time": "2024-06-11T07:59:00.555968Z"
    }
   },
   "outputs": [],
   "source": []
  },
  {
   "cell_type": "code",
   "execution_count": null,
   "metadata": {},
   "outputs": [],
   "source": [
    "# train_generator = TrainGenerator(News,TrainUsers,train_sess,train_user_id,train_buckets,train_label,32)\n",
    "# test_user_generator = UserGenerator(News,TestUsers,32)\n",
    "# val_user_generator = UserGenerator(News,ValidUsers,32)\n",
    "# news_generator = NewsGenerator(News,32)"
   ]
  },
  {
   "cell_type": "code",
   "execution_count": null,
   "metadata": {
    "ExecuteTime": {
     "start_time": "2024-06-11T07:59:00.558967Z"
    }
   },
   "outputs": [],
   "source": []
  },
  {
   "cell_type": "code",
   "execution_count": null,
   "metadata": {
    "scrolled": true,
    "ExecuteTime": {
     "start_time": "2024-06-11T07:59:00.560967Z"
    }
   },
   "outputs": [],
   "source": [
    "# for i in range(10):\n",
    "#     model_config = {\n",
    "#         'news_encoder':1,\n",
    "#         'popularity_user_modeling':True,\n",
    "#         'rel':True,\n",
    "#         'ctr':True,\n",
    "#         'content':True,\n",
    "#         'rece_emb':True,\n",
    "#         'activity':True\n",
    "# \n",
    "#     }\n",
    "# \n",
    "#     model,user_encoder,news_encoder,bias_news_encoder,bias_content_scorer,scaler,time_embedding_layer,activity_gater = create_pe_model(config,model_config,News,title_word_embedding_matrix,News.entity_embedding)\n",
    "#     model.fit_generator(train_generator,epochs=2)\n",
    "#     news_scoring = news_encoder.predict_generator(news_generator,verbose=True)\n",
    "#     user_scoring = user_encoder.predict_generator(test_user_generator,verbose=True)\n",
    "#     val_user_scoring = user_encoder.predict_generator(val_user_generator,verbose=True)\n",
    "# \n",
    "# \n",
    "#     news_bias_vecs = bias_news_encoder.predict_generator(news_generator,verbose=True)\n",
    "# \n",
    "#     if model_config['content'] and not model_config['rece_emb']:\n",
    "#         bias_candidate_score = bias_content_scorer.predict(news_bias_vecs,batch_size=32,verbose=True)\n",
    "#         bias_candidate_score = bias_candidate_score[:,0]\n",
    "#     else:\n",
    "#         bias_candidate_score = 0\n",
    "# \n",
    "#     ctr_weight = scaler.get_weights()[0][0,0]\n",
    "#     time_embedding_matrix = time_embedding_layer.get_weights()[0]\n",
    "#     \n",
    "#     predicted_activity_gates = activity_gater.predict(user_scoring,verbose=True)\n",
    "#     predicted_activity_gates = predicted_activity_gates[:,0]\n",
    "#     \n",
    "#     val_predicted_activity_gates = activity_gater.predict(val_user_scoring,verbose=True)\n",
    "#     val_predicted_activity_gates = val_predicted_activity_gates[:,0]\n",
    "#     \n",
    "#     rankings = news_ranking(model_config,ctr_weight,predicted_activity_gates,user_scoring,news_scoring,\n",
    "#                                 bias_candidate_score,news_bias_vecs,time_embedding_matrix,bias_content_scorer,\n",
    "#                                 News,test_impressions)\n",
    "#     \n",
    "#     val_rankings = news_ranking(model_config,ctr_weight,val_predicted_activity_gates,val_user_scoring,news_scoring,\n",
    "#                                bias_candidate_score,news_bias_vecs,time_embedding_matrix,bias_content_scorer,\n",
    "#                                News,val_impressions)\n",
    "#     \n",
    "#     performance = evaluate_performance(rankings,test_impressions)\n",
    "#     val_performance = evaluate_performance(val_rankings,val_impressions)\n",
    "# \n",
    "#     cold = []\n",
    "#     for TOP_COLD_NUM in [0,1,3,5,]:\n",
    "#         g = evaluate_cold_users(rankings,test_impressions,TestUsers.click,TOP_COLD_NUM)\n",
    "#         cold.append(g)\n",
    "#     diversity = []\n",
    "#     for TOP_DIVERSITY_NUM in range(1,11):\n",
    "#         div_top = evaluate_diversity_topic_all(TOP_DIVERSITY_NUM,rankings,test_impressions,News,TestUsers)\n",
    "#         div_ilxd = evaluate_density_ILxD(TOP_DIVERSITY_NUM,rankings,test_impressions,news_scoring)\n",
    "#         diversity.append([div_top,div_ilxd])\n"
   ]
  }
 ],
 "metadata": {
  "kernelspec": {
   "display_name": "Python 3",
   "language": "python",
   "name": "python3"
  },
  "language_info": {
   "codemirror_mode": {
    "name": "ipython",
    "version": 3
   },
   "file_extension": ".py",
   "mimetype": "text/x-python",
   "name": "python",
   "nbconvert_exporter": "python",
   "pygments_lexer": "ipython3",
   "version": "3.11.5"
  }
 },
 "nbformat": 4,
 "nbformat_minor": 2
}
