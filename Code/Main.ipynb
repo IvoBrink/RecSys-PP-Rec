{
 "cells": [
  {
   "cell_type": "code",
   "execution_count": 40,
   "metadata": {
    "ExecuteTime": {
     "end_time": "2024-06-26T13:38:36.183786Z",
     "start_time": "2024-06-26T13:38:35.382779Z"
    }
   },
   "outputs": [
    {
     "name": "stdout",
     "output_type": "stream",
     "text": [
      "The autoreload extension is already loaded. To reload it, use:\n",
      "  %reload_ext autoreload\n"
     ]
    }
   ],
   "source": [
    "%load_ext autoreload\n",
    "%autoreload 2\n",
    "\n",
    "from NewsContent import *\n",
    "from UserContent import *\n",
    "from preprocessing import *\n",
    "from PEGenerator import *\n",
    "import PEGenerator\n",
    "from models import *\n",
    "from utils import *\n",
    "from Encoders import *\n",
    "\n",
    "import os\n",
    "import numpy as np\n",
    "import json\n",
    "import random"
   ]
  },
  {
   "cell_type": "code",
   "execution_count": 41,
   "metadata": {
    "collapsed": false,
    "ExecuteTime": {
     "end_time": "2024-06-26T13:38:36.449784Z",
     "start_time": "2024-06-26T13:38:36.189784Z"
    }
   },
   "outputs": [
    {
     "data": {
      "text/plain": "device(type='cuda')"
     },
     "execution_count": 41,
     "metadata": {},
     "output_type": "execute_result"
    }
   ],
   "source": [
    "device = torch.device(\"cuda\" if torch.cuda.is_available() else \"cpu\")\n",
    "device"
   ]
  },
  {
   "cell_type": "code",
   "execution_count": 42,
   "metadata": {
    "ExecuteTime": {
     "end_time": "2024-06-26T13:38:36.697779Z",
     "start_time": "2024-06-26T13:38:36.452781Z"
    }
   },
   "outputs": [],
   "source": [
    "data_root_path = \"../data/Challenge/\"\n",
    "embedding_path = \"../../\"\n",
    "KG_root_path = \"../data/Challenge/entity\"\n",
    "popularity_path = \"../data/Challenge/popularity\"\n",
    "config = {'title_length':30,\n",
    "              'body_length':100,\n",
    "              'max_clicked_news':50,\n",
    "              'npratio':1,\n",
    "              'news_encoder_name':\"CNN\",\n",
    "              'user_encoder_name':\"Att\",\n",
    "             'attrs':['title', 'entity','vert'],\n",
    "             'word_filter':0,\n",
    "             'data_root_path':data_root_path,\n",
    "             'embedding_path':embedding_path,\n",
    "             'KG_root_path':KG_root_path,\n",
    "            'popularity_path':popularity_path,\n",
    "            'batch_size': 32,\n",
    "             'max_entity_num':5}\n",
    "\n",
    "## ABLATION ##\n",
    "\n",
    "model_config1 = { # normal model\n",
    "        'news_encoder':1,\n",
    "        'popularity_user_modeling':True,\n",
    "        'rel':True,\n",
    "        'ctr':True,\n",
    "        'content':True,\n",
    "        'rece_emb':True,\n",
    "        'activity':True\n",
    "    }\n",
    "\n",
    "model_config2 = { # no popularity\n",
    "        'news_encoder':1,\n",
    "        'popularity_user_modeling':True,\n",
    "        'rel':True,\n",
    "        'ctr':False, #*\n",
    "        'content':True,\n",
    "        'rece_emb':True,\n",
    "        'activity':True\n",
    "    }\n",
    "\n",
    "\n",
    "model_config3 = { # recency\n",
    "        'news_encoder':1,\n",
    "        'popularity_user_modeling':True,\n",
    "        'rel':True,\n",
    "        'ctr':True,\n",
    "        'content':True,\n",
    "        'rece_emb':False, #*\n",
    "        'activity':True\n",
    "    }\n",
    "\n",
    "model_config4 = { # no relevancy\n",
    "        'news_encoder':1,\n",
    "        'popularity_user_modeling':True,\n",
    "        'rel':False, #*\n",
    "        'ctr':True,\n",
    "        'content':True,\n",
    "        'rece_emb':True,\n",
    "        'activity':True\n",
    "    }\n",
    "\n",
    "model_config5 = { # no content\n",
    "        'news_encoder':1,\n",
    "        'popularity_user_modeling':True,\n",
    "        'rel':True,\n",
    "        'ctr':True,\n",
    "        'content':False, #*\n",
    "        'rece_emb':True,\n",
    "        'activity':True\n",
    "    }\n",
    "\n",
    "\n",
    "model_config6 = { # no content\n",
    "        'news_encoder':1,\n",
    "        'popularity_user_modeling':False, #*\n",
    "        'rel':True,\n",
    "        'ctr':True,\n",
    "        'content':True,\n",
    "        'rece_emb':True,\n",
    "        'activity':True\n",
    "    }\n",
    "\n",
    "\n",
    "## EXTENSION ##\n"
   ]
  },
  {
   "cell_type": "code",
   "outputs": [],
   "source": [
    "model_config = model_config6"
   ],
   "metadata": {
    "collapsed": false,
    "ExecuteTime": {
     "end_time": "2024-06-26T13:38:36.934780Z",
     "start_time": "2024-06-26T13:38:36.700779Z"
    }
   },
   "execution_count": 43
  },
  {
   "cell_type": "code",
   "execution_count": 44,
   "metadata": {
    "scrolled": true,
    "ExecuteTime": {
     "end_time": "2024-06-26T13:47:46.460628Z",
     "start_time": "2024-06-26T13:38:36.936778Z"
    }
   },
   "outputs": [
    {
     "name": "stdout",
     "output_type": "stream",
     "text": [
      "232887\n",
      "24464\n",
      "48930\n"
     ]
    }
   ],
   "source": [
    "News = NewsContent(config)\n",
    "\n",
    "TrainUsers = UserContent(News.news_index,config,'train.tsv',2)\n",
    "ValidUsers = UserContent(News.news_index,config,'val.tsv',1)\n",
    "TestUsers = UserContent(News.news_index,config,'test.tsv',2)"
   ]
  },
  {
   "cell_type": "code",
   "execution_count": 45,
   "metadata": {
    "ExecuteTime": {
     "end_time": "2024-06-26T13:47:48.708152Z",
     "start_time": "2024-06-26T13:47:46.466631Z"
    }
   },
   "outputs": [
    {
     "name": "stdout",
     "output_type": "stream",
     "text": [
      "232887\n",
      "234277\n",
      "48930\n",
      "24464\n"
     ]
    }
   ],
   "source": [
    "train_sess,train_buckets, train_user_id, train_label = get_train_input(TrainUsers.session,News.news_index,config)\n",
    "test_impressions, test_userids = get_test_input(TestUsers.session,News.news_index)\n",
    "val_impressions, val_userids = get_test_input(ValidUsers.session,News.news_index)"
   ]
  },
  {
   "cell_type": "code",
   "execution_count": 46,
   "metadata": {
    "ExecuteTime": {
     "end_time": "2024-06-26T13:49:03.165408Z",
     "start_time": "2024-06-26T13:47:48.710152Z"
    }
   },
   "outputs": [],
   "source": [
    "title_word_embedding_matrix, have_word = load_matrix(embedding_path,News.word_dict)\n",
    "entity_embedding_matrix, have_word2 = load_matrix(embedding_path, News.entity_dict)"
   ]
  },
  {
   "cell_type": "code",
   "execution_count": 47,
   "metadata": {
    "ExecuteTime": {
     "end_time": "2024-06-26T13:49:05.323276Z",
     "start_time": "2024-06-26T13:49:03.170411Z"
    }
   },
   "outputs": [],
   "source": [
    "train_loader = DataLoader(TrainDataset(News, TrainUsers, train_sess, train_user_id, train_buckets, train_label), config['batch_size'])\n",
    "val_user_data = UserDataset(News,ValidUsers)\n",
    "test_user_data = UserDataset(News,TestUsers)\n",
    "news_data = NewsDataset(News)"
   ]
  },
  {
   "cell_type": "code",
   "execution_count": 48,
   "metadata": {
    "ExecuteTime": {
     "end_time": "2024-06-26T13:49:07.643116Z",
     "start_time": "2024-06-26T13:49:05.325278Z"
    }
   },
   "outputs": [
    {
     "name": "stdout",
     "output_type": "stream",
     "text": [
      "Moved news_encoder to cuda\n",
      "Moved bias_news_encoder to cuda\n",
      "Moved pop_aware_user_encoder to cuda\n",
      "Moved bias_scorer to cuda\n",
      "Moved activity_gater to cuda\n",
      "Moved time_embedding_layer to cuda\n",
      "Moved time_distributed1 to cuda\n",
      "Moved time_distributed2 to cuda\n",
      "Moved time_distributed3 to cuda\n",
      "Moved scaler to cuda\n",
      "Moved softmax to cuda\n"
     ]
    }
   ],
   "source": [
    "from torch.optim import Adam\n",
    "\n",
    "model,user_encoder,news_encoder,bias_news_encoder,bias_content_scorer,scaler,time_embedding_layer,activity_gater = \\\n",
    "create_pe_model(config, model_config, News, title_word_embedding_matrix, entity_embedding_matrix, device)\n",
    "\n",
    "model.to(device)\n",
    "for name, module in model.named_children():\n",
    "    module.to(device)\n",
    "    print(f'Moved {name} to {device}')\n",
    "\n"
   ]
  },
  {
   "cell_type": "code",
   "execution_count": 49,
   "metadata": {
    "ExecuteTime": {
     "end_time": "2024-06-26T13:49:07.889107Z",
     "start_time": "2024-06-26T13:49:07.651117Z"
    }
   },
   "outputs": [],
   "source": [
    "colds = [0,1,3,5]\n",
    "topKs = 10"
   ]
  },
  {
   "cell_type": "code",
   "execution_count": 50,
   "metadata": {
    "ExecuteTime": {
     "end_time": "2024-06-26T15:23:20.962456Z",
     "start_time": "2024-06-26T13:49:07.891110Z"
    }
   },
   "outputs": [
    {
     "name": "stderr",
     "output_type": "stream",
     "text": [
      "100%|██████████| 7322/7322 [21:12<00:00,  5.75it/s]\n"
     ]
    },
    {
     "name": "stdout",
     "output_type": "stream",
     "text": [
      "{0: 0, 1: 1, 3: 2, 5: 3}\n"
     ]
    },
    {
     "name": "stderr",
     "output_type": "stream",
     "text": [
      "100%|██████████| 24464/24464 [10:27<00:00, 38.98it/s]\n"
     ]
    },
    {
     "name": "stdout",
     "output_type": "stream",
     "text": [
      "epoch: 0, metrics: ([0.7331355262586816, 0.5148365988869711, 0.5734408795986045, 0.6127851933817108], [[nan, nan, nan, 0.72388498704716], [nan, nan, nan, 0.5104964051185683], [nan, nan, nan, 0.550610969100368], [nan, nan, nan, 0.5997508252858155]], [0.009470371497581412, 0.01865744128369672, 0.026043622294152535, 0.031021638081342763, 0.035655946674877946, 0.03875213034027551, 0.0410185440320044, 0.04219222255093544, 0.04344684441599964, 0.044883689485667136], [-6.532049241449569e-09, 0.28577904506514007, 0.37687651213792084, 0.41977830722616183, 0.444965803041869, 0.45856756743036353, 0.4663242288104376, 0.4711379461901651, 0.4741060449513366, 0.4759832600252234], [0.9999999934679508, 0.5715581010649452, 0.4256387094097873, 0.3582231318291844, 0.3195722929114918, 0.29894239643431514, 0.286108668716935, 0.2777424243853188, 0.27195392291386233, 0.2675670550537994])\n"
     ]
    },
    {
     "name": "stderr",
     "output_type": "stream",
     "text": [
      "100%|██████████| 7322/7322 [20:41<00:00,  5.90it/s]\n"
     ]
    },
    {
     "name": "stdout",
     "output_type": "stream",
     "text": [
      "{0: 0, 1: 1, 3: 2, 5: 3}\n"
     ]
    },
    {
     "name": "stderr",
     "output_type": "stream",
     "text": [
      "100%|██████████| 24464/24464 [10:33<00:00, 38.59it/s]\n"
     ]
    },
    {
     "name": "stdout",
     "output_type": "stream",
     "text": [
      "epoch: 1, metrics: ([0.7212129536234161, 0.5048916124454248, 0.5633855113826362, 0.6039440716677954], [[nan, nan, nan, 0.7111336117237997], [nan, nan, nan, 0.5096005509577385], [nan, nan, nan, 0.5472200356565731], [nan, nan, nan, 0.5964603985205157]], [0.0098346165551807, 0.017868344334701913, 0.02438428369842246, 0.03019206945928137, 0.0345227398290135, 0.038185526917343296, 0.04077571399360488, 0.04227316589706861, 0.04354812427446975, 0.04504557617793348], [-6.2348056728345575e-09, 0.2869977941450299, 0.37699875264672805, 0.4196215178415501, 0.44386514193671367, 0.4571305160076303, 0.4644192028218153, 0.46883476123291734, 0.4716584898794571, 0.4734270691864334], [0.9999999937651943, 0.5739955975984128, 0.42319872241986195, 0.3499252712871804, 0.30657185015601807, 0.28280285282207906, 0.2677389482161709, 0.2579350973009829, 0.2510057399835148, 0.24604510067139207])\n"
     ]
    },
    {
     "name": "stderr",
     "output_type": "stream",
     "text": [
      "100%|██████████| 7322/7322 [20:30<00:00,  5.95it/s]\n"
     ]
    },
    {
     "name": "stdout",
     "output_type": "stream",
     "text": [
      "{0: 0, 1: 1, 3: 2, 5: 3}\n"
     ]
    },
    {
     "name": "stderr",
     "output_type": "stream",
     "text": [
      "100%|██████████| 24464/24464 [10:45<00:00, 37.91it/s]\n"
     ]
    },
    {
     "name": "stdout",
     "output_type": "stream",
     "text": [
      "epoch: 2, metrics: ([0.7150974797478377, 0.49341703556426825, 0.5540988459797053, 0.5958825223599574], [[nan, nan, nan, 0.6925648004626794], [nan, nan, nan, 0.47782382484867914], [nan, nan, nan, 0.517394749602403], [nan, nan, nan, 0.572112534629809]], [0.008579994690116494, 0.016492307450437945, 0.0236153219101573, 0.029342164324883045, 0.034077551425281044, 0.03802364022507694, 0.040128167224539484, 0.04178750582026956, 0.043588595947536335, 0.04451944442806784], [-7.2142475956479576e-09, 0.2942090256954619, 0.38326574910488137, 0.4244468461787919, 0.4479280281677949, 0.46039268919714454, 0.4673860203852406, 0.4717234050656472, 0.4743700235463226, 0.4762482244979427], [0.9999999927857524, 0.5884180620880377, 0.4358853646380458, 0.35819342762397505, 0.31288463633539165, 0.2866162214040795, 0.27086577255417704, 0.26051330962934044, 0.25313795573809633, 0.24805653936298475])\n"
     ]
    }
   ],
   "source": [
    "from tqdm import tqdm\n",
    "val_metrics_epoch = []\n",
    "num_epochs = 10\n",
    "# Step 2: Create your Adam optimizer\n",
    "optimizer = Adam(model.parameters(), lr=0.0001)\n",
    "\n",
    "loss_fn = nn.CrossEntropyLoss()\n",
    "\n",
    "# Step 3: Iterate over the data for the number of epochs\n",
    "for epoch in range(num_epochs):\n",
    "\n",
    "# Step 4: Iterate over each batch of data and compute the scores using the forward pass of the network\n",
    "    model.train()\n",
    "    for x, y in tqdm(train_loader):\n",
    "        optimizer.zero_grad()\n",
    "        x= [i.to(device) for i in x]\n",
    "        y = y.to(device)\n",
    "        out = model(x)\n",
    "    \n",
    "        # Step 5: Compute the lambda gradient values for the pairwise loss (spedup) with the compute_lambda_i method on the scores and the output labels\n",
    "        loss = loss_fn(out, y)\n",
    "\n",
    "        # Step 6: Bacward from the scores with the use of the lambda gradient values\n",
    "        if loss is not None:\n",
    "            # torch.autograd.backward(out, loss)\n",
    "            loss.backward()\n",
    "            \n",
    "            # Step 7: Update the weights using the optimizer\n",
    "            optimizer.step()\n",
    "\n",
    "    model.eval()\n",
    "\n",
    "    val_metrics = eval_model(model_config, News, user_encoder, val_impressions, val_user_data, val_userids,\n",
    "               news_encoder, bias_news_encoder, activity_gater, time_embedding_layer, \n",
    "               bias_content_scorer, scaler, colds, topKs, ValidUsers, device)\n",
    "    \n",
    "    print(\"epoch: {}, metrics: {}\".format(epoch, val_metrics))\n",
    "    val_metrics_epoch.append(val_metrics)\n",
    "\n",
    "    if epoch > 1:\n",
    "        if (val_metrics_epoch[-1][0] < val_metrics_epoch[-2][0]):\n",
    "            break\n",
    "\n"
   ]
  },
  {
   "cell_type": "code",
   "execution_count": 51,
   "metadata": {
    "ExecuteTime": {
     "end_time": "2024-06-26T15:45:15.577920Z",
     "start_time": "2024-06-26T15:23:20.966460Z"
    }
   },
   "outputs": [
    {
     "name": "stdout",
     "output_type": "stream",
     "text": [
      "{5: 0, 7: 1, 10: 2, 15: 3}\n"
     ]
    },
    {
     "name": "stderr",
     "output_type": "stream",
     "text": [
      "100%|██████████| 48930/48930 [21:53<00:00, 37.26it/s]\n"
     ]
    }
   ],
   "source": [
    "colds = [5, 7, 10, 15]\n",
    "topKs = 10\n",
    "test_metrics, test_cold_metrics, test_topics, test_ILADs, test_ILMDs = eval_model(model_config, News, user_encoder, test_impressions, test_user_data, test_userids,\n",
    "               news_encoder, bias_news_encoder, activity_gater, time_embedding_layer, \n",
    "               bias_content_scorer, scaler, colds, topKs, TestUsers, device)"
   ]
  },
  {
   "cell_type": "code",
   "execution_count": 52,
   "metadata": {
    "ExecuteTime": {
     "end_time": "2024-06-26T15:45:15.844912Z",
     "start_time": "2024-06-26T15:45:15.585913Z"
    }
   },
   "outputs": [
    {
     "name": "stdout",
     "output_type": "stream",
     "text": [
      "val metrics [([0.7331355262586816, 0.5148365988869711, 0.5734408795986045, 0.6127851933817108], [[nan, nan, nan, 0.72388498704716], [nan, nan, nan, 0.5104964051185683], [nan, nan, nan, 0.550610969100368], [nan, nan, nan, 0.5997508252858155]], [0.009470371497581412, 0.01865744128369672, 0.026043622294152535, 0.031021638081342763, 0.035655946674877946, 0.03875213034027551, 0.0410185440320044, 0.04219222255093544, 0.04344684441599964, 0.044883689485667136], [-6.532049241449569e-09, 0.28577904506514007, 0.37687651213792084, 0.41977830722616183, 0.444965803041869, 0.45856756743036353, 0.4663242288104376, 0.4711379461901651, 0.4741060449513366, 0.4759832600252234], [0.9999999934679508, 0.5715581010649452, 0.4256387094097873, 0.3582231318291844, 0.3195722929114918, 0.29894239643431514, 0.286108668716935, 0.2777424243853188, 0.27195392291386233, 0.2675670550537994]), ([0.7212129536234161, 0.5048916124454248, 0.5633855113826362, 0.6039440716677954], [[nan, nan, nan, 0.7111336117237997], [nan, nan, nan, 0.5096005509577385], [nan, nan, nan, 0.5472200356565731], [nan, nan, nan, 0.5964603985205157]], [0.0098346165551807, 0.017868344334701913, 0.02438428369842246, 0.03019206945928137, 0.0345227398290135, 0.038185526917343296, 0.04077571399360488, 0.04227316589706861, 0.04354812427446975, 0.04504557617793348], [-6.2348056728345575e-09, 0.2869977941450299, 0.37699875264672805, 0.4196215178415501, 0.44386514193671367, 0.4571305160076303, 0.4644192028218153, 0.46883476123291734, 0.4716584898794571, 0.4734270691864334], [0.9999999937651943, 0.5739955975984128, 0.42319872241986195, 0.3499252712871804, 0.30657185015601807, 0.28280285282207906, 0.2677389482161709, 0.2579350973009829, 0.2510057399835148, 0.24604510067139207]), ([0.7150974797478377, 0.49341703556426825, 0.5540988459797053, 0.5958825223599574], [[nan, nan, nan, 0.6925648004626794], [nan, nan, nan, 0.47782382484867914], [nan, nan, nan, 0.517394749602403], [nan, nan, nan, 0.572112534629809]], [0.008579994690116494, 0.016492307450437945, 0.0236153219101573, 0.029342164324883045, 0.034077551425281044, 0.03802364022507694, 0.040128167224539484, 0.04178750582026956, 0.043588595947536335, 0.04451944442806784], [-7.2142475956479576e-09, 0.2942090256954619, 0.38326574910488137, 0.4244468461787919, 0.4479280281677949, 0.46039268919714454, 0.4673860203852406, 0.4717234050656472, 0.4743700235463226, 0.4762482244979427], [0.9999999927857524, 0.5884180620880377, 0.4358853646380458, 0.35819342762397505, 0.31288463633539165, 0.2866162214040795, 0.27086577255417704, 0.26051330962934044, 0.25313795573809633, 0.24805653936298475])]\n",
      "test metrics [0.7115735698361438, 0.48871922048076955, 0.5492518626101878, 0.5915169849220436]\n",
      "cold [[0.7057572022290681, 0.7070538980927099, 0.6884464284470957, 0.7382707144735586], [0.4602163157107505, 0.45758094939497723, 0.47130279568915945, 0.4897586328531451], [0.5241348749132284, 0.5031975118515744, 0.5362173946014932, 0.5619539248299914], [0.5625669775802581, 0.5581035149979348, 0.5784922060027701, 0.5986763992004965]]\n",
      "diversity [[-6.705979347813722e-09, 0.2982984771970686, 0.38628631355254267, 0.42659719483437725, 0.4496430371281756, 0.46158020169535663, 0.4682529957692072, 0.47237281829892264, 0.47497259015542903, 0.47660713045845093], [0.9999999932940207, 0.5965969647253654, 0.44078264729440175, 0.36106744595412554, 0.31518248255916004, 0.288689336572935, 0.27237836802612414, 0.26172526946175984, 0.25416254045564707, 0.24878347401918138]]\n"
     ]
    }
   ],
   "source": [
    "print(\"val metrics\", val_metrics_epoch)\n",
    "print(\"test metrics\", test_metrics)\n",
    "print(\"cold\", test_cold_metrics)\n",
    "print(\"diversity\", [test_ILADs, test_ILMDs])\n",
    "\n",
    "results = {\"config\": config,\n",
    "           \"model_config\" : model_config,\n",
    "            \"val metrics\": val_metrics_epoch, \n",
    "           \"test metrics\": test_metrics,\n",
    "           \"cold\": test_cold_metrics,\n",
    "           \"diversity\": [test_ILADs, test_ILMDs]}\n",
    "\n",
    "import json\n",
    "with open('results{}.json'.format(time.time()), 'w') as f:\n",
    "    json.dump(results, f)"
   ]
  },
  {
   "cell_type": "markdown",
   "metadata": {},
   "source": [
    "## Finished\n",
    "## ---"
   ]
  }
 ],
 "metadata": {
  "kernelspec": {
   "display_name": "Python 3",
   "language": "python",
   "name": "python3"
  },
  "language_info": {
   "codemirror_mode": {
    "name": "ipython",
    "version": 3
   },
   "file_extension": ".py",
   "mimetype": "text/x-python",
   "name": "python",
   "nbconvert_exporter": "python",
   "pygments_lexer": "ipython3",
   "version": "3.12.2"
  }
 },
 "nbformat": 4,
 "nbformat_minor": 2
}
