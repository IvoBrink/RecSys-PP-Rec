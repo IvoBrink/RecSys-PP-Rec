{
 "cells": [
  {
   "cell_type": "code",
   "execution_count": 159,
   "metadata": {
    "ExecuteTime": {
     "end_time": "2024-06-23T20:44:51.052648Z",
     "start_time": "2024-06-23T20:44:43.498034Z"
    }
   },
   "outputs": [
    {
     "name": "stdout",
     "output_type": "stream",
     "text": [
      "The autoreload extension is already loaded. To reload it, use:\n",
      "  %reload_ext autoreload\n"
     ]
    }
   ],
   "source": [
    "%load_ext autoreload\n",
    "%autoreload 2\n",
    "\n",
    "from NewsContent import *\n",
    "from UserContent import *\n",
    "from preprocessing import *\n",
    "from PEGenerator import *\n",
    "import PEGenerator\n",
    "from models import *\n",
    "from utils import *\n",
    "from Encoders import *\n",
    "\n",
    "import os\n",
    "import numpy as np\n",
    "import json\n",
    "import random"
   ]
  },
  {
   "cell_type": "code",
   "execution_count": 160,
   "metadata": {
    "ExecuteTime": {
     "end_time": "2024-06-23T20:44:51.286650Z",
     "start_time": "2024-06-23T20:44:51.054656Z"
    },
    "collapsed": false
   },
   "outputs": [],
   "source": [
    "device = torch.device(\"cuda\" if torch.cuda.is_available() else \"cpu\")"
   ]
  },
  {
   "cell_type": "code",
   "execution_count": 161,
   "metadata": {
    "ExecuteTime": {
     "end_time": "2024-06-23T20:44:51.475649Z",
     "start_time": "2024-06-23T20:44:51.288661Z"
    }
   },
   "outputs": [],
   "source": [
    "data_root_path = \"../data/Challenge/\"\n",
    "embedding_path = \"../../\"\n",
    "KG_root_path = \"../data/Challenge/entity\"\n",
    "popularity_path = \"../data/Challenge/popularity\"\n",
    "config = {'title_length':30,\n",
    "              'body_length':100,\n",
    "              'max_clicked_news':50,\n",
    "              'npratio':1,\n",
    "              'news_encoder_name':\"CNN\",\n",
    "              'user_encoder_name':\"Att\",\n",
    "             'attrs':['title', 'entity','vert'],\n",
    "             'word_filter':0,\n",
    "             'data_root_path':data_root_path,\n",
    "             'embedding_path':embedding_path,\n",
    "             'KG_root_path':KG_root_path,\n",
    "            'popularity_path':popularity_path,\n",
    "            'batch_size': 32,\n",
    "             'max_entity_num':5}\n",
    "model_config = {\n",
    "        'news_encoder':1,\n",
    "        'popularity_user_modeling':True,\n",
    "        'rel':True,\n",
    "        'ctr':True,\n",
    "        'content':True,\n",
    "        'rece_emb':True,\n",
    "        'activity':True\n",
    "\n",
    "    }"
   ]
  },
  {
   "cell_type": "code",
   "execution_count": 162,
   "metadata": {
    "ExecuteTime": {
     "end_time": "2024-06-23T20:45:10.721551Z",
     "start_time": "2024-06-23T20:44:51.477650Z"
    },
    "scrolled": true
   },
   "outputs": [
    {
     "name": "stdout",
     "output_type": "stream",
     "text": [
      "19779\n",
      "2472\n",
      "2473\n"
     ]
    }
   ],
   "source": [
    "News = NewsContent(config)\n",
    "\n",
    "TrainUsers = UserContent(News.news_index,config,'train.tsv',2)\n",
    "ValidUsers = UserContent(News.news_index,config,'val.tsv',1)\n",
    "TestUsers = UserContent(News.news_index,config,'test.tsv',2)"
   ]
  },
  {
   "cell_type": "code",
   "execution_count": 163,
   "metadata": {
    "ExecuteTime": {
     "end_time": "2024-06-23T20:45:11.050558Z",
     "start_time": "2024-06-23T20:45:10.724553Z"
    }
   },
   "outputs": [
    {
     "name": "stdout",
     "output_type": "stream",
     "text": [
      "19779\n",
      "19916\n",
      "2473\n",
      "2472\n"
     ]
    }
   ],
   "source": [
    "train_sess,train_buckets, train_user_id, train_label = get_train_input(TrainUsers.session,News.news_index,config)\n",
    "test_impressions, test_userids = get_test_input(TestUsers.session,News.news_index)\n",
    "val_impressions, val_userids = get_test_input(ValidUsers.session,News.news_index)"
   ]
  },
  {
   "cell_type": "code",
   "execution_count": 164,
   "metadata": {
    "ExecuteTime": {
     "end_time": "2024-06-23T20:46:18.998182Z",
     "start_time": "2024-06-23T20:45:11.052559Z"
    }
   },
   "outputs": [],
   "source": [
    "title_word_embedding_matrix, have_word = load_matrix(embedding_path,News.word_dict)\n",
    "entity_embedding_matrix, have_word2 = load_matrix(embedding_path, News.entity_dict)"
   ]
  },
  {
   "cell_type": "code",
   "execution_count": 165,
   "metadata": {
    "ExecuteTime": {
     "end_time": "2024-06-23T20:46:19.268181Z",
     "start_time": "2024-06-23T20:46:18.999184Z"
    }
   },
   "outputs": [],
   "source": [
    "train_loader = DataLoader(TrainDataset(News, TrainUsers, train_sess, train_user_id, train_buckets, train_label), config['batch_size'])\n",
    "val_user_data = UserDataset(News,ValidUsers)\n",
    "test_user_data = UserDataset(News,TestUsers)\n",
    "news_data = NewsDataset(News)"
   ]
  },
  {
   "cell_type": "code",
   "execution_count": 166,
   "metadata": {
    "ExecuteTime": {
     "end_time": "2024-06-23T20:46:20.073213Z",
     "start_time": "2024-06-23T20:46:19.522203Z"
    }
   },
   "outputs": [
    {
     "name": "stdout",
     "output_type": "stream",
     "text": [
      "Moved news_encoder to cuda\n",
      "Moved bias_news_encoder to cuda\n",
      "Moved pop_aware_user_encoder to cuda\n",
      "Moved bias_scorer to cuda\n",
      "Moved activity_gater to cuda\n",
      "Moved time_embedding_layer to cuda\n",
      "Moved time_distributed1 to cuda\n",
      "Moved time_distributed2 to cuda\n",
      "Moved time_distributed3 to cuda\n",
      "Moved scaler to cuda\n",
      "Moved softmax to cuda\n"
     ]
    }
   ],
   "source": [
    "from torch.optim import Adam\n",
    "\n",
    "model,user_encoder,news_encoder,bias_news_encoder,bias_content_scorer,scaler,time_embedding_layer,activity_gater = \\\n",
    "create_pe_model(config, model_config, News, title_word_embedding_matrix, entity_embedding_matrix, device)\n",
    "\n",
    "model.to(device)\n",
    "for name, module in model.named_children():\n",
    "    module.to(device)\n",
    "    print(f'Moved {name} to {device}')\n",
    "\n"
   ]
  },
  {
   "cell_type": "code",
   "execution_count": 167,
   "metadata": {},
   "outputs": [],
   "source": [
    "colds = [0,1,3,5]\n",
    "topKs = 10"
   ]
  },
  {
   "cell_type": "code",
   "execution_count": 168,
   "metadata": {
    "ExecuteTime": {
     "end_time": "2024-06-23T20:47:51.941698Z",
     "start_time": "2024-06-23T20:46:20.266217Z"
    }
   },
   "outputs": [
    {
     "name": "stderr",
     "output_type": "stream",
     "text": [
      "100%|██████████| 623/623 [08:49<00:00,  1.18it/s]\n",
      "100%|██████████| 2472/2472 [02:12<00:00, 18.59it/s]\n"
     ]
    },
    {
     "name": "stdout",
     "output_type": "stream",
     "text": [
      "epoch: 0, metrics: ([0.6871910644911863, 0.47177494445969925, 0.5272017179812674, 0.5778438550397963], [[0.658041865112312, 0.6666604127454792, 0.6353712696994431, 0.6758032825557174], [0.43360086320373364, 0.4642017977266868, 0.44934028758787, 0.4798196589182645], [0.4842713809603881, 0.5232790398414623, 0.4950079972475232, 0.5206428854250618], [0.5466489194715405, 0.5663811616162508, 0.5543808965603837, 0.5781086410670464]], [0.07369669005735524, 0.12336583607643478, 0.15260618946983817, 0.17944139726246208, 0.2030724011395488, 0.2166902677805819, 0.2295070834427306, 0.23511444029492068, 0.24152284812599503, 0.24552810302041653], [-5.5216276915713805e-09, 0.3024846142260388, 0.40107786407073337, 0.4518013589783394, 0.4798381378735539, 0.494579129451494, 0.5029805210030195, 0.508299704580824, 0.511329045187694, 0.5130973092150727], [0.9999999944783723, 0.6049692347091186, 0.5003327527791744, 0.456935083861297, 0.4240624223591633, 0.40464024596567294, 0.39253222373311186, 0.384556541406221, 0.37800122297167005, 0.374017221581878])\n"
     ]
    },
    {
     "name": "stderr",
     "output_type": "stream",
     "text": [
      "  7%|▋         | 41/623 [00:32<07:37,  1.27it/s]\n"
     ]
    },
    {
     "ename": "KeyboardInterrupt",
     "evalue": "",
     "output_type": "error",
     "traceback": [
      "\u001b[1;31m---------------------------------------------------------------------------\u001b[0m",
      "\u001b[1;31mKeyboardInterrupt\u001b[0m                         Traceback (most recent call last)",
      "Cell \u001b[1;32mIn[168], line 16\u001b[0m\n\u001b[0;32m     14\u001b[0m \u001b[38;5;28;01mfor\u001b[39;00m x, y \u001b[38;5;129;01min\u001b[39;00m tqdm(train_loader):\n\u001b[0;32m     15\u001b[0m     optimizer\u001b[38;5;241m.\u001b[39mzero_grad()\n\u001b[1;32m---> 16\u001b[0m     x\u001b[38;5;241m=\u001b[39m [\u001b[43mi\u001b[49m\u001b[38;5;241;43m.\u001b[39;49m\u001b[43mto\u001b[49m\u001b[43m(\u001b[49m\u001b[43mdevice\u001b[49m\u001b[43m)\u001b[49m \u001b[38;5;28;01mfor\u001b[39;00m i \u001b[38;5;129;01min\u001b[39;00m x]\n\u001b[0;32m     17\u001b[0m     y \u001b[38;5;241m=\u001b[39m y\u001b[38;5;241m.\u001b[39mto(device)\n\u001b[0;32m     18\u001b[0m     out \u001b[38;5;241m=\u001b[39m model(x)\n",
      "\u001b[1;31mKeyboardInterrupt\u001b[0m: "
     ]
    }
   ],
   "source": [
    "from tqdm import tqdm\n",
    "val_metrics_epoch = []\n",
    "num_epochs = 10\n",
    "# Step 2: Create your Adam optimizer\n",
    "optimizer = Adam(model.parameters(), lr=0.0001)\n",
    "\n",
    "loss_fn = nn.CrossEntropyLoss()\n",
    "\n",
    "# Step 3: Iterate over the data for the number of epochs\n",
    "for epoch in range(num_epochs):\n",
    "\n",
    "# Step 4: Iterate over each batch of data and compute the scores using the forward pass of the network\n",
    "    model.train()\n",
    "    for x, y in tqdm(train_loader):\n",
    "        optimizer.zero_grad()\n",
    "        x= [i.to(device) for i in x]\n",
    "        y = y.to(device)\n",
    "        out = model(x)\n",
    "    \n",
    "        # Step 5: Compute the lambda gradient values for the pairwise loss (spedup) with the compute_lambda_i method on the scores and the output labels\n",
    "        loss = loss_fn(out, y)\n",
    "\n",
    "        # Step 6: Bacward from the scores with the use of the lambda gradient values\n",
    "        if loss is not None:\n",
    "            # torch.autograd.backward(out, loss)\n",
    "            loss.backward()\n",
    "            \n",
    "            # Step 7: Update the weights using the optimizer\n",
    "            optimizer.step()\n",
    "\n",
    "    model.eval()\n",
    "\n",
    "    val_metrics = eval_model(model_config, News, user_encoder, val_impressions, val_user_data, val_userids,\n",
    "               news_encoder, bias_news_encoder, activity_gater, time_embedding_layer, \n",
    "               bias_content_scorer, scaler, colds, topKs, ValidUsers, device)\n",
    "    \n",
    "    print(\"epoch: {}, metrics: {}\".format(epoch, val_metrics))\n",
    "    val_metrics_epoch.append(val_metrics)\n",
    "\n",
    "    if epoch > 1:\n",
    "        if (val_metrics_epoch[-1][0] < val_metrics_epoch[-2][0]):\n",
    "            break\n",
    "\n"
   ]
  },
  {
   "cell_type": "code",
   "execution_count": null,
   "metadata": {
    "ExecuteTime": {
     "start_time": "2024-06-23T20:44:33.872428Z"
    }
   },
   "outputs": [
    {
     "name": "stderr",
     "output_type": "stream",
     "text": [
      "100%|██████████| 2473/2473 [01:20<00:00, 30.72it/s]\n"
     ]
    }
   ],
   "source": [
    "colds = [0,1,3,5]\n",
    "topKs = 10\n",
    "test_metrics, test_cold_metrics, test_topics, test_ILADs, test_ILMDs = eval_model(model_config, News, user_encoder, test_impressions, test_user_data, test_userids,\n",
    "               news_encoder, bias_news_encoder, activity_gater, time_embedding_layer, \n",
    "               bias_content_scorer, scaler, colds, topKs, TestUsers, device)"
   ]
  },
  {
   "cell_type": "code",
   "execution_count": null,
   "metadata": {},
   "outputs": [
    {
     "name": "stdout",
     "output_type": "stream",
     "text": [
      "val metrics [([0.6825985432030286, 0.4678036431706821, 0.5215271382560431, 0.5732920996642947], [[0.6493983696935274, 0.6704979452350633, 0.6265554122658715, 0.714289747329046], [0.4341690672823048, 0.4483791889694272, 0.430428089405395, 0.5092703426698659], [0.4792058323738279, 0.5061599851492613, 0.4901250550959699, 0.5487523204934007], [0.5414497575635876, 0.5586277056188979, 0.5416699521297057, 0.6011163901916806]], [0.06208145086353296, 0.11415374981926535, 0.1485989419112901, 0.17503362421447186, 0.19986620455988505, 0.21669026778058184, 0.225101303058867, 0.23231076186882563, 0.23751759323157356, 0.24152284812599506], [-8.342721315649335e-09, 0.31706777133023467, 0.41907363067890446, 0.470505460180511, 0.49986247952219737, 0.5155224436020003, 0.5250930819889489, 0.5308018015474564, 0.5346818367640177, 0.5368398887054048], [0.9999999916572787, 0.6341355530044793, 0.5381401156867978, 0.5026904099943376, 0.4833037127231317, 0.4731364487685432, 0.4673265367264115, 0.4640735447358545, 0.4617216428651393, 0.4601693382444505]), ([0.6982650517910577, 0.4840742292277106, 0.5401650942120751, 0.5872127597611809], [[0.6601077403623108, 0.6904902293606064, 0.6714477780890142, 0.6886463936934692], [0.44941822618026966, 0.48316202327033375, 0.46220906417952334, 0.4784021503338178], [0.49323251899241705, 0.5367944750645063, 0.5245482301461711, 0.5310775048904236], [0.5572472464805905, 0.585401665854876, 0.5692489249654744, 0.5776783269069288]], [0.06528565477907013, 0.11575385911290738, 0.151002094847943, 0.1786383536194512, 0.20186883200709577, 0.21749131875946612, 0.22750445599551986, 0.23551496578436285, 0.23952022067878426, 0.24392600106264792], [-6.341432676346171e-09, 0.314732117102177, 0.4169823016163601, 0.4660416662114338, 0.4959231793494672, 0.5122469253958621, 0.5212197506553147, 0.5268943112066262, 0.5308634253236854, 0.5329859642173287], [0.9999999936585673, 0.6294642452355534, 0.5349626107123292, 0.49872744500540606, 0.48032757559110045, 0.4704719523878159, 0.4654070274199097, 0.46190968557324225, 0.45941056655930856, 0.4576137451919151]), ([0.7093109134811866, 0.4890195555526664, 0.5495345140419513, 0.5925246181923985], [[0.673314861153255, 0.7051428067350501, 0.693134761507785, 0.6846332255150502], [0.446298088934014, 0.4950496599500159, 0.4892972671618505, 0.47602351546651006], [0.500546835988296, 0.5612868563216705, 0.5461796736848333, 0.5210058597291716], [0.5571503961696672, 0.5897016272603323, 0.5937507765141645, 0.5775784789417904]], [0.06528565477907014, 0.11815701204956028, 0.15260419680571155, 0.18664886340829417, 0.2082772398381702, 0.22269815012221406, 0.2295070834427306, 0.2363160167632471, 0.2403212716576686, 0.2451275775309744], [-7.088901927170244e-09, 0.312670858257411, 0.4136763932635483, 0.46473589816814875, 0.49440817882135074, 0.5115067605592286, 0.5217784420620276, 0.5277718563826339, 0.5322012623054696, 0.5347050368472404], [0.9999999929110981, 0.6253417242668015, 0.5312955007077613, 0.4990604726362576, 0.4821057196790925, 0.47360389434934436, 0.4692792761890055, 0.46598592845415604, 0.46413719476860704, 0.4628031292273196]), ([0.7155285649984827, 0.4940112970602219, 0.5553716656319565, 0.5986472271175755], [[0.6727445740286961, 0.7078033429402432, 0.6996466293920598, 0.6929491941314682], [0.4490867508430357, 0.49182667134031405, 0.5141842555735745, 0.4830918894746416], [0.5033518043888687, 0.549342529436122, 0.5700450418206198, 0.5312249780011244], [0.5611400801670525, 0.5922935785315852, 0.6166602257379346, 0.5830427675321364]], [0.06889038418404947, 0.11895806302844456, 0.15580840072124877, 0.18905201634494706, 0.21027986728538092, 0.22670340501663555, 0.23271128735826777, 0.23871916969989998, 0.24352547557320578, 0.24833178144651155], [-6.1244254744940206e-09, 0.31301152052713443, 0.41402005093190275, 0.46451939599027914, 0.493625289486257, 0.5110619593785418, 0.5210504561035765, 0.5271996274638716, 0.5316856477445769, 0.5341102040484307], [0.9999999938755745, 0.6260230512536074, 0.5327042636844332, 0.4990695111549981, 0.48204452804859405, 0.4742751582902419, 0.4691074149243076, 0.4656349535681862, 0.46403382997055653, 0.46270132344517506]), ([0.7177515082474101, 0.4979230379620476, 0.5569788586104277, 0.6024031591434393], [[0.6816934806289459, 0.7169592032965675, 0.7034964676241697, 0.672297843578724], [0.4666995634578713, 0.5053102485552874, 0.508578888515934, 0.46861452525573605], [0.5194707819744611, 0.5595276454838262, 0.5679184810086276, 0.5078413664692025], [0.5744626826899417, 0.6024786945792895, 0.610328205286907, 0.5717981466689875]], [0.06889038418404947, 0.11775648656011811, 0.15380577327403802, 0.18344465949275698, 0.20707566336984373, 0.22189709914332978, 0.23030813442161488, 0.23711706774213143, 0.24312495008376364, 0.24953335791483802], [-8.005154557212656e-09, 0.3199801491543313, 0.4196342225623555, 0.4679989683348384, 0.4976630233059423, 0.513957346479098, 0.5241201790260651, 0.5302947012400164, 0.5346541858510292, 0.5371009387726923], [0.9999999919948455, 0.6399603080378188, 0.5386439443936626, 0.5018028193017812, 0.48331481977863217, 0.47535084789576654, 0.47047293153636666, 0.4677585426802388, 0.46589680945554984, 0.46428700040989707]), ([0.7168146412596235, 0.4955293220984539, 0.5573352902441295, 0.5999096529048022], [[0.6822527414785913, 0.7061379962336541, 0.70014719828829, 0.6756583562660924], [0.46512682211626694, 0.4907259540011135, 0.5029445505701634, 0.4657631653466252], [0.515947959668894, 0.5524756904996944, 0.5695973335821685, 0.5069317787872586], [0.5741054741039382, 0.5930922816822923, 0.6024853164887674, 0.5693636768950807]], [0.06688775673683874, 0.11655491009179167, 0.15420629876348016, 0.18224308302443057, 0.207876714348728, 0.22229762463277192, 0.2319102363793835, 0.23871916969989998, 0.24592862850985867, 0.25073493438316447], [-5.280508578402325e-09, 0.31463588586131347, 0.41529525251016264, 0.4657308226601977, 0.49559549840233474, 0.513913182547756, 0.5244983653372159, 0.5313736594321272, 0.5361235413013152, 0.5389148575467778], [0.9999999947194914, 0.6292717826332668, 0.5331827727022873, 0.49931436540818136, 0.48224949258045086, 0.47533629307806685, 0.47051814884477833, 0.4678485830190884, 0.46582463531962875, 0.4644788749347227])]\n",
      "test metrics [0.7157720172589127, 0.4959942832490577, 0.5584014294585709, 0.5997743863239783]\n",
      "cold [[0.7002433857399002, 0.7046607921528082, 0.7196061675080672, 0.7555569394843358], [0.46808944630160054, 0.477957822102559, 0.5213032199613201, 0.5372486812479182], [0.5283962995077778, 0.5369805059831874, 0.5754238199226421, 0.5855552118669599], [0.5760158021803949, 0.5828843250685571, 0.6148405555980818, 0.625485775461719]]\n",
      "diversity [[-4.9650452178449126e-09, 0.31341057058967564, 0.41656960935617715, 0.46811815661261835, 0.49836057202805406, 0.5153129709861175, 0.5252806509837803, 0.5316578852373532, 0.5361631914906978, 0.5390213284832815], [0.9999999950349547, 0.6268211485184594, 0.5347851855861866, 0.5003147810348074, 0.48436067782092374, 0.4758872570559605, 0.4709896434789913, 0.4675312075135778, 0.4653986220146739, 0.4640018101337223]]\n"
     ]
    }
   ],
   "source": [
    "print(\"val metrics\", val_metrics_epoch)\n",
    "print(\"test metrics\", test_metrics)\n",
    "print(\"cold\", test_cold_metrics)\n",
    "print(\"diversity\", [test_ILADs, test_ILMDs])\n",
    "\n",
    "results = {\"config\": config,\n",
    "           \"model_config\" : model_config,\n",
    "            \"val metrics\": val_metrics_epoch, \n",
    "           \"test metrics\": test_metrics,\n",
    "           \"cold\": test_cold_metrics,\n",
    "           \"diversity\": [test_ILADs, test_ILMDs]}\n",
    "\n",
    "import json\n",
    "with open('results{}.json'.format(time.time()), 'w') as f:\n",
    "    json.dump(results, f)"
   ]
  },
  {
   "cell_type": "markdown",
   "metadata": {},
   "source": [
    "## Finished\n",
    "## ---"
   ]
  }
 ],
 "metadata": {
  "kernelspec": {
   "display_name": "Python 3",
   "language": "python",
   "name": "python3"
  },
  "language_info": {
   "codemirror_mode": {
    "name": "ipython",
    "version": 3
   },
   "file_extension": ".py",
   "mimetype": "text/x-python",
   "name": "python",
   "nbconvert_exporter": "python",
   "pygments_lexer": "ipython3",
   "version": "3.12.2"
  }
 },
 "nbformat": 4,
 "nbformat_minor": 2
}
