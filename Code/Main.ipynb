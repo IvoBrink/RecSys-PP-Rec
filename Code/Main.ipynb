{
 "cells": [
  {
   "cell_type": "code",
   "execution_count": 13,
   "metadata": {
    "ExecuteTime": {
     "end_time": "2024-06-23T20:44:51.052648Z",
     "start_time": "2024-06-23T20:44:43.498034Z"
    }
   },
   "outputs": [
    {
     "name": "stdout",
     "output_type": "stream",
     "text": [
      "The autoreload extension is already loaded. To reload it, use:\n",
      "  %reload_ext autoreload\n"
     ]
    }
   ],
   "source": [
    "%load_ext autoreload\n",
    "%autoreload 2\n",
    "\n",
    "from NewsContent import *\n",
    "from UserContent import *\n",
    "from preprocessing import *\n",
    "from PEGenerator import *\n",
    "import PEGenerator\n",
    "from models import *\n",
    "from utils import *\n",
    "from Encoders import *\n",
    "\n",
    "import os\n",
    "import numpy as np\n",
    "import json\n",
    "import random"
   ]
  },
  {
   "cell_type": "code",
   "execution_count": 14,
   "metadata": {
    "ExecuteTime": {
     "end_time": "2024-06-23T20:44:51.286650Z",
     "start_time": "2024-06-23T20:44:51.054656Z"
    },
    "collapsed": false
   },
   "outputs": [],
   "source": [
    "device = torch.device(\"cuda\" if torch.cuda.is_available() else \"cpu\")"
   ]
  },
  {
   "cell_type": "code",
   "execution_count": 15,
   "metadata": {
    "ExecuteTime": {
     "end_time": "2024-06-23T20:44:51.475649Z",
     "start_time": "2024-06-23T20:44:51.288661Z"
    }
   },
   "outputs": [],
   "source": [
    "data_root_path = \"../data/Challenge/\"\n",
    "embedding_path = \"../../\"\n",
    "KG_root_path = \"../data/Challenge/entity\"\n",
    "popularity_path = \"../data/Challenge/popularity\"\n",
    "config = {'title_length':30,\n",
    "              'body_length':100,\n",
    "              'max_clicked_news':50,\n",
    "              'npratio':1,\n",
    "              'news_encoder_name':\"CNN\",\n",
    "              'user_encoder_name':\"Att\",\n",
    "             'attrs':['title', 'vert', 'topic'],\n",
    "             'word_filter':0,\n",
    "             'data_root_path':data_root_path,\n",
    "             'embedding_path':embedding_path,\n",
    "             'KG_root_path':KG_root_path,\n",
    "            'popularity_path':popularity_path,\n",
    "            'batch_size': 32,\n",
    "             'max_entity_num':5,\n",
    "             'max_topics_num': 5,\n",
    "             'image_emb_len': 1024}\n",
    "model_config = {\n",
    "        'news_encoder':0,\n",
    "        'popularity_user_modeling':True,\n",
    "        'rel':True,\n",
    "        'ctr':True,\n",
    "        'content':True,\n",
    "        'rece_emb':True,\n",
    "        'activity':True\n",
    "\n",
    "    }"
   ]
  },
  {
   "cell_type": "code",
   "execution_count": 16,
   "metadata": {
    "ExecuteTime": {
     "end_time": "2024-06-23T20:45:10.721551Z",
     "start_time": "2024-06-23T20:44:51.477650Z"
    },
    "scrolled": true
   },
   "outputs": [
    {
     "name": "stdout",
     "output_type": "stream",
     "text": [
      "24724\n",
      "12678\n",
      "12678\n"
     ]
    }
   ],
   "source": [
    "News = NewsContent(config)\n",
    "\n",
    "TrainUsers = UserContent(News.news_index,config,'train.tsv',2)\n",
    "ValidUsers = UserContent(News.news_index,config,'val.tsv',1)\n",
    "TestUsers = UserContent(News.news_index,config,'test.tsv',2)"
   ]
  },
  {
   "cell_type": "code",
   "execution_count": 17,
   "metadata": {},
   "outputs": [
    {
     "data": {
      "text/plain": [
       "array([ 7,  8,  9, 10, 11, 12,  0,  0,  0,  0,  0,  0,  0,  0,  0,  0,  0,\n",
       "        0,  0,  0,  0,  0,  0,  0,  0,  0,  0,  0,  0,  0, 17,  0,  0,  0,\n",
       "        0,  0])"
      ]
     },
     "execution_count": 17,
     "metadata": {},
     "output_type": "execute_result"
    }
   ],
   "source": [
    "News.fetch_news(np.array([2]))[0]"
   ]
  },
  {
   "cell_type": "code",
   "execution_count": 18,
   "metadata": {
    "ExecuteTime": {
     "end_time": "2024-06-23T20:45:11.050558Z",
     "start_time": "2024-06-23T20:45:10.724553Z"
    }
   },
   "outputs": [
    {
     "name": "stdout",
     "output_type": "stream",
     "text": [
      "24724\n",
      "24888\n",
      "12678\n",
      "12678\n"
     ]
    }
   ],
   "source": [
    "train_sess,train_buckets, train_user_id, train_label = get_train_input(TrainUsers.session,News.news_index,config)\n",
    "test_impressions, test_userids = get_test_input(TestUsers.session,News.news_index)\n",
    "val_impressions, val_userids = get_test_input(ValidUsers.session,News.news_index)"
   ]
  },
  {
   "cell_type": "code",
   "execution_count": 19,
   "metadata": {
    "ExecuteTime": {
     "end_time": "2024-06-23T20:46:18.998182Z",
     "start_time": "2024-06-23T20:45:11.052559Z"
    }
   },
   "outputs": [],
   "source": [
    "title_word_embedding_matrix, have_word = load_matrix(embedding_path,News.word_dict)\n",
    "entity_embedding_matrix, have_word2 = load_matrix(embedding_path, News.entity_dict)\n",
    "topic_embedding_matrix, have_word3 = load_matrix(embedding_path, News.topic_dict)"
   ]
  },
  {
   "cell_type": "code",
   "execution_count": 20,
   "metadata": {
    "ExecuteTime": {
     "end_time": "2024-06-23T20:46:19.268181Z",
     "start_time": "2024-06-23T20:46:18.999184Z"
    }
   },
   "outputs": [],
   "source": [
    "train_loader = DataLoader(TrainDataset(News, TrainUsers, train_sess, train_user_id, train_buckets, train_label), config['batch_size'])\n",
    "val_user_data = UserDataset(News,ValidUsers)\n",
    "test_user_data = UserDataset(News,TestUsers)\n",
    "news_data = NewsDataset(News)"
   ]
  },
  {
   "cell_type": "code",
   "execution_count": 23,
   "metadata": {},
   "outputs": [],
   "source": [
    "with open(config['data_root_path']+'image_embeddings.pkl', 'rb') as f:\n",
    "    data = pickle.load(f)\n",
    "\n",
    "    image_emb_matrix = np.zeros((len(News.news_index)+1, len(data.popitem()[1]),),dtype='float32')\n",
    "\n",
    "    for key in data:\n",
    "\n",
    "        if key in News.news_index:\n",
    "            image_emb_matrix[News.news_index[key]] = data[key]\n"
   ]
  },
  {
   "cell_type": "code",
   "execution_count": 32,
   "metadata": {
    "ExecuteTime": {
     "end_time": "2024-06-23T20:46:20.073213Z",
     "start_time": "2024-06-23T20:46:19.522203Z"
    }
   },
   "outputs": [
    {
     "name": "stdout",
     "output_type": "stream",
     "text": [
      "Moved news_encoder to cuda\n",
      "Moved bias_news_encoder to cuda\n",
      "Moved pop_aware_user_encoder to cuda\n",
      "Moved bias_scorer to cuda\n",
      "Moved activity_gater to cuda\n",
      "Moved time_embedding_layer to cuda\n",
      "Moved time_distributed1 to cuda\n",
      "Moved time_distributed2 to cuda\n",
      "Moved time_distributed3 to cuda\n",
      "Moved scaler to cuda\n",
      "Moved softmax to cuda\n"
     ]
    }
   ],
   "source": [
    "from torch.optim import Adam\n",
    "\n",
    "model,user_encoder,news_encoder,bias_news_encoder,bias_content_scorer,scaler,time_embedding_layer,activity_gater = \\\n",
    "create_pe_model(config, model_config, News, title_word_embedding_matrix, entity_embedding_matrix, image_emb_matrix, topic_embedding_matrix, device)\n",
    "\n",
    "model.to(device)\n",
    "for name, module in model.named_children():\n",
    "    module.to(device)\n",
    "    print(f'Moved {name} to {device}')\n",
    "\n"
   ]
  },
  {
   "cell_type": "code",
   "execution_count": 25,
   "metadata": {},
   "outputs": [],
   "source": [
    "colds = [5, 7, 10, 15]\n",
    "topKs = 10"
   ]
  },
  {
   "cell_type": "code",
   "execution_count": 34,
   "metadata": {
    "ExecuteTime": {
     "end_time": "2024-06-23T20:47:51.941698Z",
     "start_time": "2024-06-23T20:46:20.266217Z"
    }
   },
   "outputs": [
    {
     "name": "stderr",
     "output_type": "stream",
     "text": [
      "  3%|▎         | 27/778 [00:09<04:24,  2.84it/s]\n"
     ]
    },
    {
     "ename": "KeyboardInterrupt",
     "evalue": "",
     "output_type": "error",
     "traceback": [
      "\u001b[1;31m---------------------------------------------------------------------------\u001b[0m",
      "\u001b[1;31mKeyboardInterrupt\u001b[0m                         Traceback (most recent call last)",
      "Cell \u001b[1;32mIn[34], line 16\u001b[0m\n\u001b[0;32m     14\u001b[0m \u001b[38;5;28;01mfor\u001b[39;00m x, y \u001b[38;5;129;01min\u001b[39;00m tqdm(train_loader):\n\u001b[0;32m     15\u001b[0m     optimizer\u001b[38;5;241m.\u001b[39mzero_grad()\n\u001b[1;32m---> 16\u001b[0m     x\u001b[38;5;241m=\u001b[39m [\u001b[43mi\u001b[49m\u001b[38;5;241;43m.\u001b[39;49m\u001b[43mto\u001b[49m\u001b[43m(\u001b[49m\u001b[43mdevice\u001b[49m\u001b[43m)\u001b[49m \u001b[38;5;28;01mfor\u001b[39;00m i \u001b[38;5;129;01min\u001b[39;00m x]\n\u001b[0;32m     17\u001b[0m     y \u001b[38;5;241m=\u001b[39m y\u001b[38;5;241m.\u001b[39mto(device)\n\u001b[0;32m     18\u001b[0m     out \u001b[38;5;241m=\u001b[39m model(x)\n",
      "\u001b[1;31mKeyboardInterrupt\u001b[0m: "
     ]
    }
   ],
   "source": [
    "from tqdm import tqdm\n",
    "val_metrics_epoch = []\n",
    "num_epochs = 10\n",
    "# Step 2: Create your Adam optimizer\n",
    "optimizer = Adam(model.parameters(), lr=0.0001)\n",
    "\n",
    "loss_fn = nn.CrossEntropyLoss()\n",
    "\n",
    "# Step 3: Iterate over the data for the number of epochs\n",
    "for epoch in range(num_epochs):\n",
    "\n",
    "# Step 4: Iterate over each batch of data and compute the scores using the forward pass of the network\n",
    "    model.train()\n",
    "    for x, y in tqdm(train_loader):\n",
    "        optimizer.zero_grad()\n",
    "        x= [i.to(device) for i in x]\n",
    "        y = y.to(device)\n",
    "        out = model(x)\n",
    "    \n",
    "        # Step 5: Compute the lambda gradient values for the pairwise loss (spedup) with the compute_lambda_i method on the scores and the output labels\n",
    "        loss = loss_fn(out, y)\n",
    "\n",
    "        # Step 6: Bacward from the scores with the use of the lambda gradient values\n",
    "        if loss is not None:\n",
    "            # torch.autograd.backward(out, loss)\n",
    "            loss.backward()\n",
    "            \n",
    "            # Step 7: Update the weights using the optimizer\n",
    "            optimizer.step()\n",
    "\n",
    "    model.eval()\n",
    "\n",
    "    val_metrics = eval_model(model_config, News, user_encoder, val_impressions, val_user_data, val_userids,\n",
    "               news_encoder, bias_news_encoder, activity_gater, time_embedding_layer, \n",
    "               bias_content_scorer, scaler, colds, topKs, ValidUsers, device)\n",
    "    \n",
    "    print(\"epoch: {}, metrics: {}\".format(epoch, val_metrics))\n",
    "    val_metrics_epoch.append(val_metrics)\n",
    "\n",
    "    if epoch > 1:\n",
    "        if (val_metrics_epoch[-1][0] < val_metrics_epoch[-2][0]):\n",
    "            break\n",
    "\n"
   ]
  },
  {
   "cell_type": "code",
   "execution_count": 35,
   "metadata": {
    "ExecuteTime": {
     "start_time": "2024-06-23T20:44:33.872428Z"
    }
   },
   "outputs": [
    {
     "name": "stderr",
     "output_type": "stream",
     "text": [
      "  0%|          | 0/12678 [00:00<?, ?it/s]c:\\Users\\tangs\\Documents\\uni_stuff\\RecSys\\RecSys-PP-Rec\\Code\\PEGenerator.py:266: UserWarning: Creating a tensor from a list of numpy.ndarrays is extremely slow. Please consider converting the list to a single numpy.ndarray with numpy.array() before converting to a tensor. (Triggered internally at ..\\torch\\csrc\\utils\\tensor_new.cpp:277.)\n",
      "  user_feature = torch.IntTensor([self.News.fetch_news(clicked_ids)])\n",
      " 25%|██▍       | 3158/12678 [01:38<04:55, 32.17it/s]\n"
     ]
    },
    {
     "ename": "KeyboardInterrupt",
     "evalue": "",
     "output_type": "error",
     "traceback": [
      "\u001b[1;31m---------------------------------------------------------------------------\u001b[0m",
      "\u001b[1;31mKeyboardInterrupt\u001b[0m                         Traceback (most recent call last)",
      "Cell \u001b[1;32mIn[35], line 3\u001b[0m\n\u001b[0;32m      1\u001b[0m colds \u001b[38;5;241m=\u001b[39m [\u001b[38;5;241m5\u001b[39m, \u001b[38;5;241m7\u001b[39m, \u001b[38;5;241m10\u001b[39m, \u001b[38;5;241m15\u001b[39m]\n\u001b[0;32m      2\u001b[0m topKs \u001b[38;5;241m=\u001b[39m \u001b[38;5;241m10\u001b[39m\n\u001b[1;32m----> 3\u001b[0m test_metrics, test_cold_metrics, test_topics, test_ILADs, test_ILMDs \u001b[38;5;241m=\u001b[39m \u001b[43meval_model\u001b[49m\u001b[43m(\u001b[49m\u001b[43mmodel_config\u001b[49m\u001b[43m,\u001b[49m\u001b[43m \u001b[49m\u001b[43mNews\u001b[49m\u001b[43m,\u001b[49m\u001b[43m \u001b[49m\u001b[43muser_encoder\u001b[49m\u001b[43m,\u001b[49m\u001b[43m \u001b[49m\u001b[43mtest_impressions\u001b[49m\u001b[43m,\u001b[49m\u001b[43m \u001b[49m\u001b[43mtest_user_data\u001b[49m\u001b[43m,\u001b[49m\u001b[43m \u001b[49m\u001b[43mtest_userids\u001b[49m\u001b[43m,\u001b[49m\n\u001b[0;32m      4\u001b[0m \u001b[43m               \u001b[49m\u001b[43mnews_encoder\u001b[49m\u001b[43m,\u001b[49m\u001b[43m \u001b[49m\u001b[43mbias_news_encoder\u001b[49m\u001b[43m,\u001b[49m\u001b[43m \u001b[49m\u001b[43mactivity_gater\u001b[49m\u001b[43m,\u001b[49m\u001b[43m \u001b[49m\u001b[43mtime_embedding_layer\u001b[49m\u001b[43m,\u001b[49m\u001b[43m \u001b[49m\n\u001b[0;32m      5\u001b[0m \u001b[43m               \u001b[49m\u001b[43mbias_content_scorer\u001b[49m\u001b[43m,\u001b[49m\u001b[43m \u001b[49m\u001b[43mscaler\u001b[49m\u001b[43m,\u001b[49m\u001b[43m \u001b[49m\u001b[43mcolds\u001b[49m\u001b[43m,\u001b[49m\u001b[43m \u001b[49m\u001b[43mtopKs\u001b[49m\u001b[43m,\u001b[49m\u001b[43m \u001b[49m\u001b[43mTestUsers\u001b[49m\u001b[43m,\u001b[49m\u001b[43m \u001b[49m\u001b[43mdevice\u001b[49m\u001b[43m)\u001b[49m\n",
      "File \u001b[1;32mc:\\Users\\tangs\\Documents\\uni_stuff\\RecSys\\RecSys-PP-Rec\\Code\\utils.py:493\u001b[0m, in \u001b[0;36meval_model\u001b[1;34m(model_config, News, user_encoder, impressions, user_data, user_ids, news_encoder, bias_news_encoder, activity_gater, time_embedding_layer, bias_content_scorer, scaler, colds, topKs, Users, device)\u001b[0m\n\u001b[0;32m    490\u001b[0m publish_time \u001b[38;5;241m=\u001b[39m News\u001b[38;5;241m.\u001b[39mnews_publish_bucket2[docids]\n\u001b[0;32m    492\u001b[0m \u001b[38;5;28;01mif\u001b[39;00m model_config[\u001b[38;5;124m'\u001b[39m\u001b[38;5;124mrel\u001b[39m\u001b[38;5;124m'\u001b[39m]:\n\u001b[1;32m--> 493\u001b[0m     user_data_on_ids \u001b[38;5;241m=\u001b[39m \u001b[43muser_data\u001b[49m\u001b[38;5;241;43m.\u001b[39;49m\u001b[38;5;21;43m__getitem__\u001b[39;49m\u001b[43m(\u001b[49m\u001b[43muser_ids\u001b[49m\u001b[43m[\u001b[49m\u001b[43mi\u001b[49m\u001b[43m]\u001b[49m\u001b[43m)\u001b[49m\n\u001b[0;32m    494\u001b[0m     user_coldness \u001b[38;5;241m=\u001b[39m \u001b[38;5;28mint\u001b[39m(torch\u001b[38;5;241m.\u001b[39mcount_nonzero(torch\u001b[38;5;241m.\u001b[39msum(user_data_on_ids[\u001b[38;5;241m0\u001b[39m], dim\u001b[38;5;241m=\u001b[39m\u001b[38;5;241m2\u001b[39m)[\u001b[38;5;241m0\u001b[39m]))\n\u001b[0;32m    495\u001b[0m     user_data_on_ids \u001b[38;5;241m=\u001b[39m (user_data_on_ids[\u001b[38;5;241m0\u001b[39m]\u001b[38;5;241m.\u001b[39mto(device), user_data_on_ids[\u001b[38;5;241m1\u001b[39m]\u001b[38;5;241m.\u001b[39mto(device))\n",
      "File \u001b[1;32mc:\\Users\\tangs\\Documents\\uni_stuff\\RecSys\\RecSys-PP-Rec\\Code\\PEGenerator.py:268\u001b[0m, in \u001b[0;36mUserDataset.__getitem__\u001b[1;34m(self, idx)\u001b[0m\n\u001b[0;32m    266\u001b[0m user_feature \u001b[38;5;241m=\u001b[39m torch\u001b[38;5;241m.\u001b[39mIntTensor(np\u001b[38;5;241m.\u001b[39marray([\u001b[38;5;28mself\u001b[39m\u001b[38;5;241m.\u001b[39mNews\u001b[38;5;241m.\u001b[39mfetch_news(clicked_ids)]))\n\u001b[0;32m    267\u001b[0m click_bucket \u001b[38;5;241m=\u001b[39m \u001b[38;5;28mself\u001b[39m\u001b[38;5;241m.\u001b[39mUsers\u001b[38;5;241m.\u001b[39mclick_bucket[idx]\n\u001b[1;32m--> 268\u001b[0m click_ctr \u001b[38;5;241m=\u001b[39m torch\u001b[38;5;241m.\u001b[39mIntTensor([\u001b[43mfetch_ctr_dim3\u001b[49m\u001b[43m(\u001b[49m\u001b[38;5;28;43mself\u001b[39;49m\u001b[38;5;241;43m.\u001b[39;49m\u001b[43mNews\u001b[49m\u001b[43m,\u001b[49m\u001b[43m \u001b[49m\u001b[43mclicked_ids\u001b[49m\u001b[43m,\u001b[49m\u001b[43m \u001b[49m\u001b[43mclick_bucket\u001b[49m\u001b[43m,\u001b[49m\u001b[43m \u001b[49m\u001b[43mFLAG_CTR\u001b[49m\u001b[43m)\u001b[49m])\n\u001b[0;32m    270\u001b[0m \u001b[38;5;28;01mreturn\u001b[39;00m user_feature, click_ctr\n",
      "File \u001b[1;32mc:\\Users\\tangs\\Documents\\uni_stuff\\RecSys\\RecSys-PP-Rec\\Code\\PEGenerator.py:84\u001b[0m, in \u001b[0;36mfetch_ctr_dim3\u001b[1;34m(News, docids, bucket, flag)\u001b[0m\n\u001b[0;32m     82\u001b[0m doc_imp \u001b[38;5;241m=\u001b[39m News\u001b[38;5;241m.\u001b[39mnews_stat_imp[docids]\n\u001b[0;32m     83\u001b[0m doc_click \u001b[38;5;241m=\u001b[39m News\u001b[38;5;241m.\u001b[39mnews_stat_click[docids]\n\u001b[1;32m---> 84\u001b[0m ctr \u001b[38;5;241m=\u001b[39m \u001b[43mnp\u001b[49m\u001b[38;5;241;43m.\u001b[39;49m\u001b[43mzeros\u001b[49m\u001b[43m(\u001b[49m\u001b[43mdocids\u001b[49m\u001b[38;5;241;43m.\u001b[39;49m\u001b[43mshape\u001b[49m\u001b[43m)\u001b[49m\n\u001b[0;32m     85\u001b[0m \u001b[38;5;28;01mfor\u001b[39;00m j \u001b[38;5;129;01min\u001b[39;00m \u001b[38;5;28mrange\u001b[39m(doc_num[\u001b[38;5;241m0\u001b[39m]):\n\u001b[0;32m     86\u001b[0m     b \u001b[38;5;241m=\u001b[39m bucket[j] \u001b[38;5;241m-\u001b[39m \u001b[38;5;241m1\u001b[39m\n",
      "\u001b[1;31mKeyboardInterrupt\u001b[0m: "
     ]
    }
   ],
   "source": [
    "colds = [5, 7, 10, 15]\n",
    "topKs = 10\n",
    "test_metrics, test_cold_metrics, test_topics, test_ILADs, test_ILMDs = eval_model(model_config, News, user_encoder, test_impressions, test_user_data, test_userids,\n",
    "               news_encoder, bias_news_encoder, activity_gater, time_embedding_layer, \n",
    "               bias_content_scorer, scaler, colds, topKs, TestUsers, device)"
   ]
  },
  {
   "cell_type": "code",
   "execution_count": null,
   "metadata": {},
   "outputs": [
    {
     "name": "stdout",
     "output_type": "stream",
     "text": [
      "{'biler': 0, 'om_ekstra_bladet': 1, 'haandvaerkeren': 2, 'plus': 3, 'musik': 4, 'sport': 5, 'nyheder': 6, 'opinionen': 7, 'forbrug': 8, 'nationen': 9, 'bibliotek': 10, 'services': 11, 'dagsorden': 12, 'sex_og_samliv': 13, 'penge': 14, 'krimi': 15, 'play': 16, 'vin': 17, 'ferie': 18, 'auto': 19, 'podcast': 20, 'incoming': 21, 'horoskoper': 22, 'underholdning': 23, 'side9': 24}\n"
     ]
    }
   ],
   "source": [
    "print(News.category_dict)"
   ]
  },
  {
   "cell_type": "code",
   "execution_count": null,
   "metadata": {},
   "outputs": [
    {
     "name": "stdout",
     "output_type": "stream",
     "text": [
      "val metrics []\n",
      "test metrics [0.638240975012527, 0.4344798063475666, 0.48158064929225997, 0.5378331465271885]\n",
      "cold [[nan, nan, nan, nan], [nan, nan, nan, nan], [nan, nan, nan, nan], [nan, nan, nan, nan]]\n",
      "diversity [[nan, nan, nan, nan, nan, nan, nan, nan, nan, nan], [nan, nan, nan, nan, nan, nan, nan, nan, nan, nan]]\n"
     ]
    }
   ],
   "source": [
    "print(\"val metrics\", val_metrics_epoch)\n",
    "print(\"test metrics\", test_metrics)\n",
    "print(\"cold\", test_cold_metrics)\n",
    "print(\"diversity\", [test_ILADs, test_ILMDs])\n",
    "\n",
    "results = {\"config\": config,\n",
    "           \"model_config\" : model_config,\n",
    "            \"val metrics\": val_metrics_epoch, \n",
    "           \"test metrics\": test_metrics,\n",
    "           \"cold\": test_cold_metrics,\n",
    "           \"diversity\": [test_ILADs, test_ILMDs]}\n",
    "\n",
    "import json\n",
    "with open('results{}.json'.format(time.time()), 'w') as f:\n",
    "    json.dump(results, f)"
   ]
  },
  {
   "cell_type": "markdown",
   "metadata": {},
   "source": [
    "## Finished\n",
    "## ---"
   ]
  }
 ],
 "metadata": {
  "kernelspec": {
   "display_name": "Python 3",
   "language": "python",
   "name": "python3"
  },
  "language_info": {
   "codemirror_mode": {
    "name": "ipython",
    "version": 3
   },
   "file_extension": ".py",
   "mimetype": "text/x-python",
   "name": "python",
   "nbconvert_exporter": "python",
   "pygments_lexer": "ipython3",
   "version": "3.12.2"
  }
 },
 "nbformat": 4,
 "nbformat_minor": 2
}
