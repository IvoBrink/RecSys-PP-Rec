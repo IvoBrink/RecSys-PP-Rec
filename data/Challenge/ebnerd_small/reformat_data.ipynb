{
 "cells": [
  {
   "cell_type": "code",
   "execution_count": 1,
   "id": "initial_id",
   "metadata": {
    "collapsed": true,
    "ExecuteTime": {
     "end_time": "2024-06-25T20:21:28.973645Z",
     "start_time": "2024-06-25T20:21:26.477437Z"
    }
   },
   "outputs": [],
   "source": [
    "#%pip install pandas pyarrow\n",
    "import pandas as pd\n",
    "\n",
    "# Load the Parquet file\n",
    "articles = pd.read_parquet('articles.parquet', engine='pyarrow')\n",
    "behaviors = pd.read_parquet('train/behaviors.parquet', engine='pyarrow')\n",
    "history = pd.read_parquet('train/history.parquet', engine='pyarrow')\n",
    "\n",
    "val_behaviors = pd.read_parquet('validation/behaviors.parquet', engine='pyarrow')\n",
    "val_history = pd.read_parquet('validation/history.parquet', engine='pyarrow')\n",
    "\n",
    "# bert = pd.read_parquet('bert_base_multilingual_cased.parquet', engine='pyarrow')\n",
    "# display = bert['google-bert/bert-base-multilingual-cased']"
   ]
  },
  {
   "cell_type": "markdown",
   "id": "3a855bf3d6126a52",
   "metadata": {
    "collapsed": false
   },
   "source": [
    "# Test wikipedia entity embeddings"
   ]
  },
  {
   "cell_type": "code",
   "execution_count": 2,
   "id": "98ab4e87855dc11f",
   "metadata": {
    "collapsed": false,
    "ExecuteTime": {
     "end_time": "2024-06-25T13:32:46.164023Z",
     "start_time": "2024-06-25T13:32:28.663550Z"
    }
   },
   "outputs": [
    {
     "name": "stdout",
     "output_type": "stream",
     "text": [
      ", -0.082752 0.67204 -0.14987 -0.064983 0.056491 0.40228 0.0027747 -0.3311 -0.30691 2.0817 0.031819 0.013643 0.30265 0.0071297 -0.5819 -0.2774 -0.062254 1.1451 -0.24232 0.1235 -0.12243 0.33152 -0.006162 -0.30541 -0.13057 -0.054601 0.037083 -0.070552 0.5893 -0.30385 0.2898 -0.14653 -0.27052 0.37161 0.32031 -0.29125 0.0052483 -0.13212 -0.052736 0.087349 -0.26668 -0.16897 0.015162 -0.0083746 -0.14871 0.23413 -0.20719 -0.091386 0.40075 -0.17223 0.18145 0.37586 -0.28682 0.37289 -0.16185 0.18008 0.3032 -0.13216 0.18352 0.095759 0.094916 0.008289 0.11761 0.34046 0.03677 -0.29077 0.058303 -0.027814 0.082941 0.1862 -0.031494 0.27985 -0.074412 -0.13762 -0.21866 0.18138 0.040855 -0.113 0.24107 0.3657 -0.27525 -0.05684 0.34872 0.011884 0.14517 -0.71395 0.48497 0.14807 0.62287 0.20599 0.58379 -0.13438 0.40207 0.18311 0.28021 -0.42349 -0.25626 0.17715 -0.54095 0.16596 -0.036058 0.08499 -0.64989 0.075549 -0.28831 0.40626 -0.2802 0.094062 0.32406 0.28437 -0.26341 0.11553 0.071918 -0.47215 -0.18366 -0.34709 0.29964 -0.66514 0.002516 -0.42333 0.27512 0.36012 0.16311 0.23964 -0.05923 0.3261 0.20559 0.038677 -0.045816 0.089764 0.43151 -0.15954 0.08532 -0.26572 -0.15001 0.084286 -0.16714 -0.43004 0.060807 0.13121 -0.24112 0.66554 0.4453 -0.18019 -0.13919 0.56252 0.21457 -0.46443 -0.012211 0.029988 -0.051094 -0.20135 0.80788 0.47377 -0.057647 0.46216 0.16084 -0.20954 -0.05452 0.15572 -0.13712 0.12972 -0.011936 -0.003378 -0.13595 -0.080711 0.20065 0.054056 0.046816 0.059539 0.046265 0.17754 -0.31094 0.28119 -0.24355 0.085252 -0.21011 -0.19472 0.0027297 -0.46341 0.14789 -0.31517 -0.065939 0.036106 0.42903 -0.33759 0.16432 0.32568 -0.050392 -0.054297 0.24074 0.41923 0.13012 -0.17167 -0.37808 -0.23089 -0.019477 -0.29291 -0.30824 0.30297 -0.22659 0.081574 -0.18516 -0.21408 0.40616 -0.28974 0.074174 -0.17795 0.28595 -0.039626 -0.2339 -0.36054 -0.067503 -0.091065 0.23438 -0.0041331 0.003232 0.0072134 0.008697 0.21614 0.049904 0.35582 0.13748 0.073361 0.14166 0.2412 -0.013322 0.15613 0.083381 0.088146 -0.019357 0.43795 0.083961 0.45309 -0.50489 -0.10865 -0.2527 -0.18251 0.20441 0.13319 0.1294 0.050594 -0.15612 -0.39543 0.12538 0.24881 -0.1927 -0.31847 -0.12719 0.4341 0.31177 -0.0040946 -0.2094 -0.079961 0.1161 -0.050794 0.015266 -0.2803 -0.12486 0.23587 0.2339 -0.14023 0.028462 0.56923 -0.1649 -0.036429 0.010051 -0.17107 -0.042608 0.044965 -0.4393 -0.26137 0.30088 -0.060772 -0.45312 -0.19076 -0.20288 0.27694 -0.060888 0.11944 0.62206 -0.19343 0.47849 -0.30113 0.059389 0.074901 0.061068 -0.4662 0.40054 -0.19099 -0.14331 0.018267 -0.18643 0.20709 -0.35598 0.05338 -0.050821 -0.1918 -0.37846 -0.06589\n"
     ]
    }
   ],
   "source": [
    "with open(\"../../../../glove.840B.300d.txt\", \"r\", encoding=\"utf8\") as f:\n",
    "    lines = f.readlines()\n",
    "    print(lines[0]) "
   ]
  },
  {
   "cell_type": "code",
   "execution_count": 3,
   "id": "567ea5313cde23f",
   "metadata": {
    "collapsed": false,
    "ExecuteTime": {
     "end_time": "2024-06-25T13:32:46.254021Z",
     "start_time": "2024-06-25T13:32:46.167020Z"
    }
   },
   "outputs": [
    {
     "name": "stdout",
     "output_type": "stream",
     "text": [
      "Number of unique entities: 44539\n",
      "Percentage of articles without entities: 26.24650400231459%\n"
     ]
    }
   ],
   "source": [
    "entities = []\n",
    "nr_articles_no_entities = 0\n",
    "for ner_clusters in articles[\"ner_clusters\"]:\n",
    "    if len(ner_clusters) == 0:\n",
    "        nr_articles_no_entities += 1\n",
    "    for entity in ner_clusters:\n",
    "        entities.append(entity)\n",
    "unique_entities = set(entities)\n",
    "print(f\"Number of unique entities: {len(unique_entities)}\")\n",
    "print(f\"Percentage of articles without entities: {(nr_articles_no_entities / len(articles)) * 100}%\")"
   ]
  },
  {
   "cell_type": "code",
   "execution_count": 4,
   "id": "191cd77940a54536",
   "metadata": {
    "collapsed": false,
    "ExecuteTime": {
     "end_time": "2024-06-25T13:33:22.149282Z",
     "start_time": "2024-06-25T13:32:46.258026Z"
    }
   },
   "outputs": [
    {
     "name": "stdout",
     "output_type": "stream",
     "text": [
      "Percentage of entities found in the wikipedia embeddings: 19.20564000089809%\n"
     ]
    }
   ],
   "source": [
    "found = 0\n",
    "found_embeddings = []\n",
    "for line in lines[1:]:\n",
    "    entity = line.split()[0]\n",
    "    if entity in unique_entities:\n",
    "        found += 1\n",
    "        found_embeddings.append(entity)\n",
    "print(f\"Percentage of entities found in the wikipedia embeddings: {(found/len(unique_entities)  * 100)}%\")    "
   ]
  },
  {
   "cell_type": "code",
   "execution_count": 5,
   "id": "851af58ed0e77a64",
   "metadata": {
    "collapsed": false,
    "ExecuteTime": {
     "end_time": "2024-06-25T13:33:22.179329Z",
     "start_time": "2024-06-25T13:33:22.151287Z"
    }
   },
   "outputs": [
    {
     "name": "stdout",
     "output_type": "stream",
     "text": [
      "8548\n"
     ]
    }
   ],
   "source": [
    "# write to file\n",
    "with open(\"../entity/entities2id.txt\", \"w\", encoding=\"utf8\") as f:\n",
    "    for idx,entity in enumerate(set(found_embeddings)):\n",
    "        f.write(str(idx+1) +\"\\t\" + entity + \"\\n\")\n",
    "print(idx)"
   ]
  },
  {
   "cell_type": "code",
   "execution_count": 6,
   "id": "c86bff216833e806",
   "metadata": {
    "collapsed": false,
    "ExecuteTime": {
     "end_time": "2024-06-25T13:33:23.771759Z",
     "start_time": "2024-06-25T13:33:22.181327Z"
    }
   },
   "outputs": [
    {
     "name": "stdout",
     "output_type": "stream",
     "text": [
      "8549\n"
     ]
    },
    {
     "data": {
      "text/plain": "8549"
     },
     "execution_count": 6,
     "metadata": {},
     "output_type": "execute_result"
    }
   ],
   "source": [
    "# test file\n",
    "with open('../entity/entities2id.txt', encoding=\"utf8\") as f:\n",
    "    lines = f.readlines()\n",
    "\n",
    "Entity2Index = {}\n",
    "Index2Entity = {}\n",
    "print(len(lines))\n",
    "for line in lines:\n",
    "    index, word = line.strip('\\n').split('\\t')\n",
    "    if word in Entity2Index or index in Index2Entity:\n",
    "        raise Exception(\"Duplicate entity\")\n",
    "    Entity2Index[word] = int(index)\n",
    "    Index2Entity[int(index)] = word\n",
    "len(Entity2Index)"
   ]
  },
  {
   "cell_type": "code",
   "execution_count": 7,
   "id": "c701ebfddf438be7",
   "metadata": {
    "collapsed": false,
    "ExecuteTime": {
     "end_time": "2024-06-25T13:33:23.816762Z",
     "start_time": "2024-06-25T13:33:23.773759Z"
    }
   },
   "outputs": [
    {
     "data": {
      "text/plain": "{'JoJo': 1,\n 'Faxe': 2,\n 'Ensenada': 3,\n 'Moderaterna': 4,\n 'Med': 5,\n 'Lotto': 6,\n 'Spamfighter': 7,\n 'Midland': 8,\n 'IEM': 9,\n 'NORGE': 10,\n 'paranoid': 11,\n 'Korac': 12,\n 'Trentino': 13,\n 'Skeen': 14,\n 'Rådhuspladsen': 15,\n 'YLE': 16,\n 'Nazareth': 17,\n 'blik': 18,\n 'Miho': 19,\n 'SVB': 20,\n 'dalen': 21,\n 'Party': 22,\n 'Albon': 23,\n 'Ohi': 24,\n 'Fremad': 25,\n 'Bungie': 26,\n 'prins': 27,\n 'Wish': 28,\n 'MASH': 29,\n 'Polo': 30,\n 'Creswell': 31,\n 'Rosted': 32,\n 'M3': 33,\n 'Mannheim': 34,\n 'Nørreport': 35,\n 'OASA': 36,\n 'Høje': 37,\n 'Asger': 38,\n 'Matip': 39,\n 'Medtronic': 40,\n 'Cartier': 41,\n 'Islamabad': 42,\n 'French': 43,\n 'Corona': 44,\n 'Bogner': 45,\n 'Blockbuster': 46,\n 'Braithwaites': 47,\n 'DSG': 48,\n 'R8': 49,\n 'Frans': 50,\n 'Chickpeas': 51,\n 'Boost': 52,\n 'Corvette': 53,\n 'LT': 54,\n 'DPC': 55,\n 'Stettin': 56,\n 'Iceman': 57,\n 'Linkedin': 58,\n 'Python': 59,\n 'Legendary': 60,\n 'SCO': 61,\n 'Ranum': 62,\n 'Stabæk': 63,\n 'Esplugues': 64,\n 'Serenity': 65,\n 'Kroatien': 66,\n 'BREAKING': 67,\n 'Watergate': 68,\n 'AMU': 69,\n 'Blick': 70,\n 'Sauber': 71,\n 'Stage': 72,\n 'Fury': 73,\n 'Nibe': 74,\n 'Wassenaar': 75,\n 'Kommersant': 76,\n 'PTSD': 77,\n 'Japan': 78,\n 'Webster': 79,\n 'Mogens': 80,\n 'Kleis': 81,\n 'Lønstrup': 82,\n 'Malpensa': 83,\n 'Billings': 84,\n 'TENGA': 85,\n 'TNV': 86,\n 'Maastricht': 87,\n 'Nephew': 88,\n 'Venezuela': 89,\n 'Dnipropetrovsk': 90,\n 'NET': 91,\n 'Excel': 92,\n 'Mojo': 93,\n 'Novozymes': 94,\n 'L1': 95,\n 'Opec': 96,\n 'Bælt': 97,\n 'Dansen': 98,\n 'norske': 99,\n 'Rasmus': 100,\n 'Piteå': 101,\n 'Ana': 102,\n 'GTI': 103,\n 'Neymar': 104,\n 'BHD': 105,\n 'AT': 106,\n 'Jeans': 107,\n 'Land': 108,\n 'Figaro': 109,\n 'Løkke': 110,\n 'Today': 111,\n 'Melfi': 112,\n 'Houdini': 113,\n 'Cille': 114,\n 'InWear': 115,\n 'Portugal': 116,\n 'Ganni': 117,\n 'Expressen': 118,\n 'Pumpehuset': 119,\n 'Hawaiis': 120,\n 'Bruz': 121,\n 'Ursus': 122,\n 'Braithwaite': 123,\n 'Dmitriy': 124,\n 'Göteborgs': 125,\n 'Nymphomaniac': 126,\n 'Westfalenstadion': 127,\n 'Disco': 128,\n 'Dr': 129,\n 'Biler': 130,\n 'Puttgarden': 131,\n 'Hawaii': 132,\n 'Legoland': 133,\n 'Fiesta': 134,\n 'Nationalbank': 135,\n 'Iyabo': 136,\n 'Norris': 137,\n 'Risskov': 138,\n 'Clooneys': 139,\n 'Jordanna': 140,\n 'Jutland': 141,\n 'UEFA': 142,\n 'Lyon': 143,\n 'Ulrik': 144,\n 'Kromann': 145,\n 'Wuhan': 146,\n 'Thanasi': 147,\n 'U17': 148,\n 'Mads': 149,\n 'Wuppertal': 150,\n 'Faxes': 151,\n 'Pil': 152,\n 'Nils': 153,\n 'Stenos': 154,\n 'FPÖ': 155,\n 'Astma': 156,\n 'Toke': 157,\n 'Dan': 158,\n 'Kering': 159,\n 'Venstre': 160,\n 'Nusra': 161,\n 'Idom': 162,\n 'Dangerous': 163,\n 'Interview': 164,\n 'Internazionale': 165,\n 'Getafe': 166,\n 'Porno': 167,\n 'Petersburg': 168,\n 'Mob': 169,\n 'Nicholas': 170,\n 'Coconuts': 171,\n 'Oliver': 172,\n 'Simone': 173,\n 'FBI': 174,\n 'Delaney': 175,\n 'Dracula': 176,\n 'Kimmie': 177,\n 'BSH': 178,\n 'Visma': 179,\n 'Brande': 180,\n 'ITIA': 181,\n 'Det': 182,\n 'Waterland': 183,\n 'Laporte': 184,\n 'Franks': 185,\n 'Roe': 186,\n 'smartphone': 187,\n 'Hansen': 188,\n 'Blachman': 189,\n 'Beirut': 190,\n 'Waasland': 191,\n 'Undercover': 192,\n 'Braunschweig': 193,\n 'Salalah': 194,\n 'Nature': 195,\n 'Adele': 196,\n 'Esquire': 197,\n 'CP': 198,\n 'DBU': 199,\n 'Allen': 200,\n 'Bilbo': 201,\n 'Hvaler': 202,\n 'Ludvig': 203,\n 'Georgien': 204,\n 'Svitzer': 205,\n 'riserva': 206,\n 'Merlot': 207,\n 'Augsburg': 208,\n 'Phi': 209,\n 'Holmen': 210,\n 'FlightAware': 211,\n 'Stupid': 212,\n 'Koncert': 213,\n 'Planos': 214,\n 'Pio': 215,\n 'SST': 216,\n 'Fittipaldi': 217,\n 'Instagram': 218,\n 'Po': 219,\n 'Betfair': 220,\n 'Gladbach': 221,\n 'Youtube': 222,\n 'Gaza': 223,\n 'Psycho': 224,\n 'Elysium': 225,\n 'Mick': 226,\n 'MKT': 227,\n 'Kill': 228,\n 'Kunming': 229,\n 'Lufthavn': 230,\n 'Loredo': 231,\n 'G': 232,\n 'wen': 233,\n 'Scary': 234,\n 'Hampton': 235,\n 'Sportscenter': 236,\n 'Samson': 237,\n 'Balwani': 238,\n 'Miroku': 239,\n 'Holstebro': 240,\n 'Nerja': 241,\n 'Divergent': 242,\n 'DRC': 243,\n 'AGFA': 244,\n 'Showtime': 245,\n 'Isaksen': 246,\n 'Talleres': 247,\n 'Everwood': 248,\n 'FBIs': 249,\n 'Michas': 250,\n 'Barbara': 251,\n 'Bono': 252,\n 'Corratec': 253,\n 'Krak': 254,\n 'Sutton': 255,\n 'Kyoto': 256,\n 'Bengals': 257,\n 'Felipe': 258,\n 'Jimmi': 259,\n 'AC': 260,\n 'Wolves': 261,\n 'Malina': 262,\n 'Fukushima': 263,\n 'Auctions': 264,\n 'Gotland': 265,\n 'EPA': 266,\n 'Boulevard': 267,\n 'Dam': 268,\n 'Metz': 269,\n 'Ivana': 270,\n 'Vi': 271,\n 'Kazakhstan': 272,\n 'Castros': 273,\n 'QD': 274,\n 'Charlotte': 275,\n 'Cosmopol': 276,\n 'Steen': 277,\n 'EHF': 278,\n 'Antarktis': 279,\n 'Tani': 280,\n 'Live': 281,\n 'Hall': 282,\n 'Majdan': 283,\n 'Congo': 284,\n 'Trondheim': 285,\n 'Api': 286,\n 'Nigerias': 287,\n 'Høyre': 288,\n 'Gucci': 289,\n 'Sabatier': 290,\n 'Kick': 291,\n 'Leuven': 292,\n '1864': 293,\n 'Canadas': 294,\n 'Sachsen': 295,\n 'Payne': 296,\n 'Go': 297,\n 'Forchhammer': 298,\n 'CKV': 299,\n 'Dauphiné': 300,\n 'Luigi': 301,\n 'Amstelveen': 302,\n 'JPMorgan': 303,\n 'Indo': 304,\n 'Goya': 305,\n 'West': 306,\n 'Sisto': 307,\n 'Philips': 308,\n 'Rikshospitalet': 309,\n 'Foreningen': 310,\n 'Cup': 311,\n 'Coldplay': 312,\n 'Ohio': 313,\n 'Opta': 314,\n 'Omnibus': 315,\n 'Trondhjem': 316,\n 'Clingy': 317,\n 'Voltaren': 318,\n 'Danika': 319,\n 'Unesco': 320,\n 'Cuba': 321,\n 'Joakim': 322,\n 'Rosenborg': 323,\n 'Halling': 324,\n 'Isabellas': 325,\n 'Valeriy': 326,\n 'Barbarian': 327,\n 'African': 328,\n 'Blender': 329,\n 'Tumblr': 330,\n 'Melisandre': 331,\n 'Allans': 332,\n 'ELIZA': 333,\n 'Philadelphia': 334,\n 'Karen': 335,\n 'Ruben': 336,\n 'IBF': 337,\n 'Passer': 338,\n 'Magnus': 339,\n 'Falck': 340,\n 'Funkadelic': 341,\n 'Bahnsen': 342,\n 'Sloan': 343,\n 'Byg': 344,\n 'Britt': 345,\n 'Svaneke': 346,\n 'Sparta': 347,\n 'Louisianas': 348,\n 'Little': 349,\n 'Dot': 350,\n 'Harriet': 351,\n 'Wigan': 352,\n 'TCB': 353,\n 'Mariestad': 354,\n 'Basel': 355,\n 'Liv': 356,\n 'Sheeran': 357,\n 'Riley': 358,\n 'TImes': 359,\n 'Brede': 360,\n 'Itunes': 361,\n 'Rippled': 362,\n 'DIF': 363,\n 'Morata': 364,\n 'Silje': 365,\n 'Valdemar': 366,\n 'Indonesien': 367,\n 'Prager': 368,\n 'Vejle': 369,\n 'SmartMoney': 370,\n 'GLS': 371,\n 'Ecuador': 372,\n 'Karina': 373,\n 'Courchevel': 374,\n 'Loke': 375,\n 'Weaver': 376,\n 'Docken': 377,\n 'ICJ': 378,\n 'Siri': 379,\n 'lager': 380,\n 'Spargo': 381,\n 'Heidenheim': 382,\n 'Å': 383,\n 'B': 384,\n 'Mykolaiv': 385,\n 'Nikolaj': 386,\n 'hippocampus': 387,\n 'Conference': 388,\n 'Sasha': 389,\n 'Forestier': 390,\n 'Messerschmidt': 391,\n 'Fomalhaut': 392,\n 'Leclerc': 393,\n 'MeToo': 394,\n 'Gravesen': 395,\n 'Gladio': 396,\n 'Sussex': 397,\n 'Sana': 398,\n 'Angelis': 399,\n 'FLDS': 400,\n 'Haval': 401,\n 'Grease': 402,\n 'Ramesh': 403,\n 'redaktion': 404,\n 'ELLE': 405,\n 'Videre': 406,\n 'Udinese': 407,\n 'Wien': 408,\n 'Kalei': 409,\n 'Yokohama': 410,\n 'Downs': 411,\n 'Melina': 412,\n 'Mali': 413,\n 'Kellys': 414,\n 'Lordi': 415,\n 'RBC': 416,\n 'Somalia': 417,\n 'Holyroodhouse': 418,\n 'Catherine': 419,\n 'Fie': 420,\n 'Ride': 421,\n 'Skyttä': 422,\n 'boyfriend': 423,\n 'Volkswagen': 424,\n 'Viareggio': 425,\n 'Ha': 426,\n 'Barbon': 427,\n 'Southampton': 428,\n 'Costume': 429,\n 'Oticon': 430,\n 'Matters': 431,\n 'NSK': 432,\n 'Cayenne': 433,\n 'Calcutta': 434,\n 'Cremant': 435,\n 'Nyköping': 436,\n 'Chicago': 437,\n 'Festivals': 438,\n 'Manzano': 439,\n 'Fred': 440,\n 'Yonhap': 441,\n 'SSP': 442,\n 'Jørgensen': 443,\n 'Petra': 444,\n 'slot': 445,\n 'Königsberg': 446,\n 'Ash': 447,\n 'Goa': 448,\n 'Pape': 449,\n 'Zelda': 450,\n 'Zeke': 451,\n 'Gasperini': 452,\n 'Paramount': 453,\n 'Einar': 454,\n 'Star': 455,\n 'Work': 456,\n 'Billions': 457,\n 'Ibrahim': 458,\n 'Hvam': 459,\n 'Geo': 460,\n 'Casualty': 461,\n 'Safari': 462,\n 'Algeciras': 463,\n 'Martínez': 464,\n 'Sons': 465,\n 'Kursk': 466,\n 'Tourves': 467,\n 'Stadio': 468,\n 'AaB': 469,\n 'Dusty': 470,\n 'Effie': 471,\n 'Brenderup': 472,\n 'Smuk': 473,\n 'Hideaway': 474,\n 'Lampre': 475,\n 'Agüero': 476,\n 'acetone': 477,\n 'Yakuza': 478,\n 'Artland': 479,\n 'Kasper': 480,\n 'NBSC': 481,\n 'Indianer': 482,\n 'F16': 483,\n 'Fallet': 484,\n 'Maiken': 485,\n 'Wallonne': 486,\n 'skat': 487,\n 'Nini': 488,\n 'Belize': 489,\n 'Bubba': 490,\n 'Firebrand': 491,\n 'Raleigh': 492,\n 'kd': 493,\n 'Penrose': 494,\n 'EBU': 495,\n 'Sexus': 496,\n 'Slayer': 497,\n 'Succession': 498,\n 'Noelle': 499,\n 'BT': 500,\n 'NKC': 501,\n 'UNDP': 502,\n 'Xiaomi': 503,\n 'Skatteverket': 504,\n 'Playstation': 505,\n 'Impey': 506,\n 'Esna': 507,\n 'Telenor': 508,\n 'Pet': 509,\n 'Afrika': 510,\n 'Evolution': 511,\n 'Ballen': 512,\n 'Uralkali': 513,\n 'Gap': 514,\n 'Baby': 515,\n 'Lorry': 516,\n 'Luzern': 517,\n 'Calumet': 518,\n 'Frankfurts': 519,\n 'Charleroi': 520,\n 'Kyung': 521,\n 'bi': 522,\n 'Fame': 523,\n 'Haddaway': 524,\n 'Verona': 525,\n 'Kasten': 526,\n 'Grazia': 527,\n 'Force': 528,\n 'Jeppe': 529,\n 'Espai': 530,\n 'Kraka': 531,\n 'Marcel': 532,\n 'Coops': 533,\n 'Troels': 534,\n 'd': 535,\n 'Edging': 536,\n 'Solna': 537,\n '3630': 538,\n 'HLTV': 539,\n 'British': 540,\n 'Ullerup': 541,\n 'Birdbox': 542,\n 'Barca': 543,\n 'Humble': 544,\n 'All': 545,\n 'Schalke': 546,\n 'Ngor': 547,\n 'Kamas': 548,\n 'Windsor': 549,\n 'Krags': 550,\n 'Salzburg': 551,\n 'Mosul': 552,\n 'Carlsberg': 553,\n 'Bergfeld': 554,\n 'Antalya': 555,\n 'Cengiz': 556,\n 'Bredal': 557,\n 'Cambodia': 558,\n 'Justified': 559,\n 'Norma': 560,\n 'Aladdin': 561,\n 'Aars': 562,\n 'Ludmilla': 563,\n 'Lundin': 564,\n 'Jackass': 565,\n 'Berleburg': 566,\n 'Blackstone': 567,\n 'Mainz': 568,\n 'Darmstadt': 569,\n 'Missouri': 570,\n 'Arequipa': 571,\n 'Jones': 572,\n 'Mols': 573,\n 'Birtney': 574,\n 'Adrenalina': 575,\n 'Prema': 576,\n 'Trush': 577,\n 'Kgs': 578,\n 'Belfast': 579,\n 'nem': 580,\n 'Arcadia': 581,\n 'Kraftwerk': 582,\n 'Tirstrup': 583,\n 'Aki': 584,\n 'Israel': 585,\n 'Alessandra': 586,\n 'Nationale': 587,\n 'Hammel': 588,\n 'Goussainville': 589,\n 'Arnie': 590,\n 'Nirvana': 591,\n 'Tensor': 592,\n 'Meyer': 593,\n 'Rialto': 594,\n 'Corsa': 595,\n 'Zealands': 596,\n 'ITF': 597,\n 'Licens': 598,\n 'Alonsos': 599,\n 'Groningen': 600,\n 'Exa': 601,\n 'Tolkien': 602,\n 'Super': 603,\n 'Marienlyst': 604,\n 'V': 605,\n 'Gloria': 606,\n 'HR': 607,\n 'DAOs': 608,\n 'Mirage': 609,\n 'LLO': 610,\n 'Thott': 611,\n 'Johannes': 612,\n 'Galatasaray': 613,\n 'Bourguignon': 614,\n 'Hypercar': 615,\n 'Pellas': 616,\n 'Richter': 617,\n 'diabetes': 618,\n 'RO': 619,\n 'Shakira': 620,\n 'Sweetie': 621,\n 'NewScientist': 622,\n 'Vesterbro': 623,\n 'Wolt': 624,\n 'Bergen': 625,\n 'Prisen': 626,\n 'Sea': 627,\n 'Jannick': 628,\n 'Daikoku': 629,\n 'Argentina': 630,\n 'Pegasus': 631,\n 'KNR': 632,\n 'CCD': 633,\n '4chan': 634,\n 'Benjamin': 635,\n 'Petropavlovsk': 636,\n 'DPU': 637,\n 'Myprotein': 638,\n 'CPAP': 639,\n 'Sør': 640,\n 'Gentofte': 641,\n 'Sydney': 642,\n 'Natasja': 643,\n 'Farkas': 644,\n 'Finals': 645,\n 'Mensah': 646,\n 'Kamilla': 647,\n 'Westlife': 648,\n 'Creed': 649,\n 'Mandy': 650,\n 'Hyde': 651,\n 'Silence': 652,\n 'Eupen': 653,\n 'Mexico': 654,\n 'Hillerød': 655,\n 'Amerika': 656,\n 'Qatar': 657,\n 'EPC': 658,\n 'MIT': 659,\n 'Haaretz': 660,\n 'Tarp': 661,\n 'Bispebjerg': 662,\n 'Glamour': 663,\n 'Minuteman': 664,\n 'Karsen': 665,\n 'Nebel': 666,\n 'Pam': 667,\n 'Coup': 668,\n 'Semco': 669,\n 'Cyrus': 670,\n 'Rock': 671,\n 'Full': 672,\n 'Bond': 673,\n 'Briks': 674,\n 'Romford': 675,\n 'DW': 676,\n 'Lugano': 677,\n 'Input': 678,\n 'Targaryens': 679,\n 'Pige': 680,\n 'P4': 681,\n 'Reed': 682,\n 'Brdr': 683,\n 'Linköping': 684,\n 'LVMH': 685,\n 'Kent': 686,\n 'Hamas': 687,\n 'Fuengirola': 688,\n 'Produkt': 689,\n 'Hatay': 690,\n 'Bari': 691,\n 'Biesse': 692,\n 'Dalby': 693,\n 'Madsens': 694,\n 'Richmond': 695,\n 'Arch': 696,\n 'BaseCamp': 697,\n 'Schiedam': 698,\n 'Guinea': 699,\n 'Stuttgart': 700,\n 'Emmy': 701,\n 'LCD': 702,\n 'Burberry': 703,\n 'Donetsk': 704,\n 'Johnsen': 705,\n 'Caitlyn': 706,\n 'NAVI': 707,\n 'Hella': 708,\n 'FMI': 709,\n 'James': 710,\n 'Sushi': 711,\n 'Neuson': 712,\n 'SKAT': 713,\n 'Pickles': 714,\n 'OBs': 715,\n 'Tehreek': 716,\n 'Dronning': 717,\n 'Pudong': 718,\n 'Boston': 719,\n 'Bill': 720,\n 'Bobby': 721,\n 'Kirkegaard': 722,\n 'Niro': 723,\n 'Stefano': 724,\n 'Art': 725,\n 'Balder': 726,\n 'Alexa': 727,\n 'Ludwig': 728,\n 'Jablonec': 729,\n 'Schneider': 730,\n 'Briten': 731,\n 'Chang': 732,\n 'montana': 733,\n 'Reiley': 734,\n 'Dua': 735,\n 'City2': 736,\n 'Zero': 737,\n 'Queens': 738,\n 'Starfighters': 739,\n 'Thomas': 740,\n 'A12': 741,\n 'Janelle': 742,\n 'Smokey': 743,\n 'Edelweiss': 744,\n 'Almeria': 745,\n 'nazi': 746,\n 'Bissau': 747,\n 'UCLA': 748,\n 'Warriors': 749,\n 'DAX': 750,\n 'Lagerfeld': 751,\n 'Adventurous': 752,\n 'Lily': 753,\n 'Atalanta': 754,\n 'Luke': 755,\n 'Melanie': 756,\n 'Vendsyssel': 757,\n 'shin': 758,\n 'Pauline': 759,\n 'Obesity': 760,\n 'Circle': 761,\n 'Lightyear': 762,\n 'Florica': 763,\n 'Marlo': 764,\n 'Hinge': 765,\n 'Holden': 766,\n 'bossanova': 767,\n 'Bum': 768,\n 'TV3': 769,\n 'Villa': 770,\n 'Forbund': 771,\n 'Sektion': 772,\n 'Müller': 773,\n 'Dagen': 774,\n 'Dunkin': 775,\n 'sop': 776,\n 'Sigrid': 777,\n 'Outlaw': 778,\n 'NFF': 779,\n 'Cutfather': 780,\n 'Cosmopolitan': 781,\n 'Eliott': 782,\n 'De': 783,\n 'pakken': 784,\n 'Brightons': 785,\n 'Ethel': 786,\n 'Birk': 787,\n 'Anton': 788,\n 'Baretta': 789,\n 'AfD': 790,\n 'Kyrene': 791,\n 'Jackmans': 792,\n 'Iowa': 793,\n 'Darlington': 794,\n 'Subway': 795,\n 'Sense': 796,\n 'Heidelberg': 797,\n 'Adderall': 798,\n 'CREA': 799,\n 'Trelleborg': 800,\n 'Bolivia': 801,\n 'Madagaskar': 802,\n 'Khimki': 803,\n 'Knudsens': 804,\n 'Bucuresti': 805,\n 'UNSW': 806,\n 'Hokkaido': 807,\n 'Hospital': 808,\n 'Langt': 809,\n 'Baur': 810,\n 'Serene': 811,\n 'Eternals': 812,\n 'Hammers': 813,\n 'Strava': 814,\n 'Southlake': 815,\n 'Grosjean': 816,\n 'Lena': 817,\n 'Skat': 818,\n 'Yukon': 819,\n 'Doggystyle': 820,\n 'Bf': 821,\n 'ApS': 822,\n 'BDSM': 823,\n 'Herning': 824,\n 'Kjær': 825,\n 'Croydon': 826,\n 'EL': 827,\n 'Dorothea': 828,\n 'Split': 829,\n 'Norlys': 830,\n 'Nanna': 831,\n 'Chilwell': 832,\n 'Nike': 833,\n 'Capa': 834,\n 'Isabelle': 835,\n 'B8': 836,\n 'age': 837,\n 'TOS': 838,\n 'Ambition': 839,\n 'Frankfurt': 840,\n 'Zealand': 841,\n 'Beyoncé': 842,\n 'Landin': 843,\n 'Papers': 844,\n 'Passo': 845,\n 'Mondelez': 846,\n 'Türkmen': 847,\n 'Holeby': 848,\n 'Syriza': 849,\n 'Citroën': 850,\n 'Region': 851,\n 'Brian': 852,\n 'Wyre': 853,\n 'Heilbronn': 854,\n 'England': 855,\n 'Oregon': 856,\n 'Android': 857,\n 'Variant': 858,\n 'Nutella': 859,\n 'Runrig': 860,\n 'Widerøe': 861,\n 'Verstappen': 862,\n 'MSAC': 863,\n 'Phuket': 864,\n 'Stone': 865,\n 'TRT': 866,\n 'Transporter': 867,\n 'Centrum': 868,\n 'Dagbladet': 869,\n 'Wilczek': 870,\n 'Ironman': 871,\n 'Gummersbach': 872,\n 'Lucilla': 873,\n 'Cuber': 874,\n 'Wilf': 875,\n 'Friends': 876,\n 'Appeal': 877,\n 'Dumfries': 878,\n 'Eugene': 879,\n 'Ringo': 880,\n 'Ternopil': 881,\n 'Alexandras': 882,\n 'Cesena': 883,\n 'Skov': 884,\n 'Producers': 885,\n 'Pauli': 886,\n 'Future': 887,\n 'Nashville': 888,\n 'Serif': 889,\n 'V2C': 890,\n 'Litauen': 891,\n 'LIV': 892,\n 'Oscars': 893,\n 'Freddy': 894,\n 'Set': 895,\n 'Bjarne': 896,\n 'CNI': 897,\n 'Leaks': 898,\n 'Trouble': 899,\n 'Rutan': 900,\n 'Aftenposten': 901,\n 'Dujour': 902,\n 'PeerJ': 903,\n 'Metallica': 904,\n 'Waoo': 905,\n 'Isabel': 906,\n 'appen': 907,\n 'Maryland': 908,\n 'Hubei': 909,\n 'Messer': 910,\n 'Vitalia': 911,\n 'Jeannie': 912,\n 'Trumps': 913,\n 'Sanaa': 914,\n 'Klassen': 915,\n 'Masha': 916,\n 'Null': 917,\n 'Colorado': 918,\n 'Boucher': 919,\n 'Theis': 920,\n 'Amsterdam': 921,\n 'Stand': 922,\n 'Mayfair': 923,\n 'Ferrari': 924,\n 'Eli': 925,\n 'Goop': 926,\n 'GP2': 927,\n 'Stege': 928,\n 'Bakken': 929,\n 'TINA': 930,\n 'Bali': 931,\n 'Emmaljunga': 932,\n 'Shortbus': 933,\n 'Hofmeister': 934,\n 'Primetime': 935,\n 'Dolores': 936,\n 'YPG': 937,\n 'Valhalla': 938,\n 'KRIS': 939,\n 'Delphine': 940,\n 'Saba': 941,\n 'Brynja': 942,\n 'Disp': 943,\n 'ABPI': 944,\n 'Anthony': 945,\n 'Gabriel': 946,\n 'KeyCorp': 947,\n 'Moria': 948,\n 'dpa': 949,\n 'Syng': 950,\n 'Diyarbakir': 951,\n 'Paypal': 952,\n 'Strand': 953,\n 'Vikar': 954,\n 'Quebecs': 955,\n 'Leopard': 956,\n 'Sahara': 957,\n 'Adams': 958,\n 'Reuters': 959,\n 'Holyrood': 960,\n 'Hooligans': 961,\n 'Torvet': 962,\n 'ITV': 963,\n 'Moose': 964,\n 'Karoline': 965,\n 'Zentropa': 966,\n 'Harrison': 967,\n 'Barr': 968,\n 'Kasimpasa': 969,\n 'Tand': 970,\n 'Fantomet': 971,\n 'Venedig': 972,\n 'Brooks': 973,\n 'Lindberg': 974,\n 'Milan': 975,\n 'Cipher': 976,\n 'Queensland': 977,\n 'Ulrikke': 978,\n 'Snejbjerg': 979,\n 'DIU': 980,\n 'Marin': 981,\n 'BigData': 982,\n 'Kannapolis': 983,\n 'Suzanne': 984,\n 'Arkansas': 985,\n 'Arthur': 986,\n 'BBB': 987,\n 'Sunninghill': 988,\n 'ACAB': 989,\n 'Natura': 990,\n 'Cortina': 991,\n 'Pivoting': 992,\n 'Boreham': 993,\n 'Chaker': 994,\n 'Robbers': 995,\n 'Eriksen': 996,\n 'Christine': 997,\n 'Juelsminde': 998,\n 'Salernitana': 999,\n 'Dream': 1000,\n ...}"
     },
     "execution_count": 7,
     "metadata": {},
     "output_type": "execute_result"
    }
   ],
   "source": [
    "Entity2Index"
   ]
  },
  {
   "cell_type": "code",
   "execution_count": 8,
   "id": "4dc2f48bfe7e27e1",
   "metadata": {
    "collapsed": false,
    "ExecuteTime": {
     "end_time": "2024-06-25T13:33:23.831758Z",
     "start_time": "2024-06-25T13:33:23.818761Z"
    }
   },
   "outputs": [
    {
     "data": {
      "text/plain": "44539"
     },
     "execution_count": 8,
     "metadata": {},
     "output_type": "execute_result"
    }
   ],
   "source": [
    "len(unique_entities)"
   ]
  },
  {
   "cell_type": "code",
   "execution_count": 9,
   "id": "b14a9182cf1c1f80",
   "metadata": {
    "collapsed": false,
    "ExecuteTime": {
     "end_time": "2024-06-25T13:33:23.909756Z",
     "start_time": "2024-06-25T13:33:23.833757Z"
    }
   },
   "outputs": [
    {
     "name": "stdout",
     "output_type": "stream",
     "text": [
      "article_id                                                      3001353\n",
      "title                                      Natascha var ikke den første\n",
      "subtitle              Politiet frygter nu, at Nataschas bortfører ha...\n",
      "last_modified_time                                  2023-06-29 06:20:33\n",
      "premium                                                           False\n",
      "body                  Sagen om den østriske Natascha og hendes bortf...\n",
      "published_time                                      2006-08-31 08:06:45\n",
      "image_ids                                                     [3150850]\n",
      "article_type                                            article_default\n",
      "url                    https://ekstrabladet.dk/krimi/article3001353.ece\n",
      "ner_clusters                                                         []\n",
      "entity_groups                                                        []\n",
      "topics                        [Kriminalitet, Personfarlig kriminalitet]\n",
      "category                                                            140\n",
      "subcategory                                                          []\n",
      "category_str                                                      krimi\n",
      "total_inviews                                                       NaN\n",
      "total_pageviews                                                     NaN\n",
      "total_read_time                                                     NaN\n",
      "sentiment_score                                                  0.9955\n",
      "sentiment_label                                                Negative\n",
      "Name: 0, dtype: object\n"
     ]
    }
   ],
   "source": [
    "for idx, article in articles.iterrows():\n",
    "    print(article)\n",
    "    break"
   ]
  },
  {
   "cell_type": "code",
   "execution_count": 10,
   "id": "6f092d74943132f1",
   "metadata": {
    "collapsed": false,
    "ExecuteTime": {
     "end_time": "2024-06-25T13:33:25.401129Z",
     "start_time": "2024-06-25T13:33:23.913758Z"
    }
   },
   "outputs": [
    {
     "data": {
      "text/plain": "{3042022: [7521, 2987, 7521],\n 3044020: [4129],\n 3081381: [2315],\n 3084181: [6552],\n 3085367: [4574],\n 3182586: [4272],\n 3206668: [2360],\n 3215889: [4867],\n 3218932: [8477, 617],\n 3221177: [5120],\n 3237286: [2735],\n 3245987: [6922],\n 3985736: [4122],\n 3987251: [5486],\n 4017326: [3639],\n 4097362: [7597, 3188, 3021, 3021],\n 4116265: [4525],\n 4117254: [7107, 7313],\n 4128375: [3779],\n 4134260: [651],\n 4142205: [1303],\n 4160897: [4035],\n 4179217: [1027],\n 4181949: [3021],\n 4182050: [1964],\n 4195795: [824],\n 4201861: [6901],\n 4222067: [4022],\n 4232214: [8321],\n 4242477: [6714],\n 4259198: [2388],\n 4265498: [6681],\n 4286079: [5634, 2925],\n 4288610: [1359],\n 4305440: [8477, 8477, 3868, 3868],\n 4312019: [4525, 4525, 694],\n 4326682: [7107, 7107],\n 4344511: [1767],\n 4345293: [6249],\n 4403340: [6588],\n 4411390: [4354, 4354],\n 4437767: [1800],\n 4447027: [7724, 1135, 199],\n 4451596: [2041],\n 4457771: [369],\n 4467673: [4354, 160],\n 4538176: [6447],\n 4558943: [6681],\n 4570153: [1287],\n 4596175: [3578],\n 4613172: [104],\n 4621280: [5138],\n 4631714: [5669],\n 4729974: [824, 6025],\n 4732111: [3021],\n 4756102: [7305],\n 4756104: [1800, 3021],\n 4759090: [623, 3021, 3059],\n 4761031: [2313, 2313, 5005, 2313, 973, 6550, 885],\n 4762858: [1028],\n 4766077: [3006, 6495],\n 4766263: [5192, 3304],\n 4771120: [5352],\n 4780924: [7005],\n 4790718: [8045],\n 4792034: [1800],\n 4813032: [3779],\n 4815184: [2786, 8152],\n 4820813: [6635],\n 4908235: [6240],\n 5006143: [5120],\n 5013800: [2058],\n 5314328: [343],\n 5384158: [2675],\n 5510409: [7409],\n 5747411: [6208, 3169],\n 5950877: [1675],\n 5976884: [6681],\n 5996581: [3169],\n 6018488: [5333,\n  2627,\n  5989,\n  6681,\n  2648,\n  2648,\n  2648,\n  3564,\n  5671,\n  2388,\n  3021,\n  1362,\n  1362,\n  1362],\n 6020767: [1421],\n 6112424: [1800],\n 6253615: [6009],\n 6288963: [3198, 3802],\n 6316792: [6483],\n 6416684: [1466],\n 6512726: [1771,\n  4346,\n  7724,\n  5112,\n  5793,\n  2054,\n  3914,\n  218,\n  4508,\n  7122,\n  8260,\n  5080,\n  2611,\n  6995,\n  6957,\n  1263,\n  1574,\n  2692,\n  2146],\n 6571460: [1800,\n  7118,\n  2919,\n  5996,\n  2762,\n  2762,\n  3918,\n  6681,\n  7070,\n  2718,\n  3093,\n  2502,\n  3794,\n  7305,\n  6380,\n  8087,\n  3021,\n  1638,\n  2471,\n  3967,\n  6877,\n  5298,\n  1308,\n  7921,\n  1018],\n 6605363: [605],\n 6648414: [6187],\n 6679300: [8180,\n  5813,\n  673,\n  275,\n  1929,\n  855,\n  6126,\n  5731,\n  4627,\n  1363,\n  6161,\n  6240,\n  988,\n  8180,\n  5813,\n  275,\n  1929,\n  855,\n  6126,\n  5731,\n  4627,\n  1363,\n  6161,\n  6240,\n  988],\n 6717967: [7845,\n  1424,\n  7416,\n  7416,\n  3086,\n  6682,\n  5357,\n  130,\n  6589,\n  7724,\n  6681,\n  5505,\n  8376,\n  924,\n  5158,\n  1501,\n  2620,\n  2620,\n  3310,\n  218,\n  8050,\n  3021,\n  1605,\n  5048,\n  3151,\n  1864,\n  5449,\n  1677,\n  6900,\n  3960,\n  3368,\n  1189,\n  49,\n  3765,\n  1653,\n  2195,\n  8464,\n  7115,\n  406],\n 6739176: [6681, 2185, 6561, 6561, 6561, 6561, 3751, 6644, 6314, 7584, 7115],\n 6741115: [4560,\n  5786,\n  3872,\n  4596,\n  6681,\n  7888,\n  7888,\n  1477,\n  2380,\n  7359,\n  3538,\n  3538,\n  3310,\n  367,\n  78,\n  8357,\n  2968,\n  7164,\n  4611,\n  2193,\n  8034,\n  7190,\n  6826,\n  4792,\n  746,\n  5617,\n  4470,\n  3140,\n  7523,\n  4795,\n  2572,\n  6050,\n  6050,\n  5624,\n  6955,\n  6280,\n  5992,\n  4112,\n  7526],\n 6930154: [1152, 855, 8376, 8097, 3296, 5789, 953, 3982],\n 6965775: [8238, 5192],\n 6994872: [8490],\n 7010192: [5995, 912, 6288],\n 7013418: [6682,\n  7442,\n  6681,\n  7070,\n  8376,\n  6870,\n  1049,\n  6568,\n  7389,\n  2607,\n  8003,\n  2348,\n  1055,\n  5992,\n  623,\n  966],\n 7087348: [5725],\n 7175814: [6635, 6635],\n 7203547: [6681],\n 7240132: [3578],\n 7291965: [7965, 5589, 1246, 7069, 218, 3021, 4650],\n 7474078: [939, 6352],\n 7475499: [3744, 8128],\n 7475645: [5168],\n 7550858: [2713, 4022, 6509],\n 7605936: [5829, 5986, 2385, 3955, 8376, 218, 7262, 3370, 6552],\n 7607197: [5373,\n  384,\n  197,\n  876,\n  6430,\n  3496,\n  5407,\n  164,\n  5623,\n  7205,\n  2680,\n  6550,\n  4754,\n  5601],\n 7626986: [6681],\n 7629829: [3144,\n  663,\n  2006,\n  335,\n  3855,\n  2583,\n  4781,\n  4595,\n  4085,\n  748,\n  2838,\n  3637],\n 7695717: [6681, 1946, 824, 966],\n 7730730: [3928, 3021],\n 7740927: [8397],\n 7741283: [3750],\n 7769671: [3130],\n 7796356: [7711],\n 7799876: [1946],\n 7890739: [8544],\n 7905394: [6681, 218],\n 7907734: [4268, 5992],\n 7969642: [831],\n 7969696: [3423, 1466],\n 7969718: [5291, 4809],\n 7969741: [7606, 5203],\n 7986352: [3021],\n 8012055: [6681],\n 8040578: [510, 6673, 6681, 2185],\n 8054212: [6681, 7563, 3021],\n 8062403: [1287, 3689, 3342, 6414, 3722, 2722, 3021, 5128, 2528, 1018],\n 8067106: [1287, 4253],\n 8076666: [1049],\n 8076673: [654],\n 8090056: [2186],\n 8111225: [1287],\n 8113223: [3342, 5684, 6207, 3326, 2246],\n 8120363: [218],\n 8137107: [783, 5487, 8248, 2403, 6865],\n 8138768: [6681, 7070, 3021, 2403, 2466, 4470, 1765, 6352],\n 8177436: [3021, 3021],\n 8186431: [8274],\n 8213935: [6681, 7927, 4845, 4778, 2181],\n 8219851: [7254, 8015, 1010, 1031, 7573],\n 8222703: [2191],\n 8240861: [1910, 7656],\n 8256299: [3464],\n 8280503: [3888],\n 8293606: [1153],\n 8295308: [7767],\n 8304077: [412],\n 8315213: [8097],\n 8328780: [7092, 2169, 3456, 605],\n 8355195: [3413, 3841, 5831, 5992],\n 8357038: [6082],\n 8384123: [149, 339, 2732],\n 8385746: [3999, 3342, 6552, 3719, 394],\n 8401979: [5725, 5993, 5675],\n 8419007: [6681, 8376, 1170, 1170, 2630, 2602, 6597, 8130, 1548, 2189, 5992],\n 8419493: [1303],\n 8473206: [3686],\n 8474245: [5392, 5392, 6280],\n 8484662: [7606],\n 8484664: [6325, 4134],\n 8487537: [5697],\n 8508880: [618],\n 8516215: [5613],\n 8518266: [5687, 6097],\n 8531366: [384, 6681, 8070, 8526, 4760, 5411, 4829, 1186, 1965, 2728, 6280],\n 8535588: [6312],\n 8548718: [7828, 448, 5283, 3021, 108, 8118, 6954, 7025],\n 8549005: [3560],\n 8558684: [8181, 3991, 7836, 8453, 8491, 4071, 6240, 6280],\n 8560103: [7807, 3021],\n 8580809: [6954, 8194],\n 8586192: [5992, 5704],\n 8586806: [7720],\n 8586883: [5120, 1466],\n 8596489: [5728],\n 8598814: [1689],\n 8599012: [1695, 1572],\n 8604053: [6355],\n 8604283: [5519],\n 8604319: [7107, 1964],\n 8606467: [2261, 5860],\n 8606622: [3021],\n 8606959: [2527, 2185, 1101],\n 8607923: [5669, 1738, 346],\n 8608340: [1078, 5675, 7885, 2909, 2909],\n 8608402: [1800, 8173, 11, 4490, 1910],\n 8608419: [2261, 6870, 3310, 3426, 6280],\n 8608574: [6681, 3021, 1670],\n 8608598: [3021, 379, 5992],\n 8608638: [1800, 6681, 1697, 1910, 3456],\n 8608666: [921,\n  6681,\n  7070,\n  5343,\n  3991,\n  1170,\n  3310,\n  5021,\n  3021,\n  6126,\n  3466,\n  6450,\n  3851],\n 8610375: [5120],\n 8610480: [1287, 218],\n 8611913: [384, 7107, 2728],\n 8616013: [4268],\n 8616355: [1606],\n 8617249: [6355, 6681, 6407, 2988],\n 8617481: [7785],\n 8617974: [2804],\n 8619573: [1287],\n 8620132: [5655],\n 8620149: [1410],\n 8621129: [7316, 7316, 8248, 1071],\n 8622154: [6681, 4617, 3411, 379, 1308, 6352, 8024, 5783],\n 8622155: [1959],\n 8626198: [3021],\n 8629389: [7655,\n  6681,\n  7593,\n  5784,\n  4032,\n  3021,\n  2023,\n  6552,\n  2068,\n  1677,\n  5300,\n  1910,\n  3851,\n  6240,\n  5992,\n  5450],\n 8632085: [1800,\n  7118,\n  2762,\n  3069,\n  5682,\n  6681,\n  5933,\n  1644,\n  2718,\n  203,\n  4671,\n  3188],\n 8632668: [3021],\n 8632804: [2403, 6312],\n 8632856: [3021],\n 8632905: [6539, 5995],\n 8636001: [3021, 2403],\n 8636356: [4583, 5915],\n 8636818: [78, 3326, 3923],\n 8637019: [1689],\n 8637181: [1910],\n 8637252: [4483],\n 8637293: [3021],\n 8637302: [3021],\n 8638186: [5398, 8526, 3923, 1965],\n 8638439: [7316],\n 8638818: [3021],\n 8638864: [1268],\n 8638953: [2200],\n 8638998: [7415],\n 8639020: [3578],\n 8639058: [8477],\n 8639221: [8376, 3877, 6700, 3456],\n 8640358: [6681, 5128, 5992],\n 8643958: [8376, 3326, 160],\n 8645201: [6681, 199, 3342, 3021, 1154, 142, 1602, 1602],\n 8645304: [5899, 218, 3021, 2348],\n 8649014: [1221, 4290, 4781, 3518, 7929],\n 8651577: [2185, 527, 3021, 6552, 1677],\n 8652738: [6922, 7316, 3546, 3021, 5714, 2403, 2403],\n 8657223: [655, 3760],\n 8658062: [8376, 1982, 7778],\n 8658178: [7724, 8376, 7305, 5021, 628, 2958, 5881, 1143, 7597],\n 8658642: [921, 1848, 8518, 6681, 1245],\n 8658929: [1789],\n 8658945: [3310, 2859, 2859],\n 8659165: [1307, 4424, 6342],\n 8659905: [3342, 6240],\n 8660003: [6355, 3296, 6607],\n 8660880: [7655, 6552, 6462, 1609, 3785],\n 8661795: [2185, 166, 3663, 3357, 5055],\n 8661946: [5958, 6355],\n 8662039: [7655, 2114, 1632, 5021, 6126, 6873, 5204, 2348, 5055],\n 8662329: [6681, 199, 142],\n 8662676: [6922, 7316, 7316, 2582, 6681, 1606, 4931, 3021, 8248, 3188, 6424],\n 8662869: [6355, 3006, 6681, 2217, 6616, 2489, 7548, 1245],\n 8663279: [3157, 188],\n 8663648: [2958],\n 8663704: [3841, 7778],\n 8663985: [1606, 5714],\n 8664729: [1428, 3841, 3440, 5992],\n 8667786: [6681, 855, 5515, 3991, 5307, 3021, 6552, 1991, 4492],\n 8671398: [3991, 5021, 2348],\n 8671597: [1800, 7988, 1738, 3818, 3021, 8058, 8506],\n 8671795: [3021],\n 8676483: [1959, 4133],\n 8676539: [3021],\n 8676768: [5655],\n 8676840: [3999],\n 8677120: [6654, 3390, 1362],\n 8678155: [3296],\n 8684673: [1880, 4571],\n 8685772: [2509, 824, 1189, 8397],\n 8685956: [6818, 6818, 1855, 218, 3021, 7597, 3456],\n 8686007: [6922, 6355, 289, 2718, 2403, 1689, 1362],\n 8692855: [3631, 2377, 4432, 2890, 3904, 2466, 4025, 5058, 5992],\n 8693284: [5291,\n  4346,\n  6682,\n  6681,\n  855,\n  4270,\n  3991,\n  4921,\n  3357,\n  334,\n  7958,\n  5992],\n 8693908: [1287, 6681, 1606, 2964, 1240, 6249],\n 8694144: [4508, 4970, 1886],\n 8695380: [6157, 605],\n 8696647: [1268, 3048],\n 8696649: [8376, 3021, 5916],\n 8696676: [384, 6355, 6681, 3165, 3877, 5470, 5675],\n 8696721: [5314, 3872, 7266, 2968, 2740, 5845, 3402],\n 8696866: [7517, 912],\n 8696927: [4510],\n 8696955: [3021, 8099],\n 8697553: [6681, 1295],\n 8698168: [5264, 3631, 5314, 6681, 2890, 948],\n 8698903: [4313, 6681, 8376, 3021],\n 8700175: [3999,\n  1800,\n  1636,\n  6922,\n  5682,\n  6681,\n  1477,\n  7988,\n  6870,\n  5024,\n  54,\n  6743],\n 8700323: [6681, 4483, 417],\n 8701532: [3991, 8453, 1811],\n 8702089: [1550, 1254, 644, 1350, 7667],\n 8704066: [6666],\n 8704155: [1401],\n 8705824: [822],\n 8706086: [7720],\n 8706159: [3021],\n 8706191: [1689],\n 8706257: [5364, 3021, 2023, 4338],\n 8706289: [5697],\n 8707224: [8376, 6281, 6317],\n 8707247: [3489, 6681, 855],\n 8708328: [4206],\n 8708974: [384, 6681, 6362, 3003, 4926, 2006, 2602, 6806],\n 8709745: [1287, 6681, 1768, 1154],\n 8709924: [1287, 6942, 5902, 3873, 3263, 2044, 4322, 5521],\n 8709981: [4816, 6524, 6240],\n 8716125: [1689],\n 8716311: [5036],\n 8716403: [1152],\n 8716530: [5728],\n 8716811: [1606],\n 8719609: [562, 4134],\n 8719797: [2200],\n 8719822: [7179],\n 8719868: [3021],\n 8719881: [1606],\n 8720024: [8477],\n 8724913: [562],\n 8725208: [1137],\n 8729763: [2786, 4379, 3202],\n 8729877: [4770, 4783, 4657, 4657, 1223, 4595],\n 8730271: [1414, 8376, 1154, 1545],\n 8731066: [6810, 2185, 2975, 3534, 5684, 6870, 5021, 2528, 4057],\n 8731248: [2087, 6275, 3023, 6121, 6121, 8248, 8025, 1137, 3828],\n 8731723: [5669, 8376, 5614],\n 8734316: [5021, 3021, 5992, 4057],\n 8736794: [7506, 2185, 5021],\n 8740918: [5874, 3862, 2463],\n 8741711: [6810, 5021],\n 8742109: [3021, 1765],\n 8745243: [3350, 1240, 6249, 8440],\n 8745261: [1606, 3021, 8248, 1240, 2464, 6249],\n 8751268: [1055],\n 8754866: [3220, 6616, 1907, 2253, 3510, 3865, 7169, 8136, 6280],\n 8762198: [7107],\n 8762479: [6429, 3549, 4080, 4764],\n 8762537: [2786, 4379, 3202],\n 8765345: [3862],\n 8765444: [4044, 1248],\n 8766388: [4931],\n 8767618: [3872, 6681, 2250, 1946],\n 8771888: [384, 6078, 2316, 2409],\n 8777069: [218],\n 8786614: [2403, 6312],\n 8786808: [3021],\n 8786856: [5120, 1466],\n 8786910: [1410],\n 8786929: [6325],\n 8786966: [5659],\n 8787097: [5669, 6681, 3326, 6097, 1308, 6195, 3473, 5942, 5697],\n 8787407: [3155, 3631, 8376, 3904, 5719, 2169],\n 8787475: [3631, 6681, 3904, 5058, 5992],\n 8787586: [5120, 7778],\n 8787617: [4017, 5120],\n 8787755: [5021, 6097],\n 8787902: [1287, 3702, 5444, 6681, 6429, 4380, 5281, 3021, 3727, 7983, 3260],\n 8794463: [4243],\n 8796194: [463, 3489, 7345],\n 8796427: [7016, 1046, 1910, 5992],\n 8804523: [7785],\n 8804717: [5697],\n 8804741: [3999],\n 8804757: [3021],\n 8805443: [3631, 6681, 3904, 2169, 5058],\n 8807560: [6920, 1121, 5407, 3211, 2846, 4595, 126, 5529, 2053, 3692],\n 8807598: [5837, 118, 4765, 354, 5742, 6352],\n 8808822: [2711, 5634, 1155, 7765, 4128, 4868, 4129, 3271, 654, 1245, 6962],\n 8808863: [7158, 3991, 3310, 3021, 5675, 6352],\n 8811100: [6165, 3339, 7926, 4372],\n 8811126: [6922, 1910, 4035],\n 8811560: [218, 3647],\n 8812163: [7070, 8019],\n 8812411: [1287, 727],\n 8812577: [1648, 1648, 7087, 7087, 8376, 8097, 3021, 100, 623],\n 8814540: [3489, 8512, 8512, 4617, 4617, 1143, 7671, 7671, 3923, 6195],\n 8816840: [6922, 5682, 3021, 8248],\n 8817634: [218, 6280],\n 8819432: [1959],\n 8819596: [3021],\n 8819723: [3021],\n 8819755: [240],\n 8819774: [7415],\n 8819946: [5120],\n 8823313: [2261],\n 8823763: [5942, 1180],\n 8823845: [7090],\n 8823933: [7869, 4037, 7873, 5568, 5992],\n 8825615: [6681, 8487, 2185, 1606, 3021, 8248, 6249, 1030, 8272],\n 8826091: [3529, 5725, 5885, 3006, 855, 7938, 4275, 170, 3378],\n 8827155: [5165, 2084, 480],\n 8827205: [4617, 7070, 8376, 25, 8526, 2260, 1965],\n 8828033: [7577, 5033],\n 8828272: [5669, 7070, 8376],\n 8828755: [3966, 6751],\n 8829025: [218, 4550],\n 8829087: [3631, 6681, 7979, 4744, 5058, 160],\n 8829293: [7167, 769],\n 8831465: [3342, 297, 3456],\n 8834353: [1959],\n 8834528: [5655],\n 8834607: [3021, 319],\n 8834714: [1401],\n 8834744: [3999],\n 8834766: [3099, 2012, 5654, 589, 6552, 5617],\n 8834780: [3021],\n 8835222: [6681],\n 8836595: [3734,\n  7288,\n  3021,\n  6552,\n  7007,\n  6557,\n  1444,\n  4057,\n  1800,\n  5725,\n  6681,\n  3734,\n  7070,\n  3021,\n  6552,\n  7788,\n  7007,\n  6557,\n  1362,\n  6280,\n  5992,\n  4057],\n 8836903: [3410, 7087, 2585, 7461, 1154],\n 8840652: [5454, 655, 1268, 1743, 369],\n 8843318: [6022],\n 8843544: [3997, 6681, 1401, 2988],\n 8843931: [6681, 5184, 5184, 8063],\n 8844358: [3099, 3069, 2720, 5021, 1154],\n 8844642: [1295],\n 8853219: [1287, 3489, 218, 4551],\n 8853651: [2200],\n 8853766: [3021],\n 8853799: [2023],\n 8853843: [8376, 4035],\n 8853854: [6666],\n 8853878: [6539, 5995],\n 8853929: [1689],\n 8854600: [2958],\n 8854986: [332, 1964, 2574, 6681, 6681, 5189, 8097, 373, 7798],\n 8855054: [1208, 8341, 7894, 7411, 8093, 5, 7038, 860],\n 8859923: [6681, 7988],\n 8860119: [6681, 1606, 3021],\n 8860283: [5992],\n 8861115: [5123],\n 8863460: [7484, 4822, 3296],\n 8863607: [5669,\n  2261,\n  8376,\n  5836,\n  2241,\n  2241,\n  2968,\n  446,\n  8453,\n  5541,\n  5541,\n  959,\n  5624,\n  7704,\n  2040],\n 8864249: [7416, 8458, 655, 5714],\n 8864746: [3999, 647],\n 8865085: [5357, 6681, 7435],\n 8865921: [1287],\n 8866153: [1738],\n 8868749: [18, 6355, 946, 218, 4486, 4317, 6994],\n 8868818: [1959, 4133],\n 8869132: [4133],\n 8869207: [5655, 8418],\n 8869343: [3021],\n 8869432: [3021],\n 8869464: [5697],\n 8871316: [4617, 7070, 8376, 1847],\n 8871402: [7416, 6922, 7316, 655, 5714, 5714],\n 8871808: [1701],\n 8872615: [2714, 4029, 2839, 8046],\n 8872854: [3296],\n 8873397: [6681],\n 8873639: [1640, 1640],\n 8874596: [6681],\n 8875599: [6681,\n  2542,\n  855,\n  3009,\n  4231,\n  2680,\n  3282,\n  6681,\n  2542,\n  855,\n  3009,\n  4231,\n  2680,\n  3282],\n 8876001: [6922, 1314, 2718, 4008, 7756, 5655, 1137, 6280],\n 8876893: [7095],\n 8878378: [1800, 6681, 8010, 3021, 5120, 6240, 3785],\n 8880929: [7579, 8024],\n 8881232: [5515],\n 8881432: [1606],\n 8881485: [4483],\n 8881500: [5728],\n 8881529: [562, 4134],\n 8882216: [6922, 655, 5714, 1545],\n 8882254: [8455],\n 8882828: [3999, 6887, 6681],\n 8883702: [8376],\n 8883732: [635, 6355, 1946, 5036, 5814, 2313, 1743, 5942, 6249],\n 8884036: [7579, 2691],\n 8885999: [8523, 6681, 6262],\n 8886335: [2786, 4379],\n 8886650: [6681, 2718, 1124, 8058, 5617, 1755],\n 8891138: [7845, 5395, 1242, 4263],\n 8891374: [6681, 3342, 4617, 4617],\n 8891794: [1165, 6492, 2185, 3014, 5617, 7438],\n 8892340: [3021, 3760],\n 8892479: [2200],\n 8892494: [3021],\n 8892642: [1137],\n 8892693: [1847, 373],\n 8893594: [3342, 598, 4392, 681],\n 8894596: [6461, 3651, 3923],\n 8894651: [3972],\n 8894771: [1538, 6539],\n 8894774: [2461, 1606],\n 8895309: [8376, 4364, 5088],\n 8895343: [1733,\n  1733,\n  2822,\n  6882,\n  6882,\n  8528,\n  8528,\n  5617,\n  7438,\n  7438,\n  2751,\n  2751],\n 8895605: [4651, 7636, 4792, 1189, 6955, 369],\n 8895952: [1287, 1287],\n 8896254: [2809, 8410, 6126],\n 8896371: [1287, 5156, 1425, 2438],\n 8896385: [5452],\n 8896415: [2313],\n 8896667: [5958,\n  7311,\n  4347,\n  4159,\n  3309,\n  6681,\n  4617,\n  7070,\n  8376,\n  3429,\n  2015,\n  6744,\n  6856,\n  6240],\n 8897125: [5156, 5156, 3005, 6901],\n 8897158: [218],\n 8897179: [5021, 3851],\n 8897265: [5807, 5659, 5025, 4058, 3189, 5600, 7741, 2940, 2395, 2044, 3048],\n 8897354: [1287,\n  2397,\n  3469,\n  8477,\n  6979,\n  6355,\n  8487,\n  8376,\n  3696,\n  2718,\n  5684,\n  8097,\n  3021,\n  138,\n  7115],\n 8897368: [3631, 6681, 3904],\n 8897425: [6681, 4238, 3326, 2169, 7117],\n 8897440: [4816, 8348],\n 8897500: [6681, 5048, 2777, 4022],\n 8897525: [6949, 7778],\n 8897568: [4816, 8400, 8270],\n 8897646: [6408, 3342, 2702, 8507],\n 8897714: [3923, 2169, 7778],\n 8897740: [218],\n 8897897: [7579, 7778],\n 8897909: [260, 8410, 7655, 3991, 6874, 3310, 5021, 1609],\n 8897910: [7778],\n 8897970: [218],\n 8897998: [5829, 5986, 5536, 7659, 2385, 2716, 4749, 2250, 3370, 5470, 5798],\n 8898003: [6954],\n 8898012: [4890, 1816, 5390, 1498, 3126, 1991],\n 8898029: [6681, 3332],\n 8898212: [8512, 3191, 7177],\n 8898499: [5682, 15, 8109, 1726],\n 8898673: [7158, 4617, 7070, 5654, 6132],\n 8898811: [8355, 1910],\n 8899005: [5728, 5669, 3326, 1308],\n 8899102: [6260, 2822, 218, 6552],\n 8899217: [1874, 1697, 1498, 3077, 1904, 6023, 5185, 6033],\n 8899248: [3342, 6581, 2062, 1915],\n 8899249: [5357],\n 8899286: [5669, 3779, 2602, 8262, 3326, 4424],\n 8899539: [6673, 1099, 6052, 1209, 1209, 8455, 4541, 1154, 8094, 8221, 5992],\n 8899543: [7659, 769],\n 8899631: [3851, 6240, 6280, 4492, 5992, 4552, 4199],\n 8899641: [6681, 2348],\n 8899705: [8355, 1350],\n 8899917: [857, 4669, 1196, 4733],\n 8899965: [5958, 7839, 2185, 7597, 142, 3796],\n 8899980: [6681, 5343, 2777, 657],\n 8900033: [6681, 199, 2777, 6830],\n 8900151: [754,\n  7070,\n  7905,\n  5021,\n  7165,\n  3150,\n  6126,\n  975,\n  104,\n  2980,\n  7597,\n  3488,\n  6957,\n  3796],\n 8900193: [543, 6682, 3914, 3357, 8260, 3302, 5290],\n 8900353: [6355, 6681, 7070, 8129, 5120, 6240, 3318, 7778],\n 8900548: [7988],\n 8900687: [6681],\n 8900832: [4724],\n 8900847: [1242],\n 8900872: [3642, 3053, 8050],\n 8900898: [3760],\n 8901381: [8058, 6352],\n 8901408: [3991, 3914, 5072, 3302],\n 8901486: [5515, 3310, 6281],\n 8901517: [6681, 824, 2620, 5128, 160],\n 8901601: [5357,\n  6681,\n  1101,\n  855,\n  7070,\n  3991,\n  5021,\n  5675,\n  2348,\n  6352,\n  6280,\n  3785],\n 8901605: [2185, 160],\n 8901616: [6581, 2062],\n 8901633: [6681, 1441, 4481, 1946, 3760],\n 8901683: [2272, 655],\n 8901774: [3342, 6581, 2062],\n 8902040: [8004, 4037, 8041, 4550],\n 8902081: [5958, 2171, 6681],\n 8902128: [924, 7457, 1857, 1124, 1931],\n 8902172: [4640, 6549, 4595, 8233, 5704, 6456],\n 8902222: [4718, 218, 7531],\n 8902296: [1733, 7658],\n 8902310: [6681, 4272, 160],\n 8902322: [8410, 199, 7597, 657, 3260],\n 8902414: [5357, 8376],\n 8902553: [6681, 3991, 5883, 6240, 6955],\n 8902621: [3546, 7152, 1226, 3498, 3498],\n 8902624: [6681, 5081, 585, 7385, 2777, 3260],\n 8902651: [2777],\n 8902710: [3021, 7778],\n 8902752: [6355, 3021],\n 8902811: [1287, 6681, 3991, 6280],\n 8902849: [1074, 6681, 1101, 2777, 7597, 657],\n 8902864: [2777, 7597, 657, 3260],\n 8902875: [7839, 7839, 975, 2777, 8419],\n 8902952: [7655, 7655, 6681, 6552, 2777, 7778],\n 8903000: [630,\n  5357,\n  1074,\n  6198,\n  6681,\n  855,\n  3991,\n  5021,\n  2777,\n  7597,\n  116,\n  1154,\n  2348],\n 8903010: [6681, 4617, 824, 2169, 160],\n 8903014: [5814, 2733, 2313],\n 8903024: [6681, 824, 160],\n 8903062: [6681, 8346, 6870, 2777, 7597, 7983, 657],\n 8903084: [7988, 5336, 5336],\n 8903132: [6078, 8097, 6782],\n 8903211: [3222, 641, 5684, 3021],\n 8903312: [4292, 4567, 8512, 3883, 2691, 6097, 3138, 5148, 5887, 160],\n 8903341: [218, 5021],\n 8903350: [5592, 3872, 6681, 2185, 3418, 3418, 1189, 6280],\n 8903433: [6605, 3991, 1124, 4595, 3085],\n 8903471: [8410, 8410, 6681, 2777, 7597, 657],\n 8903490: [6681, 855, 2777, 657, 3785],\n 8903497: [7989, 824, 4272, 160],\n 8903521: [2666],\n 8903566: [7636, 2579],\n 8903567: [6498, 393, 1124, 1325],\n 8903807: [160],\n 8903853: [3315, 2338, 2338, 5626],\n 8903868: [5403, 5725, 1929, 855, 8004, 6552, 1844, 6240],\n 8903893: [4010, 4010, 5617, 7438, 6077, 5459, 6297],\n 8903992: [5958, 6681, 2169],\n 8903994: [6681, 4617, 6240],\n 8904039: [769],\n 8904098: [193, 6285, 4428, 116],\n 8904156: [6095, 199, 3404, 2777, 657, 3743],\n 8904206: [6280],\n 8904220: [7563, 7879, 3021],\n 8904225: [6681, 199, 8376, 585, 7597, 3260],\n 8904288: [1268, 3048],\n 8904305: [3281, 6355, 6126, 5204, 1245],\n 8904313: [6038],\n 8904436: [562],\n 8904468: [3578],\n 8904523: [5659],\n 8904546: [3021],\n 8904569: [6681, 199, 4097, 3342, 6429, 6097, 6352],\n 8904603: [1167, 3021],\n 8904615: [1268],\n 8904627: [7179],\n 8904641: [5120, 1466],\n 8904651: [1606],\n 8904663: [6681, 4617, 7070],\n 8904672: [1152],\n 8904720: [1697, 3021, 2777, 7597, 657],\n 8904793: [6681, 8376, 3397, 2799],\n 8905127: [218],\n 8905194: [6922],\n 8905501: [1287, 4337, 7416, 5156, 5156, 3021, 6901, 6901],\n 8905508: [4577, 7563, 6208, 4319],\n 8905521: [6681, 7070, 5675],\n 8905565: [6922, 655, 3021, 5714, 2403, 5353],\n 8905726: [2397, 199, 779, 5675, 1714],\n 8905806: [6462, 3391],\n 8905826: [5992],\n 8905893: [7724, 5, 5120, 369],\n 8906205: [5780],\n 8906771: [6782],\n 8906822: [6681, 199, 4544, 7597, 657, 5782, 3785],\n 8906920: [6681, 395, 480, 657],\n 8907011: [6681, 7597, 657],\n 8907524: [6681, 3260],\n 8907562: [6673,\n  5725,\n  311,\n  6681,\n  2373,\n  3310,\n  367,\n  78,\n  5248,\n  5675,\n  657,\n  959,\n  1269,\n  142,\n  5992],\n 8907606: [4890, 7232, 7379, 6763],\n 8907837: [6681, 585, 5470, 2777, 7597, 657, 2169, 3851, 3260],\n 8907869: [199, 1101, 3342, 8376, 7597, 3260, 3456],\n 8907875: [199, 6280, 142],\n 8907933: [7953, 6355, 6681, 6627, 7532, 8515, 2723, 8432],\n 8907941: [5357, 2777, 5055],\n 8908005: [6782],\n 8908014: [4812, 3374, 6681, 199, 6564, 585, 3021, 2777, 7597, 657, 6281],\n 8908065: [1153],\n 8908078: [199, 657, 2169],\n 8908081: [7724, 6681, 199, 4698, 5343, 66, 1154],\n 8908122: [3021, 6281],\n 8908363: [6681, 783, 8105, 3877, 6243, 8173, 5675],\n 8908401: [5902, 5391],\n 8908703: [4512, 5992],\n 8908795: [2966, 6552, 1189, 5617, 6955],\n 8908843: [1588, 2701, 394],\n 8908899: [1055],\n 8908900: [2777, 7597],\n 8908913: [6272, 500, 2374, 215],\n 8908927: [618, 8376],\n 8909049: [5659, 3189, 2395, 5587, 5587],\n 8909101: [6681, 4617, 4905],\n 8909161: [4890, 6681],\n 8909338: [4890, 1677],\n 8909397: [3234],\n 8909425: [5232, 1682, 3595, 6485, 2051, 7778, 1714],\n 8910377: [4816, 6270, 5281, 1189, 6955],\n 8910904: [1398, 5987, 1682, 5675, 10],\n 8911011: [7148, 384],\n 8911060: [869, 1682],\n 8911118: [7579, 3021, 2169, 1308, 7778],\n 8911354: [6681, 199, 6870, 2777, 7597],\n 8911422: [1682, 8211, 5675],\n 8911748: [5881, 3021],\n 8911843: [5807, 1257, 6250, 1253, 2395, 5587],\n 8911871: [6275, 2185, 1682, 5675],\n 8911996: [2377, 5617, 8451],\n 8912038: [6134,\n  6681,\n  1840,\n  5070,\n  3021,\n  1847,\n  5617,\n  1910,\n  7438,\n  1743,\n  6023,\n  369,\n  179],\n 8912052: [855, 5343, 585, 7597, 7597, 6281, 6352],\n 8912100: [3328, 4550],\n 8912152: [6681],\n 8912177: [218, 1682, 2313, 8262, 5675],\n 8912194: [929],\n 8912195: [3405, 5807, 5025, 8501, 8376, 3443, 6352],\n 8912226: [1682, 5675, 3595, 2051, 640, 640],\n 8912453: [4313, 6681, 1682, 3005, 5675, 7885, 1714],\n 8912537: [3991, 3908, 3021, 1847, 5617, 1910, 1743, 369],\n 8912725: [6681],\n 8912793: [7243],\n 8912810: [4890],\n 8912872: [1287, 6681, 2185],\n 8912947: [312, 6681, 5199],\n 8912960: [218, 7167, 7778, 7115],\n 8913041: [1101],\n 8913056: [2809, 6682, 5895],\n 8913086: [1682, 1472, 10, 6485],\n 8913163: [7475, 5515, 6870, 6870, 1143, 6097],\n 8913267: [3660, 8097, 1006, 7167],\n 8913411: [5725, 7202, 4816, 7556, 2363, 218, 1189, 642, 1132, 1423, 3185],\n 8913416: [218, 3931],\n 8913430: [5987, 6046, 5675],\n 8913475: [8376, 3011, 7778],\n 8913520: [5252, 3654, 3654],\n 8913586: [4890, 4890, 4687, 3014, 1157],\n 8913606: [6681, 1189, 6955],\n 8913643: [3342, 3021, 5128, 6890],\n 8913679: [6681, 855, 7070, 585, 2777, 4114, 657, 3260],\n 8913730: [199, 6564, 2373, 8289, 5675, 6352, 5758],\n 8913763: [7461],\n 8913775: [1472, 10],\n 8913837: [1287],\n 8913841: [6681, 199, 6635, 7070, 5343, 7597, 1617, 657],\n 8913948: [1287, 6355, 5120],\n 8914083: [6681,\n  8376,\n  4568,\n  1280,\n  5120,\n  3876,\n  4470,\n  6273,\n  2728,\n  5492,\n  8475,\n  5011,\n  1671,\n  6033],\n 8914200: [1682, 3005],\n 8914228: [369],\n 8914273: [2988],\n 8914282: [3342, 2114, 6126, 1609],\n 8914351: [1287, 6681, 77],\n 8914360: [1682, 5675],\n 8914366: [4668, 2394, 2394],\n 8914405: [5204, 1609, 7778],\n 8914409: [1287, 367, 78, 5248],\n 8914431: [3021, 1036, 6280],\n 8914433: [2377, 7724, 143, 8259, 5758, 142],\n 8914445: [6681,\n  3987,\n  8045,\n  6870,\n  4931,\n  4319,\n  1268,\n  6407,\n  5754,\n  4483,\n  5120,\n  8397],\n 8914447: [7938, 4414, 6552, 6453, 627, 6240],\n 8914473: [5725, 1874, 3069, 7353, 78, 5248, 4268, 4242, 5992, 7238],\n 8914535: [3999, 6803, 7584],\n 8914600: [6672],\n 8914740: [118, 1606, 3021, 5577, 417, 6352],\n 8914912: [1902, 132, 7676, 7750, 7469, 7929],\n 8915063: [1131, 4617, 7600],\n 8915254: [6854, 6681, 363, 3342, 2250, 2958, 3963],\n 8915296: [3791, 4922],\n 8915301: [3342, 1938, 1189],\n 8915334: [8010, 3021],\n 8915348: [618, 6553, 3021, 5120, 605],\n 8915356: [5942, 6280],\n 8915376: [3302],\n 8915404: [5025, 2524],\n 8915439: [4617, 4904, 3472],\n 8915441: [4332, 1503, 7115],\n 8915448: [7275, 6706, 7929],\n 8915449: [469,\n  1287,\n  5357,\n  7724,\n  6429,\n  7248,\n  3242,\n  3633,\n  2620,\n  3169,\n  6963,\n  5336,\n  5336,\n  7115],\n 8915464: [384, 3342, 1938, 6552, 1189, 2728, 6955],\n 8915504: [7167, 5336],\n 8915537: [8185, 7440, 3226, 6014, 4781],\n 8915717: [218, 6462],\n 8915754: [8112, 5336],\n 8915805: [985, 8406, 6381, 5992],\n 8915829: [3633, 7597, 1544],\n 8915941: [2726, 1619, 1619],\n 8916067: [7052],\n 8916115: [4816, 3215, 6153, 7929, 7778, 5704],\n 8916251: [5765, 7917, 2345, 1444],\n 8916320: [6732, 6681, 7382, 115, 8100, 5163, 1390],\n 8916323: [3069, 199, 7070, 5343, 654, 657, 142, 5992],\n 8916327: [7659, 7153, 6681],\n 8916402: [6126, 8393, 1431, 1169, 8483],\n 8916504: [5781, 769],\n 8916512: [6134, 6355, 1124, 4268, 5224, 657],\n 8916760: [510, 6682, 5216, 3991, 3360, 5128, 3851, 5336],\n 8916994: [5958, 6355, 3342],\n 8918118: [3405, 4330, 4765, 1259, 6352, 8149],\n 8918157: [5592, 6681, 1938, 1189, 6955],\n 8918161: [218],\n 8918220: [3342, 7778],\n 8918299: [5629, 4764],\n 8918365: [5592, 1380, 3140, 5033, 5992, 7526],\n 8918497: [1211, 1820, 2688],\n 8918513: [6681, 1938, 218, 2347],\n 8918667: [1451, 6954],\n 8918670: [469, 2397, 3310, 100, 7584],\n 8918729: [510, 6673, 5343, 7597, 6281, 142],\n 8918801: [8348, 2607, 2169, 7778],\n 8918882: [7153, 8376, 4134, 172, 5486],\n 8918921: [3999, 1287, 3120, 7584, 5336],\n 8918931: [469, 2397, 6355, 6429, 6803, 7597, 5336, 5336],\n 8919090: [6681],\n 8919111: [469, 7584, 7584],\n 8919122: [6776, 6681, 1723, 4508, 3296, 394],\n 8919219: [545, 855, 7421, 5248, 5120, 1189],\n 8919261: [6887, 2741, 4721],\n 8919523: [6112, 6112, 1538, 1170],\n 8919562: [1848, 3021, 499, 4512, 5824],\n 8919704: [7371],\n 8919760: [5463, 7988, 7070, 5081, 143, 8259, 369],\n 8919777: [7724, 5081, 3260, 369],\n 8919778: [1938, 218, 1189, 6955],\n 8919796: [6681, 5486],\n 8919841: [1287,\n  7083,\n  278,\n  824,\n  3021,\n  66,\n  5675,\n  116,\n  1154,\n  3851,\n  2348,\n  6352,\n  408],\n 8919860: [1929, 7554, 8239],\n 8919870: [6053, 1202, 2537, 218, 572],\n 8919872: [1938, 218, 1189, 6955],\n 8919974: [1365, 6355, 1606, 4272],\n 8920002: [2377, 3991, 1641, 5617, 3851, 2770, 8366],\n 8920006: [3706],\n 8920110: [5357,\n  3069,\n  6681,\n  3991,\n  5021,\n  1189,\n  8453,\n  7438,\n  1154,\n  3851,\n  6240,\n  6955,\n  6280,\n  2770],\n 8920114: [5436],\n 8920165: [384, 1279, 218],\n 8920222: [1287, 3021],\n 8920281: [6671, 3342, 218],\n 8920305: [500, 215],\n 8920343: [2809, 199, 949, 6564, 6564],\n 8920533: [199, 7988, 116, 8375],\n 8921127: [2261, 174, 8004],\n 8921217: [4985, 1101, 4894, 1340, 157],\n 8921517: [218, 2140, 3765, 769],\n 8921573: [6673, 3069, 3414, 7070, 864, 6537, 2348, 2988, 5619, 5992],\n 8921605: [2185, 1798, 3706, 3706, 6900, 3614, 5992, 5260],\n 8921728: [926, 6233, 4595],\n 8921938: [4015, 1335, 3982],\n 8922137: [6681, 7235, 1189, 769],\n 8922204: [5306],\n 8922242: [4816,\n  437,\n  2261,\n  3605,\n  174,\n  4924,\n  2583,\n  7939,\n  3760,\n  2744,\n  2166,\n  7723,\n  2552,\n  1714],\n 8922306: [8376, 1967],\n 8922564: [581],\n 8922617: [4197],\n 8922644: [2343, 218, 2246],\n 8922669: [5442,\n  2716,\n  7341,\n  3706,\n  3706,\n  3706,\n  8184,\n  5069,\n  3614,\n  7502,\n  4242,\n  5992],\n 8922684: [1257, 5025, 2940],\n 8922722: [5283, 2816, 5120, 1189],\n 8922723: [5687, 6681, 1189, 6240],\n 8922741: [6887, 6681, 143, 7115],\n 8923012: [4640, 7734],\n 8923101: [2155, 7734, 5854],\n 8923111: [6681, 6990, 3986, 5486, 5486],\n 8923123: [6126],\n 8923134: [7778],\n 8923153: [3405, 401, 6249, 2356],\n 8923207: [6681, 3021],\n 8923234: [6681, 4640, 7070, 4470],\n 8923256: [3021, 6399, 6693, 6693, 1928, 6566],\n 8923264: [7734, 7778],\n 8923268: [1857, 1653, 5992],\n 8923350: [6681, 7593, 824, 6097],\n 8923536: [218, 5281, 6782],\n 8923645: [4640, 6636, 7734, 7778, 5704],\n 8923677: [4622, 6240],\n 8923716: [4770, 1938, 1938, 1279, 8159, 2347, 2347],\n 8923738: [4640, 4359, 7734],\n 8923830: [1938],\n 8923851: [7862],\n 8923940: [2708],\n 8923942: [7311, 3271, 959, 7734],\n 8923956: [3597, 6731, 5992, 862],\n 8923980: [7734, 7778],\n 8924028: [6854, 921, 7404],\n 8924078: [3410, 218, 4550, 7531],\n 8924093: [2969, 6331, 1137, 3464],\n 8924124: [7311, 7734, 7734],\n 8924321: [5306],\n 8924392: [3220, 7251, 6280],\n 8924471: [4640, 7734],\n 8924581: [500, 7988, 218, 2416],\n 8924747: [2397, 7724, 6429, 5081],\n 8924757: [297, 218, 1],\n 8925394: [5793, 6954],\n 8927692: [2403, 6312],\n 8927842: [4483],\n 8927963: [6681, 7070, 3360, 3360, 3360, 729, 1410, 5120, 5336],\n 8928060: [7918],\n 8928422: [2997],\n 8928611: [4070],\n 8928765: [780, 2932],\n 8929153: [1800, 3928, 2718, 1660, 8355, 4471, 6280],\n 8930798: [6681, 8376, 5248, 7092, 2169, 7778, 605],\n 8935013: [3629, 7895, 4332, 5120, 7713, 5128],\n 8938775: [2997],\n 8939323: [6681, 7563, 5120, 4386],\n 8940448: [2185, 2013],\n 8944518: [3342, 218, 2316, 4471, 1012],\n 8945329: [6922, 6355, 6681, 4242, 6033],\n 8945380: [869, 5675, 6954, 2778, 5992],\n 8946490: [6325],\n 8946607: [3021],\n 8946733: [5697],\n 8946768: [1287, 727],\n 8946833: [3021],\n 8946880: [7415],\n 8947416: [371],\n 8949372: [6681, 7905, 5021, 975, 2980, 6957, 3796, 6681, 975],\n 8949747: [2528, 5245],\n 8950190: [3021, 2313],\n 8952268: [4817, 5868, 7627, 8193, 5528],\n 8952833: [8280,\n  8264,\n  3734,\n  3222,\n  5684,\n  6208,\n  7656,\n  3021,\n  4391,\n  8280,\n  8264,\n  3734,\n  3222,\n  1723,\n  6208,\n  7656,\n  4391],\n 8953912: [5968, 812, 3021],\n 8954909: [53, 6314, 3586],\n 8954962: [1910],\n 8955737: [6638,\n  2342,\n  7316,\n  6681,\n  2718,\n  3021,\n  3150,\n  4471,\n  2403,\n  3923,\n  2348,\n  6638,\n  2342,\n  7316,\n  6681,\n  3021,\n  3150,\n  4471,\n  2403,\n  3923,\n  2348],\n 8956198: [218, 7781],\n 8956568: [6681, 218, 3021, 5617, 7526],\n 8956862: [7003],\n 8957062: [719, 1925, 6728, 4474, 1326],\n 8963856: [6681, 3021, 5617],\n 8966280: [5655],\n 8966377: [1606],\n 8966406: [3021, 319],\n 8966522: [3021],\n 8966598: [6681, 4070, 8376, 2230, 7778],\n 8966988: [7107, 7548],\n 8971046: [5746, 6572, 218],\n 8975944: [3928, 850, 6681, 3021, 6954],\n 8976869: [8376, 2799, 1743],\n 8976937: [1287, 5682, 3021],\n 8977304: [3342, 3923],\n 8977798: [869, 6582],\n 8977846: [1959, 6870, 7305, 7167, 5336, 5336, 7110],\n 8980185: [3021, 7735],\n 8980203: [6681, 2169, 6693],\n 8981707: [3342, 1351, 5120],\n 8987178: [3405, 6681, 118, 7002, 8248, 1240, 2348, 6249, 6352, 8272, 6224],\n 8989844: [3021],\n 8990172: [6666],\n 8990180: [6539, 5995],\n 8990434: [2200],\n 8990483: [1959, 4133],\n 8990520: [240],\n 8991640: [8070, 3464],\n 8993385: [2095, 1991, 4417],\n 8994546: [7436, 2931, 1308],\n 8994714: [7563, 7898],\n 8994831: [275],\n 8995944: [8376],\n 8996121: [656, 500, 6355, 6681, 2118, 3271, 101, 3119, 6352, 5992],\n 8997426: [3410, 8280, 6681, 230],\n 8997764: [3021],\n 8997943: [2199],\n 8998258: [2718, 1061],\n 8998755: [3338, 7573],\n 9001008: [5958],\n 9004956: [3999],\n 9004964: [6255, 6681, 2718],\n 9005434: [3021],\n 9005696: [5697],\n 9005733: [5515],\n 9005797: [5655],\n 9007333: [2716, 3706],\n 9008007: [2377, 8533, 3991, 2777, 5617, 959, 3699, 8366],\n 9008077: [6922,\n  1577,\n  6681,\n  7070,\n  840,\n  2718,\n  6285,\n  6940,\n  203,\n  2348,\n  4075,\n  6280],\n 9009196: [3999, 1277],\n 9009942: [7211,\n  6594,\n  6027,\n  2205,\n  7412,\n  5021,\n  3910,\n  7042,\n  7772,\n  206,\n  2734,\n  6180],\n 9010500: [2629, 3702, 1585, 8376, 1170, 3475, 5306],\n 9012167: [6681, 218],\n 9012302: [1287, 5682, 2169, 3472],\n 9012594: [4623, 7988, 2202, 7410],\n 9013328: [8376, 6278, 7584],\n 9013790: [3999, 218, 3021, 1910, 6850],\n 9014877: [5485, 3923],\n 9015112: [394],\n 9015264: [469, 6429],\n 9015361: [2696, 394],\n 9015397: [8098, 2696, 394, 6649],\n 9015428: [8098, 2696, 3923],\n 9015578: [1287, 6922, 1959, 3296],\n 9016163: [824],\n 9018900: [6521, 4793],\n 9018942: [6681, 2169, 2421],\n 9019340: [7115],\n 9019947: [5120],\n 9020647: [3877, 3599],\n 9020783: [6355,\n  2185,\n  6257,\n  824,\n  8198,\n  4268,\n  5675,\n  4236,\n  5507,\n  2501,\n  2501,\n  2501,\n  1401,\n  5306,\n  5992],\n 9020954: [6942, 3878, 4374, 3021, 7778],\n 9021386: [1606],\n 9021410: [4483],\n 9021585: [3021],\n 9022250: [4596, 6681, 396, 396, 5021, 1725, 8528, 1359, 4470, 605, 5879],\n 9024829: [7873, 3021, 2403],\n 9024975: [8376, 218, 394],\n 9025193: [2169],\n 9025880: [7579, 6355, 6681, 8376, 3021, 3472],\n 9028862: [218],\n 9031817: [8376],\n 9032860: [7179],\n 9032996: [1606, 5136],\n 9033029: [3021],\n 9033044: [5728],\n 9033168: [3021],\n 9035611: [1356, 5607],\n 9036641: [7483, 3734, 3815, 3227, 1936, 8453, 3984],\n 9036881: [3021, 2403, 1137, 1910],\n 9038611: [1771, 3042, 6638, 3802, 5052, 6121, 6121, 3021, 4354, 8248, 1137],\n 9038719: [6681],\n 9039793: [6198, 3991, 5675, 1154, 2348, 6280],\n 9041065: [6681, 1055],\n 9041388: [6198, 6681, 2185, 5352, 4492],\n 9041539: [6280],\n 9041559: [6198, 6681, 2348, 6280],\n 9042239: [1738],\n 9042254: [3999],\n 9042313: [5120],\n 9042392: [1401],\n 9042543: [1945],\n 9042703: [1137],\n 9042718: [3021, 3760],\n 9043394: [476, 996],\n 9044157: [384, 2910],\n 9044281: [8512],\n 9044287: [1847, 373],\n ...}"
     },
     "execution_count": 10,
     "metadata": {},
     "output_type": "execute_result"
    }
   ],
   "source": [
    "doc2entitiesid = {}\n",
    "for idx, article in articles.iterrows():\n",
    "    id = article[\"article_id\"]\n",
    "    doc_entities = article[\"ner_clusters\"]\n",
    "    for doc_entity in doc_entities:\n",
    "        if doc_entity not in Entity2Index:\n",
    "            continue\n",
    "        if id not in doc2entitiesid:\n",
    "            doc2entitiesid[id] = []\n",
    "        doc2entitiesid[id].append(Entity2Index[doc_entity])\n",
    "            \n",
    "doc2entitiesid"
   ]
  },
  {
   "cell_type": "code",
   "execution_count": 11,
   "id": "ff59109239a58c9c",
   "metadata": {
    "collapsed": false,
    "ExecuteTime": {
     "end_time": "2024-06-25T13:33:25.602153Z",
     "start_time": "2024-06-25T13:33:25.403126Z"
    }
   },
   "outputs": [
    {
     "data": {
      "text/plain": "{'3042022': [7521, 2987, 7521],\n '3044020': [4129],\n '3081381': [2315],\n '3084181': [6552],\n '3085367': [4574],\n '3182586': [4272],\n '3206668': [2360],\n '3215889': [4867],\n '3218932': [8477, 617],\n '3221177': [5120],\n '3237286': [2735],\n '3245987': [6922],\n '3985736': [4122],\n '3987251': [5486],\n '4017326': [3639],\n '4097362': [7597, 3188, 3021, 3021],\n '4116265': [4525],\n '4117254': [7107, 7313],\n '4128375': [3779],\n '4134260': [651],\n '4142205': [1303],\n '4160897': [4035],\n '4179217': [1027],\n '4181949': [3021],\n '4182050': [1964],\n '4195795': [824],\n '4201861': [6901],\n '4222067': [4022],\n '4232214': [8321],\n '4242477': [6714],\n '4259198': [2388],\n '4265498': [6681],\n '4286079': [5634, 2925],\n '4288610': [1359],\n '4305440': [8477, 8477, 3868, 3868],\n '4312019': [4525, 4525, 694],\n '4326682': [7107, 7107],\n '4344511': [1767],\n '4345293': [6249],\n '4403340': [6588],\n '4411390': [4354, 4354],\n '4437767': [1800],\n '4447027': [7724, 1135, 199],\n '4451596': [2041],\n '4457771': [369],\n '4467673': [4354, 160],\n '4538176': [6447],\n '4558943': [6681],\n '4570153': [1287],\n '4596175': [3578],\n '4613172': [104],\n '4621280': [5138],\n '4631714': [5669],\n '4729974': [824, 6025],\n '4732111': [3021],\n '4756102': [7305],\n '4756104': [1800, 3021],\n '4759090': [623, 3021, 3059],\n '4761031': [2313, 2313, 5005, 2313, 973, 6550, 885],\n '4762858': [1028],\n '4766077': [3006, 6495],\n '4766263': [5192, 3304],\n '4771120': [5352],\n '4780924': [7005],\n '4790718': [8045],\n '4792034': [1800],\n '4813032': [3779],\n '4815184': [2786, 8152],\n '4820813': [6635],\n '4908235': [6240],\n '5006143': [5120],\n '5013800': [2058],\n '5314328': [343],\n '5384158': [2675],\n '5510409': [7409],\n '5747411': [6208, 3169],\n '5950877': [1675],\n '5976884': [6681],\n '5996581': [3169],\n '6018488': [5333,\n  2627,\n  5989,\n  6681,\n  2648,\n  2648,\n  2648,\n  3564,\n  5671,\n  2388,\n  3021,\n  1362,\n  1362,\n  1362],\n '6020767': [1421],\n '6112424': [1800],\n '6253615': [6009],\n '6288963': [3198, 3802],\n '6316792': [6483],\n '6416684': [1466],\n '6512726': [1771,\n  4346,\n  7724,\n  5112,\n  5793,\n  2054,\n  3914,\n  218,\n  4508,\n  7122,\n  8260,\n  5080,\n  2611,\n  6995,\n  6957,\n  1263,\n  1574,\n  2692,\n  2146],\n '6571460': [1800,\n  7118,\n  2919,\n  5996,\n  2762,\n  2762,\n  3918,\n  6681,\n  7070,\n  2718,\n  3093,\n  2502,\n  3794,\n  7305,\n  6380,\n  8087,\n  3021,\n  1638,\n  2471,\n  3967,\n  6877,\n  5298,\n  1308,\n  7921,\n  1018],\n '6605363': [605],\n '6648414': [6187],\n '6679300': [8180,\n  5813,\n  673,\n  275,\n  1929,\n  855,\n  6126,\n  5731,\n  4627,\n  1363,\n  6161,\n  6240,\n  988,\n  8180,\n  5813,\n  275,\n  1929,\n  855,\n  6126,\n  5731,\n  4627,\n  1363,\n  6161,\n  6240,\n  988],\n '6717967': [7845,\n  1424,\n  7416,\n  7416,\n  3086,\n  6682,\n  5357,\n  130,\n  6589,\n  7724,\n  6681,\n  5505,\n  8376,\n  924,\n  5158,\n  1501,\n  2620,\n  2620,\n  3310,\n  218,\n  8050,\n  3021,\n  1605,\n  5048,\n  3151,\n  1864,\n  5449,\n  1677,\n  6900,\n  3960,\n  3368,\n  1189,\n  49,\n  3765,\n  1653,\n  2195,\n  8464,\n  7115,\n  406],\n '6739176': [6681, 2185, 6561, 6561, 6561, 6561, 3751, 6644, 6314, 7584, 7115],\n '6741115': [4560,\n  5786,\n  3872,\n  4596,\n  6681,\n  7888,\n  7888,\n  1477,\n  2380,\n  7359,\n  3538,\n  3538,\n  3310,\n  367,\n  78,\n  8357,\n  2968,\n  7164,\n  4611,\n  2193,\n  8034,\n  7190,\n  6826,\n  4792,\n  746,\n  5617,\n  4470,\n  3140,\n  7523,\n  4795,\n  2572,\n  6050,\n  6050,\n  5624,\n  6955,\n  6280,\n  5992,\n  4112,\n  7526],\n '6930154': [1152, 855, 8376, 8097, 3296, 5789, 953, 3982],\n '6965775': [8238, 5192],\n '6994872': [8490],\n '7010192': [5995, 912, 6288],\n '7013418': [6682,\n  7442,\n  6681,\n  7070,\n  8376,\n  6870,\n  1049,\n  6568,\n  7389,\n  2607,\n  8003,\n  2348,\n  1055,\n  5992,\n  623,\n  966],\n '7087348': [5725],\n '7175814': [6635, 6635],\n '7203547': [6681],\n '7240132': [3578],\n '7291965': [7965, 5589, 1246, 7069, 218, 3021, 4650],\n '7474078': [939, 6352],\n '7475499': [3744, 8128],\n '7475645': [5168],\n '7550858': [2713, 4022, 6509],\n '7605936': [5829, 5986, 2385, 3955, 8376, 218, 7262, 3370, 6552],\n '7607197': [5373,\n  384,\n  197,\n  876,\n  6430,\n  3496,\n  5407,\n  164,\n  5623,\n  7205,\n  2680,\n  6550,\n  4754,\n  5601],\n '7626986': [6681],\n '7629829': [3144,\n  663,\n  2006,\n  335,\n  3855,\n  2583,\n  4781,\n  4595,\n  4085,\n  748,\n  2838,\n  3637],\n '7695717': [6681, 1946, 824, 966],\n '7730730': [3928, 3021],\n '7740927': [8397],\n '7741283': [3750],\n '7769671': [3130],\n '7796356': [7711],\n '7799876': [1946],\n '7890739': [8544],\n '7905394': [6681, 218],\n '7907734': [4268, 5992],\n '7969642': [831],\n '7969696': [3423, 1466],\n '7969718': [5291, 4809],\n '7969741': [7606, 5203],\n '7986352': [3021],\n '8012055': [6681],\n '8040578': [510, 6673, 6681, 2185],\n '8054212': [6681, 7563, 3021],\n '8062403': [1287, 3689, 3342, 6414, 3722, 2722, 3021, 5128, 2528, 1018],\n '8067106': [1287, 4253],\n '8076666': [1049],\n '8076673': [654],\n '8090056': [2186],\n '8111225': [1287],\n '8113223': [3342, 5684, 6207, 3326, 2246],\n '8120363': [218],\n '8137107': [783, 5487, 8248, 2403, 6865],\n '8138768': [6681, 7070, 3021, 2403, 2466, 4470, 1765, 6352],\n '8177436': [3021, 3021],\n '8186431': [8274],\n '8213935': [6681, 7927, 4845, 4778, 2181],\n '8219851': [7254, 8015, 1010, 1031, 7573],\n '8222703': [2191],\n '8240861': [1910, 7656],\n '8256299': [3464],\n '8280503': [3888],\n '8293606': [1153],\n '8295308': [7767],\n '8304077': [412],\n '8315213': [8097],\n '8328780': [7092, 2169, 3456, 605],\n '8355195': [3413, 3841, 5831, 5992],\n '8357038': [6082],\n '8384123': [149, 339, 2732],\n '8385746': [3999, 3342, 6552, 3719, 394],\n '8401979': [5725, 5993, 5675],\n '8419007': [6681, 8376, 1170, 1170, 2630, 2602, 6597, 8130, 1548, 2189, 5992],\n '8419493': [1303],\n '8473206': [3686],\n '8474245': [5392, 5392, 6280],\n '8484662': [7606],\n '8484664': [6325, 4134],\n '8487537': [5697],\n '8508880': [618],\n '8516215': [5613],\n '8518266': [5687, 6097],\n '8531366': [384, 6681, 8070, 8526, 4760, 5411, 4829, 1186, 1965, 2728, 6280],\n '8535588': [6312],\n '8548718': [7828, 448, 5283, 3021, 108, 8118, 6954, 7025],\n '8549005': [3560],\n '8558684': [8181, 3991, 7836, 8453, 8491, 4071, 6240, 6280],\n '8560103': [7807, 3021],\n '8580809': [6954, 8194],\n '8586192': [5992, 5704],\n '8586806': [7720],\n '8586883': [5120, 1466],\n '8596489': [5728],\n '8598814': [1689],\n '8599012': [1695, 1572],\n '8604053': [6355],\n '8604283': [5519],\n '8604319': [7107, 1964],\n '8606467': [2261, 5860],\n '8606622': [3021],\n '8606959': [2527, 2185, 1101],\n '8607923': [5669, 1738, 346],\n '8608340': [1078, 5675, 7885, 2909, 2909],\n '8608402': [1800, 8173, 11, 4490, 1910],\n '8608419': [2261, 6870, 3310, 3426, 6280],\n '8608574': [6681, 3021, 1670],\n '8608598': [3021, 379, 5992],\n '8608638': [1800, 6681, 1697, 1910, 3456],\n '8608666': [921,\n  6681,\n  7070,\n  5343,\n  3991,\n  1170,\n  3310,\n  5021,\n  3021,\n  6126,\n  3466,\n  6450,\n  3851],\n '8610375': [5120],\n '8610480': [1287, 218],\n '8611913': [384, 7107, 2728],\n '8616013': [4268],\n '8616355': [1606],\n '8617249': [6355, 6681, 6407, 2988],\n '8617481': [7785],\n '8617974': [2804],\n '8619573': [1287],\n '8620132': [5655],\n '8620149': [1410],\n '8621129': [7316, 7316, 8248, 1071],\n '8622154': [6681, 4617, 3411, 379, 1308, 6352, 8024, 5783],\n '8622155': [1959],\n '8626198': [3021],\n '8629389': [7655,\n  6681,\n  7593,\n  5784,\n  4032,\n  3021,\n  2023,\n  6552,\n  2068,\n  1677,\n  5300,\n  1910,\n  3851,\n  6240,\n  5992,\n  5450],\n '8632085': [1800,\n  7118,\n  2762,\n  3069,\n  5682,\n  6681,\n  5933,\n  1644,\n  2718,\n  203,\n  4671,\n  3188],\n '8632668': [3021],\n '8632804': [2403, 6312],\n '8632856': [3021],\n '8632905': [6539, 5995],\n '8636001': [3021, 2403],\n '8636356': [4583, 5915],\n '8636818': [78, 3326, 3923],\n '8637019': [1689],\n '8637181': [1910],\n '8637252': [4483],\n '8637293': [3021],\n '8637302': [3021],\n '8638186': [5398, 8526, 3923, 1965],\n '8638439': [7316],\n '8638818': [3021],\n '8638864': [1268],\n '8638953': [2200],\n '8638998': [7415],\n '8639020': [3578],\n '8639058': [8477],\n '8639221': [8376, 3877, 6700, 3456],\n '8640358': [6681, 5128, 5992],\n '8643958': [8376, 3326, 160],\n '8645201': [6681, 199, 3342, 3021, 1154, 142, 1602, 1602],\n '8645304': [5899, 218, 3021, 2348],\n '8649014': [1221, 4290, 4781, 3518, 7929],\n '8651577': [2185, 527, 3021, 6552, 1677],\n '8652738': [6922, 7316, 3546, 3021, 5714, 2403, 2403],\n '8657223': [655, 3760],\n '8658062': [8376, 1982, 7778],\n '8658178': [7724, 8376, 7305, 5021, 628, 2958, 5881, 1143, 7597],\n '8658642': [921, 1848, 8518, 6681, 1245],\n '8658929': [1789],\n '8658945': [3310, 2859, 2859],\n '8659165': [1307, 4424, 6342],\n '8659905': [3342, 6240],\n '8660003': [6355, 3296, 6607],\n '8660880': [7655, 6552, 6462, 1609, 3785],\n '8661795': [2185, 166, 3663, 3357, 5055],\n '8661946': [5958, 6355],\n '8662039': [7655, 2114, 1632, 5021, 6126, 6873, 5204, 2348, 5055],\n '8662329': [6681, 199, 142],\n '8662676': [6922, 7316, 7316, 2582, 6681, 1606, 4931, 3021, 8248, 3188, 6424],\n '8662869': [6355, 3006, 6681, 2217, 6616, 2489, 7548, 1245],\n '8663279': [3157, 188],\n '8663648': [2958],\n '8663704': [3841, 7778],\n '8663985': [1606, 5714],\n '8664729': [1428, 3841, 3440, 5992],\n '8667786': [6681, 855, 5515, 3991, 5307, 3021, 6552, 1991, 4492],\n '8671398': [3991, 5021, 2348],\n '8671597': [1800, 7988, 1738, 3818, 3021, 8058, 8506],\n '8671795': [3021],\n '8676483': [1959, 4133],\n '8676539': [3021],\n '8676768': [5655],\n '8676840': [3999],\n '8677120': [6654, 3390, 1362],\n '8678155': [3296],\n '8684673': [1880, 4571],\n '8685772': [2509, 824, 1189, 8397],\n '8685956': [6818, 6818, 1855, 218, 3021, 7597, 3456],\n '8686007': [6922, 6355, 289, 2718, 2403, 1689, 1362],\n '8692855': [3631, 2377, 4432, 2890, 3904, 2466, 4025, 5058, 5992],\n '8693284': [5291,\n  4346,\n  6682,\n  6681,\n  855,\n  4270,\n  3991,\n  4921,\n  3357,\n  334,\n  7958,\n  5992],\n '8693908': [1287, 6681, 1606, 2964, 1240, 6249],\n '8694144': [4508, 4970, 1886],\n '8695380': [6157, 605],\n '8696647': [1268, 3048],\n '8696649': [8376, 3021, 5916],\n '8696676': [384, 6355, 6681, 3165, 3877, 5470, 5675],\n '8696721': [5314, 3872, 7266, 2968, 2740, 5845, 3402],\n '8696866': [7517, 912],\n '8696927': [4510],\n '8696955': [3021, 8099],\n '8697553': [6681, 1295],\n '8698168': [5264, 3631, 5314, 6681, 2890, 948],\n '8698903': [4313, 6681, 8376, 3021],\n '8700175': [3999,\n  1800,\n  1636,\n  6922,\n  5682,\n  6681,\n  1477,\n  7988,\n  6870,\n  5024,\n  54,\n  6743],\n '8700323': [6681, 4483, 417],\n '8701532': [3991, 8453, 1811],\n '8702089': [1550, 1254, 644, 1350, 7667],\n '8704066': [6666],\n '8704155': [1401],\n '8705824': [822],\n '8706086': [7720],\n '8706159': [3021],\n '8706191': [1689],\n '8706257': [5364, 3021, 2023, 4338],\n '8706289': [5697],\n '8707224': [8376, 6281, 6317],\n '8707247': [3489, 6681, 855],\n '8708328': [4206],\n '8708974': [384, 6681, 6362, 3003, 4926, 2006, 2602, 6806],\n '8709745': [1287, 6681, 1768, 1154],\n '8709924': [1287, 6942, 5902, 3873, 3263, 2044, 4322, 5521],\n '8709981': [4816, 6524, 6240],\n '8716125': [1689],\n '8716311': [5036],\n '8716403': [1152],\n '8716530': [5728],\n '8716811': [1606],\n '8719609': [562, 4134],\n '8719797': [2200],\n '8719822': [7179],\n '8719868': [3021],\n '8719881': [1606],\n '8720024': [8477],\n '8724913': [562],\n '8725208': [1137],\n '8729763': [2786, 4379, 3202],\n '8729877': [4770, 4783, 4657, 4657, 1223, 4595],\n '8730271': [1414, 8376, 1154, 1545],\n '8731066': [6810, 2185, 2975, 3534, 5684, 6870, 5021, 2528, 4057],\n '8731248': [2087, 6275, 3023, 6121, 6121, 8248, 8025, 1137, 3828],\n '8731723': [5669, 8376, 5614],\n '8734316': [5021, 3021, 5992, 4057],\n '8736794': [7506, 2185, 5021],\n '8740918': [5874, 3862, 2463],\n '8741711': [6810, 5021],\n '8742109': [3021, 1765],\n '8745243': [3350, 1240, 6249, 8440],\n '8745261': [1606, 3021, 8248, 1240, 2464, 6249],\n '8751268': [1055],\n '8754866': [3220, 6616, 1907, 2253, 3510, 3865, 7169, 8136, 6280],\n '8762198': [7107],\n '8762479': [6429, 3549, 4080, 4764],\n '8762537': [2786, 4379, 3202],\n '8765345': [3862],\n '8765444': [4044, 1248],\n '8766388': [4931],\n '8767618': [3872, 6681, 2250, 1946],\n '8771888': [384, 6078, 2316, 2409],\n '8777069': [218],\n '8786614': [2403, 6312],\n '8786808': [3021],\n '8786856': [5120, 1466],\n '8786910': [1410],\n '8786929': [6325],\n '8786966': [5659],\n '8787097': [5669, 6681, 3326, 6097, 1308, 6195, 3473, 5942, 5697],\n '8787407': [3155, 3631, 8376, 3904, 5719, 2169],\n '8787475': [3631, 6681, 3904, 5058, 5992],\n '8787586': [5120, 7778],\n '8787617': [4017, 5120],\n '8787755': [5021, 6097],\n '8787902': [1287, 3702, 5444, 6681, 6429, 4380, 5281, 3021, 3727, 7983, 3260],\n '8794463': [4243],\n '8796194': [463, 3489, 7345],\n '8796427': [7016, 1046, 1910, 5992],\n '8804523': [7785],\n '8804717': [5697],\n '8804741': [3999],\n '8804757': [3021],\n '8805443': [3631, 6681, 3904, 2169, 5058],\n '8807560': [6920, 1121, 5407, 3211, 2846, 4595, 126, 5529, 2053, 3692],\n '8807598': [5837, 118, 4765, 354, 5742, 6352],\n '8808822': [2711, 5634, 1155, 7765, 4128, 4868, 4129, 3271, 654, 1245, 6962],\n '8808863': [7158, 3991, 3310, 3021, 5675, 6352],\n '8811100': [6165, 3339, 7926, 4372],\n '8811126': [6922, 1910, 4035],\n '8811560': [218, 3647],\n '8812163': [7070, 8019],\n '8812411': [1287, 727],\n '8812577': [1648, 1648, 7087, 7087, 8376, 8097, 3021, 100, 623],\n '8814540': [3489, 8512, 8512, 4617, 4617, 1143, 7671, 7671, 3923, 6195],\n '8816840': [6922, 5682, 3021, 8248],\n '8817634': [218, 6280],\n '8819432': [1959],\n '8819596': [3021],\n '8819723': [3021],\n '8819755': [240],\n '8819774': [7415],\n '8819946': [5120],\n '8823313': [2261],\n '8823763': [5942, 1180],\n '8823845': [7090],\n '8823933': [7869, 4037, 7873, 5568, 5992],\n '8825615': [6681, 8487, 2185, 1606, 3021, 8248, 6249, 1030, 8272],\n '8826091': [3529, 5725, 5885, 3006, 855, 7938, 4275, 170, 3378],\n '8827155': [5165, 2084, 480],\n '8827205': [4617, 7070, 8376, 25, 8526, 2260, 1965],\n '8828033': [7577, 5033],\n '8828272': [5669, 7070, 8376],\n '8828755': [3966, 6751],\n '8829025': [218, 4550],\n '8829087': [3631, 6681, 7979, 4744, 5058, 160],\n '8829293': [7167, 769],\n '8831465': [3342, 297, 3456],\n '8834353': [1959],\n '8834528': [5655],\n '8834607': [3021, 319],\n '8834714': [1401],\n '8834744': [3999],\n '8834766': [3099, 2012, 5654, 589, 6552, 5617],\n '8834780': [3021],\n '8835222': [6681],\n '8836595': [3734,\n  7288,\n  3021,\n  6552,\n  7007,\n  6557,\n  1444,\n  4057,\n  1800,\n  5725,\n  6681,\n  3734,\n  7070,\n  3021,\n  6552,\n  7788,\n  7007,\n  6557,\n  1362,\n  6280,\n  5992,\n  4057],\n '8836903': [3410, 7087, 2585, 7461, 1154],\n '8840652': [5454, 655, 1268, 1743, 369],\n '8843318': [6022],\n '8843544': [3997, 6681, 1401, 2988],\n '8843931': [6681, 5184, 5184, 8063],\n '8844358': [3099, 3069, 2720, 5021, 1154],\n '8844642': [1295],\n '8853219': [1287, 3489, 218, 4551],\n '8853651': [2200],\n '8853766': [3021],\n '8853799': [2023],\n '8853843': [8376, 4035],\n '8853854': [6666],\n '8853878': [6539, 5995],\n '8853929': [1689],\n '8854600': [2958],\n '8854986': [332, 1964, 2574, 6681, 6681, 5189, 8097, 373, 7798],\n '8855054': [1208, 8341, 7894, 7411, 8093, 5, 7038, 860],\n '8859923': [6681, 7988],\n '8860119': [6681, 1606, 3021],\n '8860283': [5992],\n '8861115': [5123],\n '8863460': [7484, 4822, 3296],\n '8863607': [5669,\n  2261,\n  8376,\n  5836,\n  2241,\n  2241,\n  2968,\n  446,\n  8453,\n  5541,\n  5541,\n  959,\n  5624,\n  7704,\n  2040],\n '8864249': [7416, 8458, 655, 5714],\n '8864746': [3999, 647],\n '8865085': [5357, 6681, 7435],\n '8865921': [1287],\n '8866153': [1738],\n '8868749': [18, 6355, 946, 218, 4486, 4317, 6994],\n '8868818': [1959, 4133],\n '8869132': [4133],\n '8869207': [5655, 8418],\n '8869343': [3021],\n '8869432': [3021],\n '8869464': [5697],\n '8871316': [4617, 7070, 8376, 1847],\n '8871402': [7416, 6922, 7316, 655, 5714, 5714],\n '8871808': [1701],\n '8872615': [2714, 4029, 2839, 8046],\n '8872854': [3296],\n '8873397': [6681],\n '8873639': [1640, 1640],\n '8874596': [6681],\n '8875599': [6681,\n  2542,\n  855,\n  3009,\n  4231,\n  2680,\n  3282,\n  6681,\n  2542,\n  855,\n  3009,\n  4231,\n  2680,\n  3282],\n '8876001': [6922, 1314, 2718, 4008, 7756, 5655, 1137, 6280],\n '8876893': [7095],\n '8878378': [1800, 6681, 8010, 3021, 5120, 6240, 3785],\n '8880929': [7579, 8024],\n '8881232': [5515],\n '8881432': [1606],\n '8881485': [4483],\n '8881500': [5728],\n '8881529': [562, 4134],\n '8882216': [6922, 655, 5714, 1545],\n '8882254': [8455],\n '8882828': [3999, 6887, 6681],\n '8883702': [8376],\n '8883732': [635, 6355, 1946, 5036, 5814, 2313, 1743, 5942, 6249],\n '8884036': [7579, 2691],\n '8885999': [8523, 6681, 6262],\n '8886335': [2786, 4379],\n '8886650': [6681, 2718, 1124, 8058, 5617, 1755],\n '8891138': [7845, 5395, 1242, 4263],\n '8891374': [6681, 3342, 4617, 4617],\n '8891794': [1165, 6492, 2185, 3014, 5617, 7438],\n '8892340': [3021, 3760],\n '8892479': [2200],\n '8892494': [3021],\n '8892642': [1137],\n '8892693': [1847, 373],\n '8893594': [3342, 598, 4392, 681],\n '8894596': [6461, 3651, 3923],\n '8894651': [3972],\n '8894771': [1538, 6539],\n '8894774': [2461, 1606],\n '8895309': [8376, 4364, 5088],\n '8895343': [1733,\n  1733,\n  2822,\n  6882,\n  6882,\n  8528,\n  8528,\n  5617,\n  7438,\n  7438,\n  2751,\n  2751],\n '8895605': [4651, 7636, 4792, 1189, 6955, 369],\n '8895952': [1287, 1287],\n '8896254': [2809, 8410, 6126],\n '8896371': [1287, 5156, 1425, 2438],\n '8896385': [5452],\n '8896415': [2313],\n '8896667': [5958,\n  7311,\n  4347,\n  4159,\n  3309,\n  6681,\n  4617,\n  7070,\n  8376,\n  3429,\n  2015,\n  6744,\n  6856,\n  6240],\n '8897125': [5156, 5156, 3005, 6901],\n '8897158': [218],\n '8897179': [5021, 3851],\n '8897265': [5807, 5659, 5025, 4058, 3189, 5600, 7741, 2940, 2395, 2044, 3048],\n '8897354': [1287,\n  2397,\n  3469,\n  8477,\n  6979,\n  6355,\n  8487,\n  8376,\n  3696,\n  2718,\n  5684,\n  8097,\n  3021,\n  138,\n  7115],\n '8897368': [3631, 6681, 3904],\n '8897425': [6681, 4238, 3326, 2169, 7117],\n '8897440': [4816, 8348],\n '8897500': [6681, 5048, 2777, 4022],\n '8897525': [6949, 7778],\n '8897568': [4816, 8400, 8270],\n '8897646': [6408, 3342, 2702, 8507],\n '8897714': [3923, 2169, 7778],\n '8897740': [218],\n '8897897': [7579, 7778],\n '8897909': [260, 8410, 7655, 3991, 6874, 3310, 5021, 1609],\n '8897910': [7778],\n '8897970': [218],\n '8897998': [5829, 5986, 5536, 7659, 2385, 2716, 4749, 2250, 3370, 5470, 5798],\n '8898003': [6954],\n '8898012': [4890, 1816, 5390, 1498, 3126, 1991],\n '8898029': [6681, 3332],\n '8898212': [8512, 3191, 7177],\n '8898499': [5682, 15, 8109, 1726],\n '8898673': [7158, 4617, 7070, 5654, 6132],\n '8898811': [8355, 1910],\n '8899005': [5728, 5669, 3326, 1308],\n '8899102': [6260, 2822, 218, 6552],\n '8899217': [1874, 1697, 1498, 3077, 1904, 6023, 5185, 6033],\n '8899248': [3342, 6581, 2062, 1915],\n '8899249': [5357],\n '8899286': [5669, 3779, 2602, 8262, 3326, 4424],\n '8899539': [6673, 1099, 6052, 1209, 1209, 8455, 4541, 1154, 8094, 8221, 5992],\n '8899543': [7659, 769],\n '8899631': [3851, 6240, 6280, 4492, 5992, 4552, 4199],\n '8899641': [6681, 2348],\n '8899705': [8355, 1350],\n '8899917': [857, 4669, 1196, 4733],\n '8899965': [5958, 7839, 2185, 7597, 142, 3796],\n '8899980': [6681, 5343, 2777, 657],\n '8900033': [6681, 199, 2777, 6830],\n '8900151': [754,\n  7070,\n  7905,\n  5021,\n  7165,\n  3150,\n  6126,\n  975,\n  104,\n  2980,\n  7597,\n  3488,\n  6957,\n  3796],\n '8900193': [543, 6682, 3914, 3357, 8260, 3302, 5290],\n '8900353': [6355, 6681, 7070, 8129, 5120, 6240, 3318, 7778],\n '8900548': [7988],\n '8900687': [6681],\n '8900832': [4724],\n '8900847': [1242],\n '8900872': [3642, 3053, 8050],\n '8900898': [3760],\n '8901381': [8058, 6352],\n '8901408': [3991, 3914, 5072, 3302],\n '8901486': [5515, 3310, 6281],\n '8901517': [6681, 824, 2620, 5128, 160],\n '8901601': [5357,\n  6681,\n  1101,\n  855,\n  7070,\n  3991,\n  5021,\n  5675,\n  2348,\n  6352,\n  6280,\n  3785],\n '8901605': [2185, 160],\n '8901616': [6581, 2062],\n '8901633': [6681, 1441, 4481, 1946, 3760],\n '8901683': [2272, 655],\n '8901774': [3342, 6581, 2062],\n '8902040': [8004, 4037, 8041, 4550],\n '8902081': [5958, 2171, 6681],\n '8902128': [924, 7457, 1857, 1124, 1931],\n '8902172': [4640, 6549, 4595, 8233, 5704, 6456],\n '8902222': [4718, 218, 7531],\n '8902296': [1733, 7658],\n '8902310': [6681, 4272, 160],\n '8902322': [8410, 199, 7597, 657, 3260],\n '8902414': [5357, 8376],\n '8902553': [6681, 3991, 5883, 6240, 6955],\n '8902621': [3546, 7152, 1226, 3498, 3498],\n '8902624': [6681, 5081, 585, 7385, 2777, 3260],\n '8902651': [2777],\n '8902710': [3021, 7778],\n '8902752': [6355, 3021],\n '8902811': [1287, 6681, 3991, 6280],\n '8902849': [1074, 6681, 1101, 2777, 7597, 657],\n '8902864': [2777, 7597, 657, 3260],\n '8902875': [7839, 7839, 975, 2777, 8419],\n '8902952': [7655, 7655, 6681, 6552, 2777, 7778],\n '8903000': [630,\n  5357,\n  1074,\n  6198,\n  6681,\n  855,\n  3991,\n  5021,\n  2777,\n  7597,\n  116,\n  1154,\n  2348],\n '8903010': [6681, 4617, 824, 2169, 160],\n '8903014': [5814, 2733, 2313],\n '8903024': [6681, 824, 160],\n '8903062': [6681, 8346, 6870, 2777, 7597, 7983, 657],\n '8903084': [7988, 5336, 5336],\n '8903132': [6078, 8097, 6782],\n '8903211': [3222, 641, 5684, 3021],\n '8903312': [4292, 4567, 8512, 3883, 2691, 6097, 3138, 5148, 5887, 160],\n '8903341': [218, 5021],\n '8903350': [5592, 3872, 6681, 2185, 3418, 3418, 1189, 6280],\n '8903433': [6605, 3991, 1124, 4595, 3085],\n '8903471': [8410, 8410, 6681, 2777, 7597, 657],\n '8903490': [6681, 855, 2777, 657, 3785],\n '8903497': [7989, 824, 4272, 160],\n '8903521': [2666],\n '8903566': [7636, 2579],\n '8903567': [6498, 393, 1124, 1325],\n '8903807': [160],\n '8903853': [3315, 2338, 2338, 5626],\n '8903868': [5403, 5725, 1929, 855, 8004, 6552, 1844, 6240],\n '8903893': [4010, 4010, 5617, 7438, 6077, 5459, 6297],\n '8903992': [5958, 6681, 2169],\n '8903994': [6681, 4617, 6240],\n '8904039': [769],\n '8904098': [193, 6285, 4428, 116],\n '8904156': [6095, 199, 3404, 2777, 657, 3743],\n '8904206': [6280],\n '8904220': [7563, 7879, 3021],\n '8904225': [6681, 199, 8376, 585, 7597, 3260],\n '8904288': [1268, 3048],\n '8904305': [3281, 6355, 6126, 5204, 1245],\n '8904313': [6038],\n '8904436': [562],\n '8904468': [3578],\n '8904523': [5659],\n '8904546': [3021],\n '8904569': [6681, 199, 4097, 3342, 6429, 6097, 6352],\n '8904603': [1167, 3021],\n '8904615': [1268],\n '8904627': [7179],\n '8904641': [5120, 1466],\n '8904651': [1606],\n '8904663': [6681, 4617, 7070],\n '8904672': [1152],\n '8904720': [1697, 3021, 2777, 7597, 657],\n '8904793': [6681, 8376, 3397, 2799],\n '8905127': [218],\n '8905194': [6922],\n '8905501': [1287, 4337, 7416, 5156, 5156, 3021, 6901, 6901],\n '8905508': [4577, 7563, 6208, 4319],\n '8905521': [6681, 7070, 5675],\n '8905565': [6922, 655, 3021, 5714, 2403, 5353],\n '8905726': [2397, 199, 779, 5675, 1714],\n '8905806': [6462, 3391],\n '8905826': [5992],\n '8905893': [7724, 5, 5120, 369],\n '8906205': [5780],\n '8906771': [6782],\n '8906822': [6681, 199, 4544, 7597, 657, 5782, 3785],\n '8906920': [6681, 395, 480, 657],\n '8907011': [6681, 7597, 657],\n '8907524': [6681, 3260],\n '8907562': [6673,\n  5725,\n  311,\n  6681,\n  2373,\n  3310,\n  367,\n  78,\n  5248,\n  5675,\n  657,\n  959,\n  1269,\n  142,\n  5992],\n '8907606': [4890, 7232, 7379, 6763],\n '8907837': [6681, 585, 5470, 2777, 7597, 657, 2169, 3851, 3260],\n '8907869': [199, 1101, 3342, 8376, 7597, 3260, 3456],\n '8907875': [199, 6280, 142],\n '8907933': [7953, 6355, 6681, 6627, 7532, 8515, 2723, 8432],\n '8907941': [5357, 2777, 5055],\n '8908005': [6782],\n '8908014': [4812, 3374, 6681, 199, 6564, 585, 3021, 2777, 7597, 657, 6281],\n '8908065': [1153],\n '8908078': [199, 657, 2169],\n '8908081': [7724, 6681, 199, 4698, 5343, 66, 1154],\n '8908122': [3021, 6281],\n '8908363': [6681, 783, 8105, 3877, 6243, 8173, 5675],\n '8908401': [5902, 5391],\n '8908703': [4512, 5992],\n '8908795': [2966, 6552, 1189, 5617, 6955],\n '8908843': [1588, 2701, 394],\n '8908899': [1055],\n '8908900': [2777, 7597],\n '8908913': [6272, 500, 2374, 215],\n '8908927': [618, 8376],\n '8909049': [5659, 3189, 2395, 5587, 5587],\n '8909101': [6681, 4617, 4905],\n '8909161': [4890, 6681],\n '8909338': [4890, 1677],\n '8909397': [3234],\n '8909425': [5232, 1682, 3595, 6485, 2051, 7778, 1714],\n '8910377': [4816, 6270, 5281, 1189, 6955],\n '8910904': [1398, 5987, 1682, 5675, 10],\n '8911011': [7148, 384],\n '8911060': [869, 1682],\n '8911118': [7579, 3021, 2169, 1308, 7778],\n '8911354': [6681, 199, 6870, 2777, 7597],\n '8911422': [1682, 8211, 5675],\n '8911748': [5881, 3021],\n '8911843': [5807, 1257, 6250, 1253, 2395, 5587],\n '8911871': [6275, 2185, 1682, 5675],\n '8911996': [2377, 5617, 8451],\n '8912038': [6134,\n  6681,\n  1840,\n  5070,\n  3021,\n  1847,\n  5617,\n  1910,\n  7438,\n  1743,\n  6023,\n  369,\n  179],\n '8912052': [855, 5343, 585, 7597, 7597, 6281, 6352],\n '8912100': [3328, 4550],\n '8912152': [6681],\n '8912177': [218, 1682, 2313, 8262, 5675],\n '8912194': [929],\n '8912195': [3405, 5807, 5025, 8501, 8376, 3443, 6352],\n '8912226': [1682, 5675, 3595, 2051, 640, 640],\n '8912453': [4313, 6681, 1682, 3005, 5675, 7885, 1714],\n '8912537': [3991, 3908, 3021, 1847, 5617, 1910, 1743, 369],\n '8912725': [6681],\n '8912793': [7243],\n '8912810': [4890],\n '8912872': [1287, 6681, 2185],\n '8912947': [312, 6681, 5199],\n '8912960': [218, 7167, 7778, 7115],\n '8913041': [1101],\n '8913056': [2809, 6682, 5895],\n '8913086': [1682, 1472, 10, 6485],\n '8913163': [7475, 5515, 6870, 6870, 1143, 6097],\n '8913267': [3660, 8097, 1006, 7167],\n '8913411': [5725, 7202, 4816, 7556, 2363, 218, 1189, 642, 1132, 1423, 3185],\n '8913416': [218, 3931],\n '8913430': [5987, 6046, 5675],\n '8913475': [8376, 3011, 7778],\n '8913520': [5252, 3654, 3654],\n '8913586': [4890, 4890, 4687, 3014, 1157],\n '8913606': [6681, 1189, 6955],\n '8913643': [3342, 3021, 5128, 6890],\n '8913679': [6681, 855, 7070, 585, 2777, 4114, 657, 3260],\n '8913730': [199, 6564, 2373, 8289, 5675, 6352, 5758],\n '8913763': [7461],\n '8913775': [1472, 10],\n '8913837': [1287],\n '8913841': [6681, 199, 6635, 7070, 5343, 7597, 1617, 657],\n '8913948': [1287, 6355, 5120],\n '8914083': [6681,\n  8376,\n  4568,\n  1280,\n  5120,\n  3876,\n  4470,\n  6273,\n  2728,\n  5492,\n  8475,\n  5011,\n  1671,\n  6033],\n '8914200': [1682, 3005],\n '8914228': [369],\n '8914273': [2988],\n '8914282': [3342, 2114, 6126, 1609],\n '8914351': [1287, 6681, 77],\n '8914360': [1682, 5675],\n '8914366': [4668, 2394, 2394],\n '8914405': [5204, 1609, 7778],\n '8914409': [1287, 367, 78, 5248],\n '8914431': [3021, 1036, 6280],\n '8914433': [2377, 7724, 143, 8259, 5758, 142],\n '8914445': [6681,\n  3987,\n  8045,\n  6870,\n  4931,\n  4319,\n  1268,\n  6407,\n  5754,\n  4483,\n  5120,\n  8397],\n '8914447': [7938, 4414, 6552, 6453, 627, 6240],\n '8914473': [5725, 1874, 3069, 7353, 78, 5248, 4268, 4242, 5992, 7238],\n '8914535': [3999, 6803, 7584],\n '8914600': [6672],\n '8914740': [118, 1606, 3021, 5577, 417, 6352],\n '8914912': [1902, 132, 7676, 7750, 7469, 7929],\n '8915063': [1131, 4617, 7600],\n '8915254': [6854, 6681, 363, 3342, 2250, 2958, 3963],\n '8915296': [3791, 4922],\n '8915301': [3342, 1938, 1189],\n '8915334': [8010, 3021],\n '8915348': [618, 6553, 3021, 5120, 605],\n '8915356': [5942, 6280],\n '8915376': [3302],\n '8915404': [5025, 2524],\n '8915439': [4617, 4904, 3472],\n '8915441': [4332, 1503, 7115],\n '8915448': [7275, 6706, 7929],\n '8915449': [469,\n  1287,\n  5357,\n  7724,\n  6429,\n  7248,\n  3242,\n  3633,\n  2620,\n  3169,\n  6963,\n  5336,\n  5336,\n  7115],\n '8915464': [384, 3342, 1938, 6552, 1189, 2728, 6955],\n '8915504': [7167, 5336],\n '8915537': [8185, 7440, 3226, 6014, 4781],\n '8915717': [218, 6462],\n '8915754': [8112, 5336],\n '8915805': [985, 8406, 6381, 5992],\n '8915829': [3633, 7597, 1544],\n '8915941': [2726, 1619, 1619],\n '8916067': [7052],\n '8916115': [4816, 3215, 6153, 7929, 7778, 5704],\n '8916251': [5765, 7917, 2345, 1444],\n '8916320': [6732, 6681, 7382, 115, 8100, 5163, 1390],\n '8916323': [3069, 199, 7070, 5343, 654, 657, 142, 5992],\n '8916327': [7659, 7153, 6681],\n '8916402': [6126, 8393, 1431, 1169, 8483],\n '8916504': [5781, 769],\n '8916512': [6134, 6355, 1124, 4268, 5224, 657],\n '8916760': [510, 6682, 5216, 3991, 3360, 5128, 3851, 5336],\n '8916994': [5958, 6355, 3342],\n '8918118': [3405, 4330, 4765, 1259, 6352, 8149],\n '8918157': [5592, 6681, 1938, 1189, 6955],\n '8918161': [218],\n '8918220': [3342, 7778],\n '8918299': [5629, 4764],\n '8918365': [5592, 1380, 3140, 5033, 5992, 7526],\n '8918497': [1211, 1820, 2688],\n '8918513': [6681, 1938, 218, 2347],\n '8918667': [1451, 6954],\n '8918670': [469, 2397, 3310, 100, 7584],\n '8918729': [510, 6673, 5343, 7597, 6281, 142],\n '8918801': [8348, 2607, 2169, 7778],\n '8918882': [7153, 8376, 4134, 172, 5486],\n '8918921': [3999, 1287, 3120, 7584, 5336],\n '8918931': [469, 2397, 6355, 6429, 6803, 7597, 5336, 5336],\n '8919090': [6681],\n '8919111': [469, 7584, 7584],\n '8919122': [6776, 6681, 1723, 4508, 3296, 394],\n '8919219': [545, 855, 7421, 5248, 5120, 1189],\n '8919261': [6887, 2741, 4721],\n '8919523': [6112, 6112, 1538, 1170],\n '8919562': [1848, 3021, 499, 4512, 5824],\n '8919704': [7371],\n '8919760': [5463, 7988, 7070, 5081, 143, 8259, 369],\n '8919777': [7724, 5081, 3260, 369],\n '8919778': [1938, 218, 1189, 6955],\n '8919796': [6681, 5486],\n '8919841': [1287,\n  7083,\n  278,\n  824,\n  3021,\n  66,\n  5675,\n  116,\n  1154,\n  3851,\n  2348,\n  6352,\n  408],\n '8919860': [1929, 7554, 8239],\n '8919870': [6053, 1202, 2537, 218, 572],\n '8919872': [1938, 218, 1189, 6955],\n '8919974': [1365, 6355, 1606, 4272],\n '8920002': [2377, 3991, 1641, 5617, 3851, 2770, 8366],\n '8920006': [3706],\n '8920110': [5357,\n  3069,\n  6681,\n  3991,\n  5021,\n  1189,\n  8453,\n  7438,\n  1154,\n  3851,\n  6240,\n  6955,\n  6280,\n  2770],\n '8920114': [5436],\n '8920165': [384, 1279, 218],\n '8920222': [1287, 3021],\n '8920281': [6671, 3342, 218],\n '8920305': [500, 215],\n '8920343': [2809, 199, 949, 6564, 6564],\n '8920533': [199, 7988, 116, 8375],\n '8921127': [2261, 174, 8004],\n '8921217': [4985, 1101, 4894, 1340, 157],\n '8921517': [218, 2140, 3765, 769],\n '8921573': [6673, 3069, 3414, 7070, 864, 6537, 2348, 2988, 5619, 5992],\n '8921605': [2185, 1798, 3706, 3706, 6900, 3614, 5992, 5260],\n '8921728': [926, 6233, 4595],\n '8921938': [4015, 1335, 3982],\n '8922137': [6681, 7235, 1189, 769],\n '8922204': [5306],\n '8922242': [4816,\n  437,\n  2261,\n  3605,\n  174,\n  4924,\n  2583,\n  7939,\n  3760,\n  2744,\n  2166,\n  7723,\n  2552,\n  1714],\n '8922306': [8376, 1967],\n '8922564': [581],\n '8922617': [4197],\n '8922644': [2343, 218, 2246],\n '8922669': [5442,\n  2716,\n  7341,\n  3706,\n  3706,\n  3706,\n  8184,\n  5069,\n  3614,\n  7502,\n  4242,\n  5992],\n '8922684': [1257, 5025, 2940],\n '8922722': [5283, 2816, 5120, 1189],\n '8922723': [5687, 6681, 1189, 6240],\n '8922741': [6887, 6681, 143, 7115],\n '8923012': [4640, 7734],\n '8923101': [2155, 7734, 5854],\n '8923111': [6681, 6990, 3986, 5486, 5486],\n '8923123': [6126],\n '8923134': [7778],\n '8923153': [3405, 401, 6249, 2356],\n '8923207': [6681, 3021],\n '8923234': [6681, 4640, 7070, 4470],\n '8923256': [3021, 6399, 6693, 6693, 1928, 6566],\n '8923264': [7734, 7778],\n '8923268': [1857, 1653, 5992],\n '8923350': [6681, 7593, 824, 6097],\n '8923536': [218, 5281, 6782],\n '8923645': [4640, 6636, 7734, 7778, 5704],\n '8923677': [4622, 6240],\n '8923716': [4770, 1938, 1938, 1279, 8159, 2347, 2347],\n '8923738': [4640, 4359, 7734],\n '8923830': [1938],\n '8923851': [7862],\n '8923940': [2708],\n '8923942': [7311, 3271, 959, 7734],\n '8923956': [3597, 6731, 5992, 862],\n '8923980': [7734, 7778],\n '8924028': [6854, 921, 7404],\n '8924078': [3410, 218, 4550, 7531],\n '8924093': [2969, 6331, 1137, 3464],\n '8924124': [7311, 7734, 7734],\n '8924321': [5306],\n '8924392': [3220, 7251, 6280],\n '8924471': [4640, 7734],\n '8924581': [500, 7988, 218, 2416],\n '8924747': [2397, 7724, 6429, 5081],\n '8924757': [297, 218, 1],\n '8925394': [5793, 6954],\n '8927692': [2403, 6312],\n '8927842': [4483],\n '8927963': [6681, 7070, 3360, 3360, 3360, 729, 1410, 5120, 5336],\n '8928060': [7918],\n '8928422': [2997],\n '8928611': [4070],\n '8928765': [780, 2932],\n '8929153': [1800, 3928, 2718, 1660, 8355, 4471, 6280],\n '8930798': [6681, 8376, 5248, 7092, 2169, 7778, 605],\n '8935013': [3629, 7895, 4332, 5120, 7713, 5128],\n '8938775': [2997],\n '8939323': [6681, 7563, 5120, 4386],\n '8940448': [2185, 2013],\n '8944518': [3342, 218, 2316, 4471, 1012],\n '8945329': [6922, 6355, 6681, 4242, 6033],\n '8945380': [869, 5675, 6954, 2778, 5992],\n '8946490': [6325],\n '8946607': [3021],\n '8946733': [5697],\n '8946768': [1287, 727],\n '8946833': [3021],\n '8946880': [7415],\n '8947416': [371],\n '8949372': [6681, 7905, 5021, 975, 2980, 6957, 3796, 6681, 975],\n '8949747': [2528, 5245],\n '8950190': [3021, 2313],\n '8952268': [4817, 5868, 7627, 8193, 5528],\n '8952833': [8280,\n  8264,\n  3734,\n  3222,\n  5684,\n  6208,\n  7656,\n  3021,\n  4391,\n  8280,\n  8264,\n  3734,\n  3222,\n  1723,\n  6208,\n  7656,\n  4391],\n '8953912': [5968, 812, 3021],\n '8954909': [53, 6314, 3586],\n '8954962': [1910],\n '8955737': [6638,\n  2342,\n  7316,\n  6681,\n  2718,\n  3021,\n  3150,\n  4471,\n  2403,\n  3923,\n  2348,\n  6638,\n  2342,\n  7316,\n  6681,\n  3021,\n  3150,\n  4471,\n  2403,\n  3923,\n  2348],\n '8956198': [218, 7781],\n '8956568': [6681, 218, 3021, 5617, 7526],\n '8956862': [7003],\n '8957062': [719, 1925, 6728, 4474, 1326],\n '8963856': [6681, 3021, 5617],\n '8966280': [5655],\n '8966377': [1606],\n '8966406': [3021, 319],\n '8966522': [3021],\n '8966598': [6681, 4070, 8376, 2230, 7778],\n '8966988': [7107, 7548],\n '8971046': [5746, 6572, 218],\n '8975944': [3928, 850, 6681, 3021, 6954],\n '8976869': [8376, 2799, 1743],\n '8976937': [1287, 5682, 3021],\n '8977304': [3342, 3923],\n '8977798': [869, 6582],\n '8977846': [1959, 6870, 7305, 7167, 5336, 5336, 7110],\n '8980185': [3021, 7735],\n '8980203': [6681, 2169, 6693],\n '8981707': [3342, 1351, 5120],\n '8987178': [3405, 6681, 118, 7002, 8248, 1240, 2348, 6249, 6352, 8272, 6224],\n '8989844': [3021],\n '8990172': [6666],\n '8990180': [6539, 5995],\n '8990434': [2200],\n '8990483': [1959, 4133],\n '8990520': [240],\n '8991640': [8070, 3464],\n '8993385': [2095, 1991, 4417],\n '8994546': [7436, 2931, 1308],\n '8994714': [7563, 7898],\n '8994831': [275],\n '8995944': [8376],\n '8996121': [656, 500, 6355, 6681, 2118, 3271, 101, 3119, 6352, 5992],\n '8997426': [3410, 8280, 6681, 230],\n '8997764': [3021],\n '8997943': [2199],\n '8998258': [2718, 1061],\n '8998755': [3338, 7573],\n '9001008': [5958],\n '9004956': [3999],\n '9004964': [6255, 6681, 2718],\n '9005434': [3021],\n '9005696': [5697],\n '9005733': [5515],\n '9005797': [5655],\n '9007333': [2716, 3706],\n '9008007': [2377, 8533, 3991, 2777, 5617, 959, 3699, 8366],\n '9008077': [6922,\n  1577,\n  6681,\n  7070,\n  840,\n  2718,\n  6285,\n  6940,\n  203,\n  2348,\n  4075,\n  6280],\n '9009196': [3999, 1277],\n '9009942': [7211,\n  6594,\n  6027,\n  2205,\n  7412,\n  5021,\n  3910,\n  7042,\n  7772,\n  206,\n  2734,\n  6180],\n '9010500': [2629, 3702, 1585, 8376, 1170, 3475, 5306],\n '9012167': [6681, 218],\n '9012302': [1287, 5682, 2169, 3472],\n '9012594': [4623, 7988, 2202, 7410],\n '9013328': [8376, 6278, 7584],\n '9013790': [3999, 218, 3021, 1910, 6850],\n '9014877': [5485, 3923],\n '9015112': [394],\n '9015264': [469, 6429],\n '9015361': [2696, 394],\n '9015397': [8098, 2696, 394, 6649],\n '9015428': [8098, 2696, 3923],\n '9015578': [1287, 6922, 1959, 3296],\n '9016163': [824],\n '9018900': [6521, 4793],\n '9018942': [6681, 2169, 2421],\n '9019340': [7115],\n '9019947': [5120],\n '9020647': [3877, 3599],\n '9020783': [6355,\n  2185,\n  6257,\n  824,\n  8198,\n  4268,\n  5675,\n  4236,\n  5507,\n  2501,\n  2501,\n  2501,\n  1401,\n  5306,\n  5992],\n '9020954': [6942, 3878, 4374, 3021, 7778],\n '9021386': [1606],\n '9021410': [4483],\n '9021585': [3021],\n '9022250': [4596, 6681, 396, 396, 5021, 1725, 8528, 1359, 4470, 605, 5879],\n '9024829': [7873, 3021, 2403],\n '9024975': [8376, 218, 394],\n '9025193': [2169],\n '9025880': [7579, 6355, 6681, 8376, 3021, 3472],\n '9028862': [218],\n '9031817': [8376],\n '9032860': [7179],\n '9032996': [1606, 5136],\n '9033029': [3021],\n '9033044': [5728],\n '9033168': [3021],\n '9035611': [1356, 5607],\n '9036641': [7483, 3734, 3815, 3227, 1936, 8453, 3984],\n '9036881': [3021, 2403, 1137, 1910],\n '9038611': [1771, 3042, 6638, 3802, 5052, 6121, 6121, 3021, 4354, 8248, 1137],\n '9038719': [6681],\n '9039793': [6198, 3991, 5675, 1154, 2348, 6280],\n '9041065': [6681, 1055],\n '9041388': [6198, 6681, 2185, 5352, 4492],\n '9041539': [6280],\n '9041559': [6198, 6681, 2348, 6280],\n '9042239': [1738],\n '9042254': [3999],\n '9042313': [5120],\n '9042392': [1401],\n '9042543': [1945],\n '9042703': [1137],\n '9042718': [3021, 3760],\n '9043394': [476, 996],\n '9044157': [384, 2910],\n '9044281': [8512],\n '9044287': [1847, 373],\n ...}"
     },
     "execution_count": 11,
     "metadata": {},
     "output_type": "execute_result"
    }
   ],
   "source": [
    "# write\n",
    "with open(\"../entity/doc2entitiesid.txt\", \"w\", encoding=\"utf8\") as f:\n",
    "    for doc_id, entities in doc2entitiesid.items():\n",
    "        f.write(str(doc_id) + \"\\t\" + \" \".join([str(entity) for entity in entities]) + \"\\n\")\n",
    "\n",
    "# test\n",
    "test_dict = {}\n",
    "with open('../entity/doc2entitiesid.txt', encoding=\"utf8\") as f:\n",
    "    lines = f.readlines()\n",
    "    for line in lines:\n",
    "        doc_id, entities = line.strip('\\n').split('\\t')\n",
    "        entities = entities.split()\n",
    "        test_dict[doc_id] = [int(entity) for entity in entities]\n",
    "test_dict         "
   ]
  },
  {
   "cell_type": "markdown",
   "id": "fb53536c2fc8d434",
   "metadata": {
    "collapsed": false
   },
   "source": [
    "## Create mergeimps.tsv (popularity)\n",
    "The \"mergeimps.tsv'' file needs to store the #click and #impression of each news with time information for building popularity signals. Specifically, we first need to divide the time into several buckets in units of one hour. Thus, since the MIND dataset contains user data in 6 weeks, the time periods can be divided into 2476 buckets. Then, we count the #impressions and #clicks of a news in each bucket and store the results in each line of ``mergeimps.tsv'', where the format is :\n",
    "\n",
    "[News_ID] TAB [Bucket_ID] TAB #Cliks TAB #Impressions.\n",
    " \n",
    "In MIND, since we did not obtain the click information for test data, which can substantially affect the estimation of popularity signals. Thus, I advise that you can use the validation dataset of MIND for evaluation."
   ]
  },
  {
   "cell_type": "code",
   "execution_count": 12,
   "id": "5611fe96cb90f489",
   "metadata": {
    "collapsed": false,
    "ExecuteTime": {
     "end_time": "2024-06-25T13:35:34.402521Z",
     "start_time": "2024-06-25T13:33:25.604152Z"
    }
   },
   "outputs": [],
   "source": [
    "# anchor = trans2tsp('05/08/2023 11:59:59 PM')\n",
    "# def parse_time_bucket(date):\n",
    "#     tsp = trans2tsp(date)\n",
    "#     tsp = tsp - anchor\n",
    "#     tsp = tsp//(600 * 2.2)\n",
    "#     return tsp\n",
    "\n",
    "def create_mergeimps(behaviors):\n",
    "    # Assuming 'impression_time' is already in datetime format, if not convert it\n",
    "    behaviors['impression_time'] = pd.to_datetime(behaviors['impression_time'])\n",
    "\n",
    "    # Set the start date of your data collection period\n",
    "    start_date = pd.to_datetime('2023-05-18')\n",
    "\n",
    "    # Calculate the hour buckets since the start of the period\n",
    "    behaviors['bucket_id'] = ((behaviors['impression_time'] - start_date).dt.total_seconds() // (1200)).astype(int)\n",
    "\n",
    "    # Check if 'article_ids_inview' is already in the desired format\n",
    "    if not behaviors['article_ids_inview'].str.contains('N').any():\n",
    "        # For each line in the 'article_ids_inview' column, add 'N' upfront\n",
    "        # Add 'N' before each 'article_ids_inview', replace each space with ' N' and remove square brackets\n",
    "        behaviors['article_ids_inview'] = behaviors['article_ids_inview'].apply(lambda x: 'N' + str(x))\n",
    "        behaviors['article_ids_inview'] = behaviors['article_ids_inview'].str.replace(' ', ' N').str.replace('[', '').str.replace(']', '').str.replace('\\n', '')\n",
    "\n",
    "    # Same for article_ids_clicked\n",
    "    if not behaviors['article_ids_clicked'].str.contains('N').any():\n",
    "        behaviors['article_ids_clicked'] = behaviors['article_ids_clicked'].apply(lambda x: 'N' + str(x) )\n",
    "        behaviors['article_ids_clicked'] = behaviors['article_ids_clicked'].str.replace(' ', ' N').str.replace('[', '').str.replace(']', '')\n",
    "\n",
    "    double_dict = {}\n",
    "\n",
    "    for i, row in behaviors.iterrows():\n",
    "\n",
    "        for article_id in row[\"article_ids_inview\"].split(' '):\n",
    "            if str(article_id) + \"-\" + str(row[\"bucket_id\"]) not in double_dict:\n",
    "                double_dict[str(article_id) + \"-\" + str(row[\"bucket_id\"])] = {\"article_id\": article_id, \"bucket_id\": row[\"bucket_id\"], \"clicks\": 0, \"impressions\": 0}\n",
    "            double_dict[str(article_id) + \"-\" + str(row[\"bucket_id\"])][\"impressions\"] += 1\n",
    "                \n",
    "        for article_id in row[\"article_ids_clicked\"].split(' '):\n",
    "            if str(article_id) + \"-\" + str(row[\"bucket_id\"]) not in double_dict:\n",
    "                double_dict[str(article_id) + \"-\" + str(row[\"bucket_id\"])] = {\"article_id\": article_id, \"bucket_id\": row[\"bucket_id\"], \"clicks\": 0, \"impressions\": 0}\n",
    "            double_dict[str(article_id) + \"-\" + str(row[\"bucket_id\"])][\"clicks\"] += 1\n",
    "            \n",
    "    mergeimps = pd.DataFrame(double_dict.values())\n",
    "\n",
    "    return mergeimps\n",
    "\n",
    "mergeimps_train = create_mergeimps(behaviors)\n",
    "mergeimps_val = create_mergeimps(val_behaviors)\n",
    "\n"
   ]
  },
  {
   "cell_type": "code",
   "execution_count": 13,
   "id": "87fc6279",
   "metadata": {
    "ExecuteTime": {
     "end_time": "2024-06-25T13:35:34.432522Z",
     "start_time": "2024-06-25T13:35:34.404522Z"
    }
   },
   "outputs": [],
   "source": [
    "mergeimps =pd.concat([mergeimps_train, mergeimps_val])"
   ]
  },
  {
   "cell_type": "code",
   "execution_count": 14,
   "id": "a651d10a9ed15b60",
   "metadata": {
    "collapsed": false,
    "ExecuteTime": {
     "end_time": "2024-06-25T13:35:34.908594Z",
     "start_time": "2024-06-25T13:35:34.434524Z"
    }
   },
   "outputs": [],
   "source": [
    "# mergeimps.to_excel(\"mergeimps.xlsx\", index=False)\n",
    "mergeimps.to_csv(\"../popularity/mergeimps.tsv\", sep=\"\\t\", index=False, header=False)"
   ]
  },
  {
   "cell_type": "code",
   "execution_count": 15,
   "id": "7897ed47add52961",
   "metadata": {
    "collapsed": false,
    "ExecuteTime": {
     "end_time": "2024-06-25T13:35:35.113205Z",
     "start_time": "2024-06-25T13:35:34.910595Z"
    }
   },
   "outputs": [
    {
     "data": {
      "text/plain": "     article_id clicks impressions bucket_id      \n                   sum         sum   nunique count\n0      N4721905      2          85        27    27\n1      N4918926      0          39        22    22\n2      N5345489      0          26        15    15\n3      N5372434      0           1         1     1\n4      N5419013      0           3         3     3\n...         ...    ...         ...       ...   ...\n5771   N9791130     39         591         3     3\n5772   N9791134      1          21         2     2\n5773   N9791141     20         376         2     2\n5774   N9791157     14         140         1     1\n5775   N9791165     13         140         1     1\n\n[5776 rows x 5 columns]",
      "text/html": "<div>\n<style scoped>\n    .dataframe tbody tr th:only-of-type {\n        vertical-align: middle;\n    }\n\n    .dataframe tbody tr th {\n        vertical-align: top;\n    }\n\n    .dataframe thead tr th {\n        text-align: left;\n    }\n</style>\n<table border=\"1\" class=\"dataframe\">\n  <thead>\n    <tr>\n      <th></th>\n      <th>article_id</th>\n      <th>clicks</th>\n      <th>impressions</th>\n      <th colspan=\"2\" halign=\"left\">bucket_id</th>\n    </tr>\n    <tr>\n      <th></th>\n      <th></th>\n      <th>sum</th>\n      <th>sum</th>\n      <th>nunique</th>\n      <th>count</th>\n    </tr>\n  </thead>\n  <tbody>\n    <tr>\n      <th>0</th>\n      <td>N4721905</td>\n      <td>2</td>\n      <td>85</td>\n      <td>27</td>\n      <td>27</td>\n    </tr>\n    <tr>\n      <th>1</th>\n      <td>N4918926</td>\n      <td>0</td>\n      <td>39</td>\n      <td>22</td>\n      <td>22</td>\n    </tr>\n    <tr>\n      <th>2</th>\n      <td>N5345489</td>\n      <td>0</td>\n      <td>26</td>\n      <td>15</td>\n      <td>15</td>\n    </tr>\n    <tr>\n      <th>3</th>\n      <td>N5372434</td>\n      <td>0</td>\n      <td>1</td>\n      <td>1</td>\n      <td>1</td>\n    </tr>\n    <tr>\n      <th>4</th>\n      <td>N5419013</td>\n      <td>0</td>\n      <td>3</td>\n      <td>3</td>\n      <td>3</td>\n    </tr>\n    <tr>\n      <th>...</th>\n      <td>...</td>\n      <td>...</td>\n      <td>...</td>\n      <td>...</td>\n      <td>...</td>\n    </tr>\n    <tr>\n      <th>5771</th>\n      <td>N9791130</td>\n      <td>39</td>\n      <td>591</td>\n      <td>3</td>\n      <td>3</td>\n    </tr>\n    <tr>\n      <th>5772</th>\n      <td>N9791134</td>\n      <td>1</td>\n      <td>21</td>\n      <td>2</td>\n      <td>2</td>\n    </tr>\n    <tr>\n      <th>5773</th>\n      <td>N9791141</td>\n      <td>20</td>\n      <td>376</td>\n      <td>2</td>\n      <td>2</td>\n    </tr>\n    <tr>\n      <th>5774</th>\n      <td>N9791157</td>\n      <td>14</td>\n      <td>140</td>\n      <td>1</td>\n      <td>1</td>\n    </tr>\n    <tr>\n      <th>5775</th>\n      <td>N9791165</td>\n      <td>13</td>\n      <td>140</td>\n      <td>1</td>\n      <td>1</td>\n    </tr>\n  </tbody>\n</table>\n<p>5776 rows × 5 columns</p>\n</div>"
     },
     "execution_count": 15,
     "metadata": {},
     "output_type": "execute_result"
    }
   ],
   "source": [
    "# tests\n",
    "test = mergeimps.groupby(\"article_id\").agg({\"clicks\": \"sum\", \"impressions\": \"sum\", \"bucket_id\" :[\"nunique\", \"count\"]}).reset_index()\n",
    "test"
   ]
  },
  {
   "cell_type": "markdown",
   "id": "ec16a8acea8728be",
   "metadata": {
    "collapsed": false
   },
   "source": [
    "## Create train/val/test.tsv"
   ]
  },
  {
   "cell_type": "code",
   "execution_count": 2,
   "id": "28376853c0db5dea",
   "metadata": {
    "collapsed": false,
    "ExecuteTime": {
     "end_time": "2024-06-25T20:23:00.604620Z",
     "start_time": "2024-06-25T20:21:51.139632Z"
    }
   },
   "outputs": [
    {
     "name": "stderr",
     "output_type": "stream",
     "text": [
      "C:\\Users\\ivvbr\\AppData\\Local\\Temp\\ipykernel_20900\\3931052240.py:39: SettingWithCopyWarning: \n",
      "A value is trying to be set on a copy of a slice from a DataFrame.\n",
      "Try using .loc[row_indexer,col_indexer] = value instead\n",
      "\n",
      "See the caveats in the documentation: https://pandas.pydata.org/pandas-docs/stable/user_guide/indexing.html#returning-a-view-versus-a-copy\n",
      "  df['article_ids_inview'] = df['article_ids_inview'].str.replace('\"', '')\n",
      "C:\\Users\\ivvbr\\AppData\\Local\\Temp\\ipykernel_20900\\3931052240.py:40: SettingWithCopyWarning: \n",
      "A value is trying to be set on a copy of a slice from a DataFrame.\n",
      "Try using .loc[row_indexer,col_indexer] = value instead\n",
      "\n",
      "See the caveats in the documentation: https://pandas.pydata.org/pandas-docs/stable/user_guide/indexing.html#returning-a-view-versus-a-copy\n",
      "  df['article_ids_inview'] = df.apply(process_ids, axis=1)\n",
      "C:\\Users\\ivvbr\\AppData\\Local\\Temp\\ipykernel_20900\\3931052240.py:50: UserWarning: Could not infer format, so each element will be parsed individually, falling back to `dateutil`. To ensure parsing is consistent and as-expected, please specify a format.\n",
      "  history['impression_time_fixed'] = [pd.to_datetime(x.astype(str)) for x in history['impression_time_fixed']]\n",
      "C:\\Users\\ivvbr\\AppData\\Local\\Temp\\ipykernel_20900\\3931052240.py:50: UserWarning: Could not infer format, so each element will be parsed individually, falling back to `dateutil`. To ensure parsing is consistent and as-expected, please specify a format.\n",
      "  history['impression_time_fixed'] = [pd.to_datetime(x.astype(str)) for x in history['impression_time_fixed']]\n",
      "C:\\Users\\ivvbr\\AppData\\Local\\Temp\\ipykernel_20900\\3931052240.py:50: UserWarning: Could not infer format, so each element will be parsed individually, falling back to `dateutil`. To ensure parsing is consistent and as-expected, please specify a format.\n",
      "  history['impression_time_fixed'] = [pd.to_datetime(x.astype(str)) for x in history['impression_time_fixed']]\n",
      "C:\\Users\\ivvbr\\AppData\\Local\\Temp\\ipykernel_20900\\3931052240.py:50: UserWarning: Could not infer format, so each element will be parsed individually, falling back to `dateutil`. To ensure parsing is consistent and as-expected, please specify a format.\n",
      "  history['impression_time_fixed'] = [pd.to_datetime(x.astype(str)) for x in history['impression_time_fixed']]\n",
      "C:\\Users\\ivvbr\\AppData\\Local\\Temp\\ipykernel_20900\\3931052240.py:50: UserWarning: Could not infer format, so each element will be parsed individually, falling back to `dateutil`. To ensure parsing is consistent and as-expected, please specify a format.\n",
      "  history['impression_time_fixed'] = [pd.to_datetime(x.astype(str)) for x in history['impression_time_fixed']]\n",
      "C:\\Users\\ivvbr\\AppData\\Local\\Temp\\ipykernel_20900\\3931052240.py:50: UserWarning: Could not infer format, so each element will be parsed individually, falling back to `dateutil`. To ensure parsing is consistent and as-expected, please specify a format.\n",
      "  history['impression_time_fixed'] = [pd.to_datetime(x.astype(str)) for x in history['impression_time_fixed']]\n",
      "C:\\Users\\ivvbr\\AppData\\Local\\Temp\\ipykernel_20900\\3931052240.py:80: SettingWithCopyWarning: \n",
      "A value is trying to be set on a copy of a slice from a DataFrame.\n",
      "Try using .loc[row_indexer,col_indexer] = value instead\n",
      "\n",
      "See the caveats in the documentation: https://pandas.pydata.org/pandas-docs/stable/user_guide/indexing.html#returning-a-view-versus-a-copy\n",
      "  df['positive'] = df['article_ids_clicked']\n",
      "C:\\Users\\ivvbr\\AppData\\Local\\Temp\\ipykernel_20900\\3931052240.py:81: SettingWithCopyWarning: \n",
      "A value is trying to be set on a copy of a slice from a DataFrame.\n",
      "Try using .loc[row_indexer,col_indexer] = value instead\n",
      "\n",
      "See the caveats in the documentation: https://pandas.pydata.org/pandas-docs/stable/user_guide/indexing.html#returning-a-view-versus-a-copy\n",
      "  df['negatives'] = df['article_ids_inview'].to_list()\n",
      "C:\\Users\\ivvbr\\AppData\\Local\\Temp\\ipykernel_20900\\3931052240.py:82: SettingWithCopyWarning: \n",
      "A value is trying to be set on a copy of a slice from a DataFrame.\n",
      "Try using .loc[row_indexer,col_indexer] = value instead\n",
      "\n",
      "See the caveats in the documentation: https://pandas.pydata.org/pandas-docs/stable/user_guide/indexing.html#returning-a-view-versus-a-copy\n",
      "  df['bucket'] = df['impression_time']\n"
     ]
    }
   ],
   "source": [
    "def process_ids(row):\n",
    "    clicked_ids = set(row['article_ids_clicked'].split())\n",
    "    inview_ids = row['article_ids_inview'].split()\n",
    "    processed_ids = [id for id in inview_ids if id not in clicked_ids]\n",
    "    return ' '.join(processed_ids)\n",
    "\n",
    "def write_data(behaviors, history, max_history, trainset):\n",
    "    # Convert 'impression_time' to string\n",
    "    behaviors['impression_time'] = behaviors['impression_time'].astype(str)\n",
    "\n",
    "    # Check if 'impression_time' is already in the desired format\n",
    "    if not behaviors['impression_time'].str.contains('/').any():\n",
    "        # Convert 'impression_time' to datetime\n",
    "        behaviors['impression_time'] = pd.to_datetime(behaviors['impression_time'])\n",
    "\n",
    "        # Format 'impression_time' in the desired format\n",
    "        behaviors['impression_time'] = behaviors['impression_time'].dt.strftime('%m/%d/%Y %I:%M:%S %p')\n",
    "\n",
    "    # Add 'U' before every 'user_id' if it doesn't already start with 'U'\n",
    "    behaviors['user_id'] = behaviors['user_id'].apply(lambda x: 'U' + str(x) if not str(x).startswith('U') else str(x))\n",
    "\n",
    "    # Convert 'article_ids_inview' to string\n",
    "    behaviors['article_ids_inview'] = behaviors['article_ids_inview'].astype(str)\n",
    "\n",
    "    # Check if 'article_ids_inview' is already in the desired format\n",
    "    if not behaviors['article_ids_inview'].str.contains('N').any():\n",
    "        # For each line in the 'article_ids_inview' column, add 'N' upfront\n",
    "        # Add 'N' before each 'article_ids_inview', replace each space with ' N' and remove square brackets\n",
    "        behaviors['article_ids_inview'] = behaviors['article_ids_inview'].apply(lambda x: 'N' + str(x))\n",
    "        behaviors['article_ids_inview'] = behaviors['article_ids_inview'].str.replace(' ', ' N').str.replace('[', '').str.replace(']', '').str.replace('\\n', '')\n",
    "\n",
    "    # Same for article_ids_clicked\n",
    "    if not behaviors['article_ids_clicked'].str.contains('N').any():\n",
    "        behaviors['article_ids_clicked'] = behaviors['article_ids_clicked'].apply(lambda x: 'N' + str(x) )\n",
    "        behaviors['article_ids_clicked'] = behaviors['article_ids_clicked'].str.replace(' ', ' N').str.replace('[', '').str.replace(']', '')\n",
    "\n",
    "    # Select the required columns\n",
    "    df = behaviors[['user_id', 'impression_time', 'article_ids_clicked', 'article_ids_inview']]\n",
    "    df['article_ids_inview'] = df['article_ids_inview'].str.replace('\"', '')\n",
    "    df['article_ids_inview'] = df.apply(process_ids, axis=1)\n",
    "\n",
    "    if(not isinstance(history['impression_time_fixed'][0], str)):\n",
    "        history['impression_time_fixed'] = history['impression_time_fixed'].apply(lambda x: x[-max_history:] if len(x)>max_history else x)\n",
    "        history['article_id_fixed'] = history['article_id_fixed'].apply(lambda x: x[-max_history:] if len(x)>max_history else x)\n",
    "\n",
    "    history['impression_time_fixed'] = list(history['impression_time_fixed'])\n",
    "    # Check if 'impression_time' is already in the desired format\n",
    "    if not history['impression_time_fixed'].str.contains('/').any():\n",
    "        # Convert 'impression_time' to datetime\n",
    "        history['impression_time_fixed'] = [pd.to_datetime(x.astype(str)) for x in history['impression_time_fixed']]\n",
    "\n",
    "        # Format 'impression_time' in the desired format\n",
    "        history['impression_time_fixed'] = [x.strftime('%m/%d/%Y %I:%M:%S %p') for x in history['impression_time_fixed']]\n",
    "        # history['impression_time_fixed'] = list(history['impression_time_fixed'] )\n",
    "\n",
    "    # Add 'U' before every 'user_id' if it doesn't already start with 'U'\n",
    "    history['user_id'] = history['user_id'].apply(lambda x: 'U' + str(x) if not str(x).startswith('U') else str(x))\n",
    "\n",
    "    # Same for article_ids_clicked\n",
    "    if not history['article_id_fixed'].str.contains('N').any():\n",
    "        history['article_id_fixed'] = history['article_id_fixed'].apply(lambda x: 'N' + str(x) )\n",
    "        history['article_id_fixed'] = history['article_id_fixed'].str.replace(' ', ' N').str.replace('[', '').str.replace(']', '').str.replace('\\n', ' ').str.replace('\\t', ' ').str.replace('  ', ' ')\n",
    "        # history['article_id_fixed'] = history['article_id_fixed'].str.split(' ')\n",
    "\n",
    "    # Function to join times and user_ids\n",
    "    def join_times_and_ids(row):\n",
    "        # Zip the lists from the 'times' and 'user_ids' columns\n",
    "        paired_list = zip(row['article_id_fixed'].split(' '), row['impression_time_fixed'])\n",
    "        # Format each pair and join them into a list\n",
    "        return [pair for pair in paired_list]\n",
    "\n",
    "    # Apply the function to each row\n",
    "    history['combined'] = history.apply(join_times_and_ids, axis=1)\n",
    "\n",
    "    history = history[['user_id', 'combined']]\n",
    "\n",
    "    \n",
    "\n",
    "    # df['tot_clicks'] = df.apply(lambda row: (row['article_ids_clicked'], row['impression_time']),axis=1)\n",
    "    df['positive'] = df['article_ids_clicked']\n",
    "    df['negatives'] = df['article_ids_inview'].to_list()\n",
    "    df['bucket'] = df['impression_time']\n",
    "\n",
    "    # df_grouped = df.groupby('user_id').agg({'tot_clicks': lambda x: x.tolist()}).reset_index()\n",
    "\n",
    "    df = df.merge(history[['user_id', 'combined']], on='user_id', how='left')\n",
    "\n",
    "    docs = df[['user_id', 'combined', 'positive', 'negatives', 'bucket']]\n",
    "\n",
    "    # Write the DataFrame back to the .tsv file\n",
    "    # train_split = docs[:int(len(docs)*0.8)]\n",
    "    val_split = docs[: int(len(docs)*0.1)]\n",
    "    test_split = docs[int(len(docs)*0.1): int(len(docs)*0.3)]\n",
    "\n",
    "    if (trainset):\n",
    "        docs.to_csv('../train.tsv', sep='\\t', index=False, header=False)\n",
    "    else:\n",
    "        val_split.to_csv('../val.tsv', sep='\\t', index=False, header=False)\n",
    "        test_split.to_csv('../test.tsv', sep='\\t', index=False, header=False)\n",
    "\n",
    "    return docs\n",
    "\n",
    "# docs = write_data(behaviors, history, 100, True)\n",
    "val_docs = write_data(val_behaviors, val_history, 100, False)\n",
    "\n",
    "\n",
    "\n"
   ]
  },
  {
   "cell_type": "code",
   "execution_count": 17,
   "id": "3e762ed8",
   "metadata": {
    "ExecuteTime": {
     "end_time": "2024-06-25T13:37:52.897519Z",
     "start_time": "2024-06-25T13:37:52.883516Z"
    }
   },
   "outputs": [
    {
     "data": {
      "text/plain": "'N9764070 N9764086 N9764049 N9761801 N9764325 N9758057 N9763854 N9764070 N9764361 N9764621 N9764822 N9764813 N9765244 N9764765 N9765175 N9764505 N9765067 N9765190 N9764988 N9764350 N9759717 N9765545 N9765551 N9765539 N9758572 N9765359 N9765410 N9765481 N9766419 N9766452 N9765641 N9766279 N9765803 N9766146 N9766348 N9766161 N9766129 N9758432 N9766015 N9761963 N9766099 N9766805 N9766108 N9754042 N9766627 N9754730 N9765846 N9766261 N9766242 N9766808 N9766862 N9766886 N9766944 N9762678 N9766695 N9765326 N9766592 N9766757 N9766770 N9768387 N9766599 N9766136 N9768129 N9768377 N9768311 N9766752 N9768150 N9768177 N9768087 N9768193 N9767342 N9767751 N9767908 N9768687 N9767557 N9767989 N9768599 N9768469 N9768860 N9768583 N9768829 N9762135 N9769994 N9770006 N9769891 N9769691 N9769909 N9769883 N9767852 N9769641 N9770328 N9769888 N9770030 N9769220 N9769994 N9768260 N9770594 N9770726 N9769404 N9769366'"
     },
     "execution_count": 17,
     "metadata": {},
     "output_type": "execute_result"
    }
   ],
   "source": [
    "history[\"article_id_fixed\"][0]"
   ]
  },
  {
   "cell_type": "code",
   "execution_count": 18,
   "id": "1908f36f",
   "metadata": {
    "ExecuteTime": {
     "end_time": "2024-06-25T13:37:52.975513Z",
     "start_time": "2024-06-25T13:37:52.899517Z"
    }
   },
   "outputs": [],
   "source": [
    "val_docs['lens'] = val_docs['combined'].apply(len)"
   ]
  },
  {
   "cell_type": "code",
   "execution_count": 19,
   "id": "b790b686",
   "metadata": {
    "ExecuteTime": {
     "end_time": "2024-06-25T13:37:52.990513Z",
     "start_time": "2024-06-25T13:37:52.977514Z"
    }
   },
   "outputs": [
    {
     "data": {
      "text/plain": "5"
     },
     "execution_count": 19,
     "metadata": {},
     "output_type": "execute_result"
    }
   ],
   "source": [
    "val_docs['lens'].min()"
   ]
  },
  {
   "cell_type": "code",
   "execution_count": 20,
   "id": "35732f0d",
   "metadata": {
    "ExecuteTime": {
     "end_time": "2024-06-25T13:37:53.918783Z",
     "start_time": "2024-06-25T13:37:52.992518Z"
    }
   },
   "outputs": [
    {
     "data": {
      "text/plain": "115154    [(N3231334, 04/27/2023 09:51:53 AM), (N9740952...\n115858    [(N3231334, 04/27/2023 09:51:53 AM), (N9740952...\n115859    [(N3231334, 04/27/2023 09:51:53 AM), (N9740952...\n115155    [(N3231334, 04/27/2023 09:51:53 AM), (N9740952...\n168835    [(N3989379, 05/11/2023 07:02:06 PM), (N9760675...\n                                ...                        \n22969     [(N9770989, 05/18/2023 06:14:42 AM), (N9770541...\n52803     [(N9770989, 05/18/2023 06:17:04 AM), (N9770989...\n52802     [(N9770989, 05/18/2023 06:17:04 AM), (N9770989...\n52801     [(N9770989, 05/18/2023 06:17:04 AM), (N9770989...\n52800     [(N9770989, 05/18/2023 06:17:04 AM), (N9770989...\nName: combined, Length: 232887, dtype: object"
     },
     "execution_count": 20,
     "metadata": {},
     "output_type": "execute_result"
    }
   ],
   "source": [
    "docs['combined'].sort_values()"
   ]
  },
  {
   "cell_type": "markdown",
   "id": "118a5eb3",
   "metadata": {},
   "source": [
    "## Create docs.tsv"
   ]
  },
  {
   "cell_type": "code",
   "execution_count": 21,
   "id": "896a105e",
   "metadata": {
    "ExecuteTime": {
     "end_time": "2024-06-25T13:37:57.353655Z",
     "start_time": "2024-06-25T13:37:53.920513Z"
    }
   },
   "outputs": [],
   "source": [
    "\n",
    "# Select the required columns\n",
    "articles['body'] = articles['body'].str.replace('\\n', ' ')\n",
    "articles['title'] = articles['title'].str.replace('\\n', ' ')\n",
    "articles['body'] = articles['body'].str.replace('\\t', ' ')\n",
    "# articles['body'] = articles['body'].fillna('')\n",
    "# articles['category_str'] = articles['category_str'].fillna('')\n",
    "articles['topics'] = articles['topics'].astype(str).str.replace('\\n', ' ')\n",
    "articles['article_id'] = articles['article_id'].apply(lambda x: 'N' + str(x) if not str(x).startswith('N') else str(x))\n",
    "docs_file = articles[['article_id', 'title', 'category_str', 'subcategory', 'body', 'topics']]\n",
    "\n",
    "# Write to a new .tsv file without index\n",
    "docs_file.to_csv('../docs.tsv', sep='\\t', index=False, header=False)"
   ]
  },
  {
   "cell_type": "markdown",
   "id": "369f1180",
   "metadata": {},
   "source": [
    "## Create docs_pub_time.tsv"
   ]
  },
  {
   "cell_type": "code",
   "execution_count": 22,
   "id": "e62c9e4b",
   "metadata": {
    "ExecuteTime": {
     "end_time": "2024-06-25T13:37:57.663651Z",
     "start_time": "2024-06-25T13:37:57.355657Z"
    }
   },
   "outputs": [],
   "source": [
    "articles['article_id'] = articles['article_id'].apply(lambda x: 'N' + str(x) if not str(x).startswith('N') else str(x))\n",
    "\n",
    "# Convert 'impression_time' to string\n",
    "articles['published_time'] = articles['published_time'].astype(str)\n",
    "\n",
    "# Check if 'impression_time' is already in the desired format\n",
    "if not articles['published_time'].str.contains('/').any():\n",
    "    # Convert 'impression_time' to datetime\n",
    "    articles['published_time'] = pd.to_datetime(articles['published_time'])\n",
    "\n",
    "    # Format 'impression_time' in the desired format\n",
    "    articles['published_time'] = articles['published_time'].dt.strftime('%m/%d/%Y %I:%M:%S %p')\n",
    "pubdocs_file = articles[['article_id', 'published_time']]\n",
    "\n",
    "# Write to a new .tsv file without index\n",
    "pubdocs_file.to_csv('../popularity/docs_pub_time.tsv', sep='\\t', index=False, header=False)"
   ]
  },
  {
   "cell_type": "markdown",
   "id": "f28cfae8",
   "metadata": {},
   "source": [
    "## Create entities"
   ]
  }
 ],
 "metadata": {
  "kernelspec": {
   "display_name": "Python 3",
   "language": "python",
   "name": "python3"
  },
  "language_info": {
   "codemirror_mode": {
    "name": "ipython",
    "version": 3
   },
   "file_extension": ".py",
   "mimetype": "text/x-python",
   "name": "python",
   "nbconvert_exporter": "python",
   "pygments_lexer": "ipython3",
   "version": "3.12.2"
  }
 },
 "nbformat": 4,
 "nbformat_minor": 5
}
