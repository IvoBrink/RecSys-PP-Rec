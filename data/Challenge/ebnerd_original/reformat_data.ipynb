{
 "cells": [
  {
   "cell_type": "code",
   "execution_count": 1,
   "id": "initial_id",
   "metadata": {
    "collapsed": true,
    "ExecuteTime": {
     "end_time": "2024-06-11T11:00:48.692092Z",
     "start_time": "2024-06-11T11:00:47.681095Z"
    }
   },
   "outputs": [],
   "source": [
    "#%pip install pandas pyarrow\n",
    "import pandas as pd\n",
    "\n",
    "# Load the Parquet file\n",
    "articles = pd.read_parquet('articles.parquet', engine='pyarrow')\n",
    "behaviors = pd.read_parquet('train/behaviors.parquet', engine='pyarrow')\n",
    "history = pd.read_parquet('train/history.parquet', engine='pyarrow')"
   ]
  },
  {
   "cell_type": "code",
   "outputs": [
    {
     "data": {
      "text/plain": "   article_id                                       title  \\\n0     3037230  Ishockey-spiller: Jeg troede jeg skulle dø   \n1     3044020            Prins Harry tvunget til dna-test   \n2     3057622                 Rådden kørsel på blå plader   \n3     3073151                   Mærsk-arvinger i livsfare   \n4     3193383              Skød svigersøn gennem babydyne   \n\n                                            subtitle  last_modified_time  \\\n0  ISHOCKEY: Ishockey-spilleren Sebastian Harts h... 2023-06-29 06:20:57   \n1  Hoffet tvang Prins Harry til at tage dna-test ... 2023-06-29 06:21:16   \n2  Kan ikke straffes: Udenlandske diplomater i Da... 2023-06-29 06:21:24   \n3  FANGET I FLODBØLGEN: Skibsrederens oldebørn må... 2023-06-29 06:21:38   \n4  44-årig kvinde tiltalt for drab på ekssvigersø... 2023-06-29 06:22:57   \n\n   premium                                               body  \\\n0    False  Ambitionerne om at komme til USA og spille ish...   \n1    False  Den britiske tabloidavis The Sun fortsætter me...   \n2    False  Slingrende spritkørsel. Grove overtrædelser af...   \n3    False  To oldebørn af skibsreder Mærsk McKinney Mølle...   \n4    False  En 44-årig mormor blev i dag fremstillet i et ...   \n\n       published_time                    image_ids     article_type  \\\n0 2003-08-28 08:55:00                         None  article_default   \n1 2005-06-29 08:47:00  [3097307, 3097197, 3104927]  article_default   \n2 2005-10-10 07:20:00                    [3047102]  article_default   \n3 2005-01-04 06:59:00  [3067474, 3067478, 3153705]  article_default   \n4 2003-09-15 15:30:00                         None  article_default   \n\n                                                 url  ... entity_groups  \\\n0  https://ekstrabladet.dk/sport/anden_sport/isho...  ...            []   \n1  https://ekstrabladet.dk/underholdning/udlandke...  ...    [PER, PER]   \n2  https://ekstrabladet.dk/nyheder/samfund/articl...  ...            []   \n3  https://ekstrabladet.dk/nyheder/samfund/articl...  ...            []   \n4   https://ekstrabladet.dk/krimi/article3193383.ece  ...            []   \n\n                                              topics category  subcategory  \\\n0  [Kriminalitet, Kendt, Sport, Katastrofe, Mindr...      142   [327, 334]   \n1  [Kriminalitet, Kendt, Underholdning, Personfar...      414        [432]   \n2               [Kriminalitet, Transportmiddel, Bil]      118        [133]   \n3  [Erhverv, Privat virksomhed, Livsstil, Familie...      118        [133]   \n4          [Kriminalitet, Personfarlig kriminalitet]      140           []   \n\n    category_str total_inviews  total_pageviews  total_read_time  \\\n0          sport           NaN              NaN              NaN   \n1  underholdning           NaN              NaN              NaN   \n2        nyheder           NaN              NaN              NaN   \n3        nyheder           NaN              NaN              NaN   \n4          krimi           NaN              NaN              NaN   \n\n   sentiment_score  sentiment_label  \n0           0.9752         Negative  \n1           0.7084         Negative  \n2           0.9236         Negative  \n3           0.9945         Negative  \n4           0.9966         Negative  \n\n[5 rows x 21 columns]",
      "text/html": "<div>\n<style scoped>\n    .dataframe tbody tr th:only-of-type {\n        vertical-align: middle;\n    }\n\n    .dataframe tbody tr th {\n        vertical-align: top;\n    }\n\n    .dataframe thead th {\n        text-align: right;\n    }\n</style>\n<table border=\"1\" class=\"dataframe\">\n  <thead>\n    <tr style=\"text-align: right;\">\n      <th></th>\n      <th>article_id</th>\n      <th>title</th>\n      <th>subtitle</th>\n      <th>last_modified_time</th>\n      <th>premium</th>\n      <th>body</th>\n      <th>published_time</th>\n      <th>image_ids</th>\n      <th>article_type</th>\n      <th>url</th>\n      <th>...</th>\n      <th>entity_groups</th>\n      <th>topics</th>\n      <th>category</th>\n      <th>subcategory</th>\n      <th>category_str</th>\n      <th>total_inviews</th>\n      <th>total_pageviews</th>\n      <th>total_read_time</th>\n      <th>sentiment_score</th>\n      <th>sentiment_label</th>\n    </tr>\n  </thead>\n  <tbody>\n    <tr>\n      <th>0</th>\n      <td>3037230</td>\n      <td>Ishockey-spiller: Jeg troede jeg skulle dø</td>\n      <td>ISHOCKEY: Ishockey-spilleren Sebastian Harts h...</td>\n      <td>2023-06-29 06:20:57</td>\n      <td>False</td>\n      <td>Ambitionerne om at komme til USA og spille ish...</td>\n      <td>2003-08-28 08:55:00</td>\n      <td>None</td>\n      <td>article_default</td>\n      <td>https://ekstrabladet.dk/sport/anden_sport/isho...</td>\n      <td>...</td>\n      <td>[]</td>\n      <td>[Kriminalitet, Kendt, Sport, Katastrofe, Mindr...</td>\n      <td>142</td>\n      <td>[327, 334]</td>\n      <td>sport</td>\n      <td>NaN</td>\n      <td>NaN</td>\n      <td>NaN</td>\n      <td>0.9752</td>\n      <td>Negative</td>\n    </tr>\n    <tr>\n      <th>1</th>\n      <td>3044020</td>\n      <td>Prins Harry tvunget til dna-test</td>\n      <td>Hoffet tvang Prins Harry til at tage dna-test ...</td>\n      <td>2023-06-29 06:21:16</td>\n      <td>False</td>\n      <td>Den britiske tabloidavis The Sun fortsætter me...</td>\n      <td>2005-06-29 08:47:00</td>\n      <td>[3097307, 3097197, 3104927]</td>\n      <td>article_default</td>\n      <td>https://ekstrabladet.dk/underholdning/udlandke...</td>\n      <td>...</td>\n      <td>[PER, PER]</td>\n      <td>[Kriminalitet, Kendt, Underholdning, Personfar...</td>\n      <td>414</td>\n      <td>[432]</td>\n      <td>underholdning</td>\n      <td>NaN</td>\n      <td>NaN</td>\n      <td>NaN</td>\n      <td>0.7084</td>\n      <td>Negative</td>\n    </tr>\n    <tr>\n      <th>2</th>\n      <td>3057622</td>\n      <td>Rådden kørsel på blå plader</td>\n      <td>Kan ikke straffes: Udenlandske diplomater i Da...</td>\n      <td>2023-06-29 06:21:24</td>\n      <td>False</td>\n      <td>Slingrende spritkørsel. Grove overtrædelser af...</td>\n      <td>2005-10-10 07:20:00</td>\n      <td>[3047102]</td>\n      <td>article_default</td>\n      <td>https://ekstrabladet.dk/nyheder/samfund/articl...</td>\n      <td>...</td>\n      <td>[]</td>\n      <td>[Kriminalitet, Transportmiddel, Bil]</td>\n      <td>118</td>\n      <td>[133]</td>\n      <td>nyheder</td>\n      <td>NaN</td>\n      <td>NaN</td>\n      <td>NaN</td>\n      <td>0.9236</td>\n      <td>Negative</td>\n    </tr>\n    <tr>\n      <th>3</th>\n      <td>3073151</td>\n      <td>Mærsk-arvinger i livsfare</td>\n      <td>FANGET I FLODBØLGEN: Skibsrederens oldebørn må...</td>\n      <td>2023-06-29 06:21:38</td>\n      <td>False</td>\n      <td>To oldebørn af skibsreder Mærsk McKinney Mølle...</td>\n      <td>2005-01-04 06:59:00</td>\n      <td>[3067474, 3067478, 3153705]</td>\n      <td>article_default</td>\n      <td>https://ekstrabladet.dk/nyheder/samfund/articl...</td>\n      <td>...</td>\n      <td>[]</td>\n      <td>[Erhverv, Privat virksomhed, Livsstil, Familie...</td>\n      <td>118</td>\n      <td>[133]</td>\n      <td>nyheder</td>\n      <td>NaN</td>\n      <td>NaN</td>\n      <td>NaN</td>\n      <td>0.9945</td>\n      <td>Negative</td>\n    </tr>\n    <tr>\n      <th>4</th>\n      <td>3193383</td>\n      <td>Skød svigersøn gennem babydyne</td>\n      <td>44-årig kvinde tiltalt for drab på ekssvigersø...</td>\n      <td>2023-06-29 06:22:57</td>\n      <td>False</td>\n      <td>En 44-årig mormor blev i dag fremstillet i et ...</td>\n      <td>2003-09-15 15:30:00</td>\n      <td>None</td>\n      <td>article_default</td>\n      <td>https://ekstrabladet.dk/krimi/article3193383.ece</td>\n      <td>...</td>\n      <td>[]</td>\n      <td>[Kriminalitet, Personfarlig kriminalitet]</td>\n      <td>140</td>\n      <td>[]</td>\n      <td>krimi</td>\n      <td>NaN</td>\n      <td>NaN</td>\n      <td>NaN</td>\n      <td>0.9966</td>\n      <td>Negative</td>\n    </tr>\n  </tbody>\n</table>\n<p>5 rows × 21 columns</p>\n</div>"
     },
     "execution_count": 2,
     "metadata": {},
     "output_type": "execute_result"
    }
   ],
   "source": [
    "articles.head()"
   ],
   "metadata": {
    "collapsed": false,
    "ExecuteTime": {
     "end_time": "2024-06-11T11:00:48.740098Z",
     "start_time": "2024-06-11T11:00:48.694094Z"
    }
   },
   "id": "6d1f0a13b80f9a3d",
   "execution_count": 2
  },
  {
   "cell_type": "code",
   "outputs": [
    {
     "data": {
      "text/plain": "   impression_id  article_id     impression_time  read_time  \\\n0          48401         NaN 2023-05-21 21:06:50       21.0   \n1         152513   9778745.0 2023-05-24 07:31:26       30.0   \n2         155390         NaN 2023-05-24 07:30:33       45.0   \n3         214679         NaN 2023-05-23 05:25:40       33.0   \n4         214681         NaN 2023-05-23 05:31:54       21.0   \n\n   scroll_percentage  device_type  \\\n0                NaN            2   \n1              100.0            1   \n2                NaN            1   \n3                NaN            2   \n4                NaN            2   \n\n                                  article_ids_inview article_ids_clicked  \\\n0  [9774516, 9771051, 9770028, 9775402, 9774461, ...           [9759966]   \n1  [9778669, 9778736, 9778623, 9089120, 9778661, ...           [9778661]   \n2  [9778369, 9777856, 9778500, 9778021, 9778627, ...           [9777856]   \n3  [9776715, 9776406, 9776566, 9776071, 9776808, ...           [9776566]   \n4  [9775202, 9776855, 9776688, 9771995, 9776583, ...           [9776553]   \n\n   user_id  is_sso_user  gender  postcode  age  is_subscriber  session_id  \\\n0    22779        False     NaN       NaN  NaN          False          21   \n1   150224        False     NaN       NaN  NaN          False         298   \n2   160892        False     NaN       NaN  NaN          False         401   \n3  1001055        False     NaN       NaN  NaN          False        1357   \n4  1001055        False     NaN       NaN  NaN          False        1358   \n\n   next_read_time  next_scroll_percentage  \n0            16.0                    27.0  \n1             2.0                    48.0  \n2           215.0                   100.0  \n3            40.0                    47.0  \n4             5.0                    49.0  ",
      "text/html": "<div>\n<style scoped>\n    .dataframe tbody tr th:only-of-type {\n        vertical-align: middle;\n    }\n\n    .dataframe tbody tr th {\n        vertical-align: top;\n    }\n\n    .dataframe thead th {\n        text-align: right;\n    }\n</style>\n<table border=\"1\" class=\"dataframe\">\n  <thead>\n    <tr style=\"text-align: right;\">\n      <th></th>\n      <th>impression_id</th>\n      <th>article_id</th>\n      <th>impression_time</th>\n      <th>read_time</th>\n      <th>scroll_percentage</th>\n      <th>device_type</th>\n      <th>article_ids_inview</th>\n      <th>article_ids_clicked</th>\n      <th>user_id</th>\n      <th>is_sso_user</th>\n      <th>gender</th>\n      <th>postcode</th>\n      <th>age</th>\n      <th>is_subscriber</th>\n      <th>session_id</th>\n      <th>next_read_time</th>\n      <th>next_scroll_percentage</th>\n    </tr>\n  </thead>\n  <tbody>\n    <tr>\n      <th>0</th>\n      <td>48401</td>\n      <td>NaN</td>\n      <td>2023-05-21 21:06:50</td>\n      <td>21.0</td>\n      <td>NaN</td>\n      <td>2</td>\n      <td>[9774516, 9771051, 9770028, 9775402, 9774461, ...</td>\n      <td>[9759966]</td>\n      <td>22779</td>\n      <td>False</td>\n      <td>NaN</td>\n      <td>NaN</td>\n      <td>NaN</td>\n      <td>False</td>\n      <td>21</td>\n      <td>16.0</td>\n      <td>27.0</td>\n    </tr>\n    <tr>\n      <th>1</th>\n      <td>152513</td>\n      <td>9778745.0</td>\n      <td>2023-05-24 07:31:26</td>\n      <td>30.0</td>\n      <td>100.0</td>\n      <td>1</td>\n      <td>[9778669, 9778736, 9778623, 9089120, 9778661, ...</td>\n      <td>[9778661]</td>\n      <td>150224</td>\n      <td>False</td>\n      <td>NaN</td>\n      <td>NaN</td>\n      <td>NaN</td>\n      <td>False</td>\n      <td>298</td>\n      <td>2.0</td>\n      <td>48.0</td>\n    </tr>\n    <tr>\n      <th>2</th>\n      <td>155390</td>\n      <td>NaN</td>\n      <td>2023-05-24 07:30:33</td>\n      <td>45.0</td>\n      <td>NaN</td>\n      <td>1</td>\n      <td>[9778369, 9777856, 9778500, 9778021, 9778627, ...</td>\n      <td>[9777856]</td>\n      <td>160892</td>\n      <td>False</td>\n      <td>NaN</td>\n      <td>NaN</td>\n      <td>NaN</td>\n      <td>False</td>\n      <td>401</td>\n      <td>215.0</td>\n      <td>100.0</td>\n    </tr>\n    <tr>\n      <th>3</th>\n      <td>214679</td>\n      <td>NaN</td>\n      <td>2023-05-23 05:25:40</td>\n      <td>33.0</td>\n      <td>NaN</td>\n      <td>2</td>\n      <td>[9776715, 9776406, 9776566, 9776071, 9776808, ...</td>\n      <td>[9776566]</td>\n      <td>1001055</td>\n      <td>False</td>\n      <td>NaN</td>\n      <td>NaN</td>\n      <td>NaN</td>\n      <td>False</td>\n      <td>1357</td>\n      <td>40.0</td>\n      <td>47.0</td>\n    </tr>\n    <tr>\n      <th>4</th>\n      <td>214681</td>\n      <td>NaN</td>\n      <td>2023-05-23 05:31:54</td>\n      <td>21.0</td>\n      <td>NaN</td>\n      <td>2</td>\n      <td>[9775202, 9776855, 9776688, 9771995, 9776583, ...</td>\n      <td>[9776553]</td>\n      <td>1001055</td>\n      <td>False</td>\n      <td>NaN</td>\n      <td>NaN</td>\n      <td>NaN</td>\n      <td>False</td>\n      <td>1358</td>\n      <td>5.0</td>\n      <td>49.0</td>\n    </tr>\n  </tbody>\n</table>\n</div>"
     },
     "execution_count": 3,
     "metadata": {},
     "output_type": "execute_result"
    }
   ],
   "source": [
    "behaviors.head()"
   ],
   "metadata": {
    "collapsed": false,
    "ExecuteTime": {
     "end_time": "2024-06-11T11:00:48.772102Z",
     "start_time": "2024-06-11T11:00:48.743099Z"
    }
   },
   "id": "4297da3de709bfcd",
   "execution_count": 3
  },
  {
   "cell_type": "code",
   "outputs": [
    {
     "data": {
      "text/plain": "   user_id                              impression_time_fixed  \\\n0    13538  [2023-04-27T10:17:43.000000, 2023-04-27T10:18:...   \n1    58608  [2023-04-27T18:48:09.000000, 2023-04-27T18:48:...   \n2    95507  [2023-04-27T15:20:28.000000, 2023-04-27T15:20:...   \n3   106588  [2023-04-27T08:29:09.000000, 2023-04-27T08:29:...   \n4   617963  [2023-04-27T14:42:25.000000, 2023-04-27T14:43:...   \n\n                             scroll_percentage_fixed  \\\n0  [100.0, 35.0, 100.0, 24.0, 100.0, 23.0, 100.0,...   \n1  [37.0, 61.0, 100.0, 100.0, 55.0, 100.0, 100.0,...   \n2  [60.0, 100.0, 100.0, 21.0, 29.0, 67.0, 49.0, 5...   \n3  [24.0, 57.0, 100.0, nan, nan, 100.0, 100.0, 73...   \n4  [100.0, 100.0, nan, 46.0, 23.0, 19.0, 61.0, 70...   \n\n                                    article_id_fixed  \\\n0  [9738663, 9738569, 9738663, 9738490, 9738663, ...   \n1  [9739362, 9739179, 9738567, 9739344, 9739202, ...   \n2  [9739035, 9738646, 9634967, 9738902, 9735495, ...   \n3  [9738292, 9738216, 9737266, 9737556, 9737657, ...   \n4  [9739035, 9739088, 9738902, 9738968, 9738760, ...   \n\n                                     read_time_fixed  \n0  [17.0, 12.0, 4.0, 5.0, 4.0, 9.0, 5.0, 46.0, 11...  \n1  [2.0, 24.0, 72.0, 65.0, 11.0, 4.0, 101.0, 0.0,...  \n2  [18.0, 29.0, 51.0, 12.0, 10.0, 10.0, 13.0, 24....  \n3  [9.0, 15.0, 42.0, 9.0, 3.0, 58.0, 26.0, 214.0,...  \n4  [45.0, 29.0, 116.0, 26.0, 34.0, 42.0, 58.0, 59...  ",
      "text/html": "<div>\n<style scoped>\n    .dataframe tbody tr th:only-of-type {\n        vertical-align: middle;\n    }\n\n    .dataframe tbody tr th {\n        vertical-align: top;\n    }\n\n    .dataframe thead th {\n        text-align: right;\n    }\n</style>\n<table border=\"1\" class=\"dataframe\">\n  <thead>\n    <tr style=\"text-align: right;\">\n      <th></th>\n      <th>user_id</th>\n      <th>impression_time_fixed</th>\n      <th>scroll_percentage_fixed</th>\n      <th>article_id_fixed</th>\n      <th>read_time_fixed</th>\n    </tr>\n  </thead>\n  <tbody>\n    <tr>\n      <th>0</th>\n      <td>13538</td>\n      <td>[2023-04-27T10:17:43.000000, 2023-04-27T10:18:...</td>\n      <td>[100.0, 35.0, 100.0, 24.0, 100.0, 23.0, 100.0,...</td>\n      <td>[9738663, 9738569, 9738663, 9738490, 9738663, ...</td>\n      <td>[17.0, 12.0, 4.0, 5.0, 4.0, 9.0, 5.0, 46.0, 11...</td>\n    </tr>\n    <tr>\n      <th>1</th>\n      <td>58608</td>\n      <td>[2023-04-27T18:48:09.000000, 2023-04-27T18:48:...</td>\n      <td>[37.0, 61.0, 100.0, 100.0, 55.0, 100.0, 100.0,...</td>\n      <td>[9739362, 9739179, 9738567, 9739344, 9739202, ...</td>\n      <td>[2.0, 24.0, 72.0, 65.0, 11.0, 4.0, 101.0, 0.0,...</td>\n    </tr>\n    <tr>\n      <th>2</th>\n      <td>95507</td>\n      <td>[2023-04-27T15:20:28.000000, 2023-04-27T15:20:...</td>\n      <td>[60.0, 100.0, 100.0, 21.0, 29.0, 67.0, 49.0, 5...</td>\n      <td>[9739035, 9738646, 9634967, 9738902, 9735495, ...</td>\n      <td>[18.0, 29.0, 51.0, 12.0, 10.0, 10.0, 13.0, 24....</td>\n    </tr>\n    <tr>\n      <th>3</th>\n      <td>106588</td>\n      <td>[2023-04-27T08:29:09.000000, 2023-04-27T08:29:...</td>\n      <td>[24.0, 57.0, 100.0, nan, nan, 100.0, 100.0, 73...</td>\n      <td>[9738292, 9738216, 9737266, 9737556, 9737657, ...</td>\n      <td>[9.0, 15.0, 42.0, 9.0, 3.0, 58.0, 26.0, 214.0,...</td>\n    </tr>\n    <tr>\n      <th>4</th>\n      <td>617963</td>\n      <td>[2023-04-27T14:42:25.000000, 2023-04-27T14:43:...</td>\n      <td>[100.0, 100.0, nan, 46.0, 23.0, 19.0, 61.0, 70...</td>\n      <td>[9739035, 9739088, 9738902, 9738968, 9738760, ...</td>\n      <td>[45.0, 29.0, 116.0, 26.0, 34.0, 42.0, 58.0, 59...</td>\n    </tr>\n  </tbody>\n</table>\n</div>"
     },
     "execution_count": 4,
     "metadata": {},
     "output_type": "execute_result"
    }
   ],
   "source": [
    "history.head()"
   ],
   "metadata": {
    "collapsed": false,
    "ExecuteTime": {
     "end_time": "2024-06-11T11:00:48.820096Z",
     "start_time": "2024-06-11T11:00:48.774103Z"
    }
   },
   "id": "daa6db649de33b5b",
   "execution_count": 4
  },
  {
   "cell_type": "markdown",
   "source": [
    "## Create mergeimps.tsv (popularity)\n",
    "The \"mergeimps.tsv'' file needs to store the #click and #impression of each news with time information for building popularity signals. Specifically, we first need to divide the time into several buckets in units of one hour. Thus, since the MIND dataset contains user data in 6 weeks, the time periods can be divided into 2476 buckets. Then, we count the #impressions and #clicks of a news in each bucket and store the results in each line of ``mergeimps.tsv'', where the format is :\n",
    "\n",
    "[News_ID] TAB [Bucket_ID] TAB #Cliks TAB #Impressions.\n",
    " \n",
    "In MIND, since we did not obtain the click information for test data, which can substantially affect the estimation of popularity signals. Thus, I advise that you can use the validation dataset of MIND for evaluation."
   ],
   "metadata": {
    "collapsed": false
   },
   "id": "fb53536c2fc8d434"
  },
  {
   "cell_type": "code",
   "outputs": [
    {
     "data": {
      "text/plain": "   impression_id  article_id     impression_time  read_time  \\\n0          48401         NaN 2023-05-21 21:06:50       21.0   \n1         152513   9778745.0 2023-05-24 07:31:26       30.0   \n2         155390         NaN 2023-05-24 07:30:33       45.0   \n3         214679         NaN 2023-05-23 05:25:40       33.0   \n4         214681         NaN 2023-05-23 05:31:54       21.0   \n5         214684         NaN 2023-05-23 05:32:21       10.0   \n6         214691         NaN 2023-05-23 05:30:46       18.0   \n7         369958         NaN 2023-05-24 14:25:56       16.0   \n8         369959         NaN 2023-05-24 14:23:14      161.0   \n9         370414         NaN 2023-05-24 14:48:54        9.0   \n\n   scroll_percentage  device_type  \\\n0                NaN            2   \n1              100.0            1   \n2                NaN            1   \n3                NaN            2   \n4                NaN            2   \n5                NaN            2   \n6                NaN            2   \n7                NaN            2   \n8                NaN            2   \n9                NaN            2   \n\n                                  article_ids_inview article_ids_clicked  \\\n0  [9774516, 9771051, 9770028, 9775402, 9774461, ...           [9759966]   \n1  [9778669, 9778736, 9778623, 9089120, 9778661, ...           [9778661]   \n2  [9778369, 9777856, 9778500, 9778021, 9778627, ...           [9777856]   \n3  [9776715, 9776406, 9776566, 9776071, 9776808, ...           [9776566]   \n4  [9775202, 9776855, 9776688, 9771995, 9776583, ...           [9776553]   \n5  [9776508, 9767490, 9776049, 9776544, 9776551, ...           [9776508]   \n6  [9759955, 9776449, 9775804, 9776369, 9488213, ...           [9776691]   \n7      [9776023, 9778158, 9776929, 9527795, 7594265]           [9778158]   \n8  [9779186, 9779289, 9777397, 9779185, 9778813, ...           [9779071]   \n9  [9779408, 9779377, 9779289, 9778945, 9777182, ...           [9777182]   \n\n   user_id  is_sso_user  gender  postcode  age  is_subscriber  session_id  \\\n0    22779        False     NaN       NaN  NaN          False          21   \n1   150224        False     NaN       NaN  NaN          False         298   \n2   160892        False     NaN       NaN  NaN          False         401   \n3  1001055        False     NaN       NaN  NaN          False        1357   \n4  1001055        False     NaN       NaN  NaN          False        1358   \n5  1001055        False     NaN       NaN  NaN          False        1358   \n6  1001055        False     NaN       NaN  NaN          False        1358   \n7  1469458        False     NaN       NaN  NaN          False        1623   \n8  1469458        False     NaN       NaN  NaN          False        1623   \n9  1470585        False     NaN       NaN  NaN          False        1678   \n\n   next_read_time  next_scroll_percentage  \n0            16.0                    27.0  \n1             2.0                    48.0  \n2           215.0                   100.0  \n3            40.0                    47.0  \n4             5.0                    49.0  \n5            52.0                   100.0  \n6             4.0                    37.0  \n7             0.0                     NaN  \n8            16.0                     NaN  \n9            13.0                    41.0  ",
      "text/html": "<div>\n<style scoped>\n    .dataframe tbody tr th:only-of-type {\n        vertical-align: middle;\n    }\n\n    .dataframe tbody tr th {\n        vertical-align: top;\n    }\n\n    .dataframe thead th {\n        text-align: right;\n    }\n</style>\n<table border=\"1\" class=\"dataframe\">\n  <thead>\n    <tr style=\"text-align: right;\">\n      <th></th>\n      <th>impression_id</th>\n      <th>article_id</th>\n      <th>impression_time</th>\n      <th>read_time</th>\n      <th>scroll_percentage</th>\n      <th>device_type</th>\n      <th>article_ids_inview</th>\n      <th>article_ids_clicked</th>\n      <th>user_id</th>\n      <th>is_sso_user</th>\n      <th>gender</th>\n      <th>postcode</th>\n      <th>age</th>\n      <th>is_subscriber</th>\n      <th>session_id</th>\n      <th>next_read_time</th>\n      <th>next_scroll_percentage</th>\n    </tr>\n  </thead>\n  <tbody>\n    <tr>\n      <th>0</th>\n      <td>48401</td>\n      <td>NaN</td>\n      <td>2023-05-21 21:06:50</td>\n      <td>21.0</td>\n      <td>NaN</td>\n      <td>2</td>\n      <td>[9774516, 9771051, 9770028, 9775402, 9774461, ...</td>\n      <td>[9759966]</td>\n      <td>22779</td>\n      <td>False</td>\n      <td>NaN</td>\n      <td>NaN</td>\n      <td>NaN</td>\n      <td>False</td>\n      <td>21</td>\n      <td>16.0</td>\n      <td>27.0</td>\n    </tr>\n    <tr>\n      <th>1</th>\n      <td>152513</td>\n      <td>9778745.0</td>\n      <td>2023-05-24 07:31:26</td>\n      <td>30.0</td>\n      <td>100.0</td>\n      <td>1</td>\n      <td>[9778669, 9778736, 9778623, 9089120, 9778661, ...</td>\n      <td>[9778661]</td>\n      <td>150224</td>\n      <td>False</td>\n      <td>NaN</td>\n      <td>NaN</td>\n      <td>NaN</td>\n      <td>False</td>\n      <td>298</td>\n      <td>2.0</td>\n      <td>48.0</td>\n    </tr>\n    <tr>\n      <th>2</th>\n      <td>155390</td>\n      <td>NaN</td>\n      <td>2023-05-24 07:30:33</td>\n      <td>45.0</td>\n      <td>NaN</td>\n      <td>1</td>\n      <td>[9778369, 9777856, 9778500, 9778021, 9778627, ...</td>\n      <td>[9777856]</td>\n      <td>160892</td>\n      <td>False</td>\n      <td>NaN</td>\n      <td>NaN</td>\n      <td>NaN</td>\n      <td>False</td>\n      <td>401</td>\n      <td>215.0</td>\n      <td>100.0</td>\n    </tr>\n    <tr>\n      <th>3</th>\n      <td>214679</td>\n      <td>NaN</td>\n      <td>2023-05-23 05:25:40</td>\n      <td>33.0</td>\n      <td>NaN</td>\n      <td>2</td>\n      <td>[9776715, 9776406, 9776566, 9776071, 9776808, ...</td>\n      <td>[9776566]</td>\n      <td>1001055</td>\n      <td>False</td>\n      <td>NaN</td>\n      <td>NaN</td>\n      <td>NaN</td>\n      <td>False</td>\n      <td>1357</td>\n      <td>40.0</td>\n      <td>47.0</td>\n    </tr>\n    <tr>\n      <th>4</th>\n      <td>214681</td>\n      <td>NaN</td>\n      <td>2023-05-23 05:31:54</td>\n      <td>21.0</td>\n      <td>NaN</td>\n      <td>2</td>\n      <td>[9775202, 9776855, 9776688, 9771995, 9776583, ...</td>\n      <td>[9776553]</td>\n      <td>1001055</td>\n      <td>False</td>\n      <td>NaN</td>\n      <td>NaN</td>\n      <td>NaN</td>\n      <td>False</td>\n      <td>1358</td>\n      <td>5.0</td>\n      <td>49.0</td>\n    </tr>\n    <tr>\n      <th>5</th>\n      <td>214684</td>\n      <td>NaN</td>\n      <td>2023-05-23 05:32:21</td>\n      <td>10.0</td>\n      <td>NaN</td>\n      <td>2</td>\n      <td>[9776508, 9767490, 9776049, 9776544, 9776551, ...</td>\n      <td>[9776508]</td>\n      <td>1001055</td>\n      <td>False</td>\n      <td>NaN</td>\n      <td>NaN</td>\n      <td>NaN</td>\n      <td>False</td>\n      <td>1358</td>\n      <td>52.0</td>\n      <td>100.0</td>\n    </tr>\n    <tr>\n      <th>6</th>\n      <td>214691</td>\n      <td>NaN</td>\n      <td>2023-05-23 05:30:46</td>\n      <td>18.0</td>\n      <td>NaN</td>\n      <td>2</td>\n      <td>[9759955, 9776449, 9775804, 9776369, 9488213, ...</td>\n      <td>[9776691]</td>\n      <td>1001055</td>\n      <td>False</td>\n      <td>NaN</td>\n      <td>NaN</td>\n      <td>NaN</td>\n      <td>False</td>\n      <td>1358</td>\n      <td>4.0</td>\n      <td>37.0</td>\n    </tr>\n    <tr>\n      <th>7</th>\n      <td>369958</td>\n      <td>NaN</td>\n      <td>2023-05-24 14:25:56</td>\n      <td>16.0</td>\n      <td>NaN</td>\n      <td>2</td>\n      <td>[9776023, 9778158, 9776929, 9527795, 7594265]</td>\n      <td>[9778158]</td>\n      <td>1469458</td>\n      <td>False</td>\n      <td>NaN</td>\n      <td>NaN</td>\n      <td>NaN</td>\n      <td>False</td>\n      <td>1623</td>\n      <td>0.0</td>\n      <td>NaN</td>\n    </tr>\n    <tr>\n      <th>8</th>\n      <td>369959</td>\n      <td>NaN</td>\n      <td>2023-05-24 14:23:14</td>\n      <td>161.0</td>\n      <td>NaN</td>\n      <td>2</td>\n      <td>[9779186, 9779289, 9777397, 9779185, 9778813, ...</td>\n      <td>[9779071]</td>\n      <td>1469458</td>\n      <td>False</td>\n      <td>NaN</td>\n      <td>NaN</td>\n      <td>NaN</td>\n      <td>False</td>\n      <td>1623</td>\n      <td>16.0</td>\n      <td>NaN</td>\n    </tr>\n    <tr>\n      <th>9</th>\n      <td>370414</td>\n      <td>NaN</td>\n      <td>2023-05-24 14:48:54</td>\n      <td>9.0</td>\n      <td>NaN</td>\n      <td>2</td>\n      <td>[9779408, 9779377, 9779289, 9778945, 9777182, ...</td>\n      <td>[9777182]</td>\n      <td>1470585</td>\n      <td>False</td>\n      <td>NaN</td>\n      <td>NaN</td>\n      <td>NaN</td>\n      <td>False</td>\n      <td>1678</td>\n      <td>13.0</td>\n      <td>41.0</td>\n    </tr>\n  </tbody>\n</table>\n</div>"
     },
     "execution_count": 5,
     "metadata": {},
     "output_type": "execute_result"
    }
   ],
   "source": [
    "behaviors[:10]"
   ],
   "metadata": {
    "collapsed": false,
    "ExecuteTime": {
     "end_time": "2024-06-11T11:00:48.867094Z",
     "start_time": "2024-06-11T11:00:48.823102Z"
    }
   },
   "id": "7baa24024ee9e3e1",
   "execution_count": 5
  },
  {
   "cell_type": "code",
   "outputs": [
    {
     "data": {
      "text/plain": "   bucket_id     impression_time  \\\n0         93 2023-05-21 21:06:50   \n1        151 2023-05-24 07:31:26   \n2        151 2023-05-24 07:30:33   \n3        125 2023-05-23 05:25:40   \n4        125 2023-05-23 05:31:54   \n\n                                  article_ids_inview article_ids_clicked  \n0  [9774516, 9771051, 9770028, 9775402, 9774461, ...           [9759966]  \n1  [9778669, 9778736, 9778623, 9089120, 9778661, ...           [9778661]  \n2  [9778369, 9777856, 9778500, 9778021, 9778627, ...           [9777856]  \n3  [9776715, 9776406, 9776566, 9776071, 9776808, ...           [9776566]  \n4  [9775202, 9776855, 9776688, 9771995, 9776583, ...           [9776553]  ",
      "text/html": "<div>\n<style scoped>\n    .dataframe tbody tr th:only-of-type {\n        vertical-align: middle;\n    }\n\n    .dataframe tbody tr th {\n        vertical-align: top;\n    }\n\n    .dataframe thead th {\n        text-align: right;\n    }\n</style>\n<table border=\"1\" class=\"dataframe\">\n  <thead>\n    <tr style=\"text-align: right;\">\n      <th></th>\n      <th>bucket_id</th>\n      <th>impression_time</th>\n      <th>article_ids_inview</th>\n      <th>article_ids_clicked</th>\n    </tr>\n  </thead>\n  <tbody>\n    <tr>\n      <th>0</th>\n      <td>93</td>\n      <td>2023-05-21 21:06:50</td>\n      <td>[9774516, 9771051, 9770028, 9775402, 9774461, ...</td>\n      <td>[9759966]</td>\n    </tr>\n    <tr>\n      <th>1</th>\n      <td>151</td>\n      <td>2023-05-24 07:31:26</td>\n      <td>[9778669, 9778736, 9778623, 9089120, 9778661, ...</td>\n      <td>[9778661]</td>\n    </tr>\n    <tr>\n      <th>2</th>\n      <td>151</td>\n      <td>2023-05-24 07:30:33</td>\n      <td>[9778369, 9777856, 9778500, 9778021, 9778627, ...</td>\n      <td>[9777856]</td>\n    </tr>\n    <tr>\n      <th>3</th>\n      <td>125</td>\n      <td>2023-05-23 05:25:40</td>\n      <td>[9776715, 9776406, 9776566, 9776071, 9776808, ...</td>\n      <td>[9776566]</td>\n    </tr>\n    <tr>\n      <th>4</th>\n      <td>125</td>\n      <td>2023-05-23 05:31:54</td>\n      <td>[9775202, 9776855, 9776688, 9771995, 9776583, ...</td>\n      <td>[9776553]</td>\n    </tr>\n  </tbody>\n</table>\n</div>"
     },
     "execution_count": 6,
     "metadata": {},
     "output_type": "execute_result"
    }
   ],
   "source": [
    "# Assuming 'impression_time' is already in datetime format, if not convert it\n",
    "behaviors['impression_time'] = pd.to_datetime(behaviors['impression_time'])\n",
    "\n",
    "# Set the start date of your data collection period\n",
    "start_date = pd.to_datetime('2023-05-18')\n",
    "\n",
    "# Calculate the hour buckets since the start of the period\n",
    "behaviors['bucket_id'] = ((behaviors['impression_time'] - start_date).dt.total_seconds() // 3600).astype(int)\n",
    "\n",
    "behaviors[[\"bucket_id\", \"impression_time\", \"article_ids_inview\", \"article_ids_clicked\"]].head()"
   ],
   "metadata": {
    "collapsed": false,
    "ExecuteTime": {
     "end_time": "2024-06-11T11:00:48.913094Z",
     "start_time": "2024-06-11T11:00:48.869096Z"
    }
   },
   "id": "5611fe96cb90f489",
   "execution_count": 6
  },
  {
   "cell_type": "code",
   "outputs": [
    {
     "data": {
      "text/plain": "       article_id  bucket_id  clicks  impressions\n0         9774516         93       1           34\n1         9771051         93       4           52\n2         9770028         93       1           42\n3         9775402         93       6           52\n4         9774461         93      12           46\n...           ...        ...     ...          ...\n28817     9688894        104       0            1\n28818     9657528         10       0            1\n28819     9769356         10       0            1\n28820     9746428         10       0            1\n28821     9726171         10       0            1\n\n[28822 rows x 4 columns]",
      "text/html": "<div>\n<style scoped>\n    .dataframe tbody tr th:only-of-type {\n        vertical-align: middle;\n    }\n\n    .dataframe tbody tr th {\n        vertical-align: top;\n    }\n\n    .dataframe thead th {\n        text-align: right;\n    }\n</style>\n<table border=\"1\" class=\"dataframe\">\n  <thead>\n    <tr style=\"text-align: right;\">\n      <th></th>\n      <th>article_id</th>\n      <th>bucket_id</th>\n      <th>clicks</th>\n      <th>impressions</th>\n    </tr>\n  </thead>\n  <tbody>\n    <tr>\n      <th>0</th>\n      <td>9774516</td>\n      <td>93</td>\n      <td>1</td>\n      <td>34</td>\n    </tr>\n    <tr>\n      <th>1</th>\n      <td>9771051</td>\n      <td>93</td>\n      <td>4</td>\n      <td>52</td>\n    </tr>\n    <tr>\n      <th>2</th>\n      <td>9770028</td>\n      <td>93</td>\n      <td>1</td>\n      <td>42</td>\n    </tr>\n    <tr>\n      <th>3</th>\n      <td>9775402</td>\n      <td>93</td>\n      <td>6</td>\n      <td>52</td>\n    </tr>\n    <tr>\n      <th>4</th>\n      <td>9774461</td>\n      <td>93</td>\n      <td>12</td>\n      <td>46</td>\n    </tr>\n    <tr>\n      <th>...</th>\n      <td>...</td>\n      <td>...</td>\n      <td>...</td>\n      <td>...</td>\n    </tr>\n    <tr>\n      <th>28817</th>\n      <td>9688894</td>\n      <td>104</td>\n      <td>0</td>\n      <td>1</td>\n    </tr>\n    <tr>\n      <th>28818</th>\n      <td>9657528</td>\n      <td>10</td>\n      <td>0</td>\n      <td>1</td>\n    </tr>\n    <tr>\n      <th>28819</th>\n      <td>9769356</td>\n      <td>10</td>\n      <td>0</td>\n      <td>1</td>\n    </tr>\n    <tr>\n      <th>28820</th>\n      <td>9746428</td>\n      <td>10</td>\n      <td>0</td>\n      <td>1</td>\n    </tr>\n    <tr>\n      <th>28821</th>\n      <td>9726171</td>\n      <td>10</td>\n      <td>0</td>\n      <td>1</td>\n    </tr>\n  </tbody>\n</table>\n<p>28822 rows × 4 columns</p>\n</div>"
     },
     "execution_count": 21,
     "metadata": {},
     "output_type": "execute_result"
    }
   ],
   "source": [
    "double_dict = {}\n",
    "\n",
    "for i, row in behaviors.iterrows():\n",
    "\n",
    "    for article_id in row[\"article_ids_inview\"]:\n",
    "        if str(article_id) + \"-\" + str(row[\"bucket_id\"]) not in double_dict:\n",
    "            double_dict[str(article_id) + \"-\" + str(row[\"bucket_id\"])] = {\"article_id\": article_id, \"bucket_id\": row[\"bucket_id\"], \"clicks\": 0, \"impressions\": 0}\n",
    "        double_dict[str(article_id) + \"-\" + str(row[\"bucket_id\"])][\"impressions\"] += 1\n",
    "            \n",
    "    for article_id in row[\"article_ids_clicked\"]:\n",
    "        if str(article_id) + \"-\" + str(row[\"bucket_id\"]) not in double_dict:\n",
    "            double_dict[str(article_id) + \"-\" + str(row[\"bucket_id\"])] = {\"article_id\": article_id, \"bucket_id\": row[\"bucket_id\"], \"clicks\": 0, \"impressions\": 0}\n",
    "        double_dict[str(article_id) + \"-\" + str(row[\"bucket_id\"])][\"clicks\"] += 1\n",
    "        \n",
    "mergeimps = pd.DataFrame(double_dict.values())\n",
    "mergeimps"
   ],
   "metadata": {
    "collapsed": false,
    "ExecuteTime": {
     "end_time": "2024-06-11T11:09:49.103669Z",
     "start_time": "2024-06-11T11:09:44.259676Z"
    }
   },
   "id": "172234fcab92af51",
   "execution_count": 21
  },
  {
   "cell_type": "code",
   "outputs": [],
   "source": [
    "# mergeimps.to_excel(\"mergeimps.xlsx\", index=False)\n",
    "mergeimps.to_csv(\"mergeimps.tsv\", sep=\"\\t\", index=False, header=False)"
   ],
   "metadata": {
    "collapsed": false,
    "ExecuteTime": {
     "end_time": "2024-06-11T11:08:49.603716Z",
     "start_time": "2024-06-11T11:08:49.553722Z"
    }
   },
   "id": "a651d10a9ed15b60",
   "execution_count": 20
  },
  {
   "cell_type": "code",
   "outputs": [
    {
     "data": {
      "text/plain": "     article_id clicks impressions bucket_id      \n                   sum         sum   nunique count\n0       4721905      0           5         2     2\n1       5345489      0           1         1     1\n2       5986757      0          32        16    16\n3       6141159      0           1         1     1\n4       6141222      0           6         3     3\n...         ...    ...         ...       ...   ...\n2473    9780162      0           4         3     3\n2474    9780181     14         123         2     2\n2475    9780193      6         102         2     2\n2476    9780195      4          89         2     2\n2477    9780271      0          10         1     1\n\n[2478 rows x 5 columns]",
      "text/html": "<div>\n<style scoped>\n    .dataframe tbody tr th:only-of-type {\n        vertical-align: middle;\n    }\n\n    .dataframe tbody tr th {\n        vertical-align: top;\n    }\n\n    .dataframe thead tr th {\n        text-align: left;\n    }\n</style>\n<table border=\"1\" class=\"dataframe\">\n  <thead>\n    <tr>\n      <th></th>\n      <th>article_id</th>\n      <th>clicks</th>\n      <th>impressions</th>\n      <th colspan=\"2\" halign=\"left\">bucket_id</th>\n    </tr>\n    <tr>\n      <th></th>\n      <th></th>\n      <th>sum</th>\n      <th>sum</th>\n      <th>nunique</th>\n      <th>count</th>\n    </tr>\n  </thead>\n  <tbody>\n    <tr>\n      <th>0</th>\n      <td>4721905</td>\n      <td>0</td>\n      <td>5</td>\n      <td>2</td>\n      <td>2</td>\n    </tr>\n    <tr>\n      <th>1</th>\n      <td>5345489</td>\n      <td>0</td>\n      <td>1</td>\n      <td>1</td>\n      <td>1</td>\n    </tr>\n    <tr>\n      <th>2</th>\n      <td>5986757</td>\n      <td>0</td>\n      <td>32</td>\n      <td>16</td>\n      <td>16</td>\n    </tr>\n    <tr>\n      <th>3</th>\n      <td>6141159</td>\n      <td>0</td>\n      <td>1</td>\n      <td>1</td>\n      <td>1</td>\n    </tr>\n    <tr>\n      <th>4</th>\n      <td>6141222</td>\n      <td>0</td>\n      <td>6</td>\n      <td>3</td>\n      <td>3</td>\n    </tr>\n    <tr>\n      <th>...</th>\n      <td>...</td>\n      <td>...</td>\n      <td>...</td>\n      <td>...</td>\n      <td>...</td>\n    </tr>\n    <tr>\n      <th>2473</th>\n      <td>9780162</td>\n      <td>0</td>\n      <td>4</td>\n      <td>3</td>\n      <td>3</td>\n    </tr>\n    <tr>\n      <th>2474</th>\n      <td>9780181</td>\n      <td>14</td>\n      <td>123</td>\n      <td>2</td>\n      <td>2</td>\n    </tr>\n    <tr>\n      <th>2475</th>\n      <td>9780193</td>\n      <td>6</td>\n      <td>102</td>\n      <td>2</td>\n      <td>2</td>\n    </tr>\n    <tr>\n      <th>2476</th>\n      <td>9780195</td>\n      <td>4</td>\n      <td>89</td>\n      <td>2</td>\n      <td>2</td>\n    </tr>\n    <tr>\n      <th>2477</th>\n      <td>9780271</td>\n      <td>0</td>\n      <td>10</td>\n      <td>1</td>\n      <td>1</td>\n    </tr>\n  </tbody>\n</table>\n<p>2478 rows × 5 columns</p>\n</div>"
     },
     "execution_count": 16,
     "metadata": {},
     "output_type": "execute_result"
    }
   ],
   "source": [
    "# tests\n",
    "test = mergeimps.groupby(\"article_id\").agg({\"clicks\": \"sum\", \"impressions\": \"sum\", \"bucket_id\" :[\"nunique\", \"count\"]}).reset_index()\n",
    "test"
   ],
   "metadata": {
    "collapsed": false,
    "ExecuteTime": {
     "end_time": "2024-06-11T11:04:57.891533Z",
     "start_time": "2024-06-11T11:04:57.856531Z"
    }
   },
   "id": "7897ed47add52961",
   "execution_count": 16
  },
  {
   "cell_type": "markdown",
   "source": [
    "## Create V21UrlDocs22_title_json.tsv (necessary?)\n",
    "For implementing our method based on MIND, the \"V21UrlDocs22_title_json.tsv'' needs to store all news in the training/val/test set. Each line stores the information of a single news article, where format is based on \n",
    "\n",
    "[News_ID] TAB [Category] TAB [Subcategory] TAB [Title] TAB [Url] TAB [Abstract] TAB [Body].\n",
    " \n",
    "You can modify my codes to avoid the load of some unnecessary news data (e.g., Url, Abstract, and Body)"
   ],
   "metadata": {
    "collapsed": false
   },
   "id": "bc420c70a93f0f5c"
  },
  {
   "cell_type": "code",
   "outputs": [],
   "source": [],
   "metadata": {
    "collapsed": false,
    "ExecuteTime": {
     "end_time": "2024-06-11T11:00:58.284092Z",
     "start_time": "2024-06-11T11:00:58.270093Z"
    }
   },
   "id": "ff9badbe1552e75e",
   "execution_count": 8
  },
  {
   "cell_type": "markdown",
   "source": [
    "## Create train/val/test.tsv"
   ],
   "metadata": {
    "collapsed": false
   },
   "id": "ec16a8acea8728be"
  },
  {
   "cell_type": "code",
   "outputs": [],
   "source": [],
   "metadata": {
    "collapsed": false,
    "ExecuteTime": {
     "end_time": "2024-06-11T11:00:58.300093Z",
     "start_time": "2024-06-11T11:00:58.286097Z"
    }
   },
   "id": "28376853c0db5dea",
   "execution_count": 8
  }
 ],
 "metadata": {
  "kernelspec": {
   "display_name": "Python 3",
   "language": "python",
   "name": "python3"
  },
  "language_info": {
   "codemirror_mode": {
    "name": "ipython",
    "version": 2
   },
   "file_extension": ".py",
   "mimetype": "text/x-python",
   "name": "python",
   "nbconvert_exporter": "python",
   "pygments_lexer": "ipython2",
   "version": "2.7.6"
  }
 },
 "nbformat": 4,
 "nbformat_minor": 5
}
